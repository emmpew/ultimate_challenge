{
 "cells": [
  {
   "cell_type": "markdown",
   "metadata": {},
   "source": [
    "# Table Of Content\n",
    "***\n",
    "1. [Exploratory Data Analysis](#eda)\n",
    "2. [Experiment and Metrics Design](#metrics)\n",
    "3. [Predictive Modeling](#modeling)"
   ]
  },
  {
   "cell_type": "code",
   "execution_count": 1,
   "metadata": {},
   "outputs": [],
   "source": [
    "import pandas as pd\n",
    "import numpy as np\n",
    "import matplotlib.pyplot as plt\n",
    "import seaborn as sns\n",
    "%matplotlib inline"
   ]
  },
  {
   "cell_type": "markdown",
   "metadata": {},
   "source": [
    "## 1. EDA <a name=\"eda\"> </a>\n",
    "***\n",
    "Let's load the data and get the basic information."
   ]
  },
  {
   "cell_type": "code",
   "execution_count": 2,
   "metadata": {},
   "outputs": [
    {
     "data": {
      "text/html": [
       "<div>\n",
       "<style scoped>\n",
       "    .dataframe tbody tr th:only-of-type {\n",
       "        vertical-align: middle;\n",
       "    }\n",
       "\n",
       "    .dataframe tbody tr th {\n",
       "        vertical-align: top;\n",
       "    }\n",
       "\n",
       "    .dataframe thead th {\n",
       "        text-align: right;\n",
       "    }\n",
       "</style>\n",
       "<table border=\"1\" class=\"dataframe\">\n",
       "  <thead>\n",
       "    <tr style=\"text-align: right;\">\n",
       "      <th></th>\n",
       "      <th>login_time</th>\n",
       "    </tr>\n",
       "  </thead>\n",
       "  <tbody>\n",
       "    <tr>\n",
       "      <th>0</th>\n",
       "      <td>1970-01-01 20:13:18</td>\n",
       "    </tr>\n",
       "    <tr>\n",
       "      <th>1</th>\n",
       "      <td>1970-01-01 20:16:10</td>\n",
       "    </tr>\n",
       "    <tr>\n",
       "      <th>2</th>\n",
       "      <td>1970-01-01 20:16:37</td>\n",
       "    </tr>\n",
       "    <tr>\n",
       "      <th>3</th>\n",
       "      <td>1970-01-01 20:16:36</td>\n",
       "    </tr>\n",
       "    <tr>\n",
       "      <th>4</th>\n",
       "      <td>1970-01-01 20:26:21</td>\n",
       "    </tr>\n",
       "  </tbody>\n",
       "</table>\n",
       "</div>"
      ],
      "text/plain": [
       "           login_time\n",
       "0 1970-01-01 20:13:18\n",
       "1 1970-01-01 20:16:10\n",
       "2 1970-01-01 20:16:37\n",
       "3 1970-01-01 20:16:36\n",
       "4 1970-01-01 20:26:21"
      ]
     },
     "execution_count": 2,
     "metadata": {},
     "output_type": "execute_result"
    }
   ],
   "source": [
    "df = pd.read_json('logins.json')\n",
    "df.head()"
   ]
  },
  {
   "cell_type": "code",
   "execution_count": 3,
   "metadata": {},
   "outputs": [
    {
     "name": "stdout",
     "output_type": "stream",
     "text": [
      "<class 'pandas.core.frame.DataFrame'>\n",
      "Int64Index: 93142 entries, 0 to 93141\n",
      "Data columns (total 1 columns):\n",
      "login_time    93142 non-null datetime64[ns]\n",
      "dtypes: datetime64[ns](1)\n",
      "memory usage: 1.4 MB\n"
     ]
    }
   ],
   "source": [
    "df.info()"
   ]
  },
  {
   "cell_type": "code",
   "execution_count": 4,
   "metadata": {},
   "outputs": [
    {
     "data": {
      "text/plain": [
       "(93142, 1)"
      ]
     },
     "execution_count": 4,
     "metadata": {},
     "output_type": "execute_result"
    }
   ],
   "source": [
    "df.shape"
   ]
  },
  {
   "cell_type": "code",
   "execution_count": 5,
   "metadata": {},
   "outputs": [
    {
     "data": {
      "text/plain": [
       "login_time    0.0\n",
       "dtype: float64"
      ]
     },
     "execution_count": 5,
     "metadata": {},
     "output_type": "execute_result"
    }
   ],
   "source": [
    "df.isnull().sum()/len(df)*100"
   ]
  },
  {
   "cell_type": "markdown",
   "metadata": {},
   "source": [
    "The data has one column with 93,142 entries. There are no missing values and the datatype is datetime. "
   ]
  },
  {
   "cell_type": "code",
   "execution_count": 6,
   "metadata": {},
   "outputs": [],
   "source": [
    "df['count'] = 1"
   ]
  },
  {
   "cell_type": "code",
   "execution_count": 7,
   "metadata": {},
   "outputs": [
    {
     "data": {
      "text/html": [
       "<div>\n",
       "<style scoped>\n",
       "    .dataframe tbody tr th:only-of-type {\n",
       "        vertical-align: middle;\n",
       "    }\n",
       "\n",
       "    .dataframe tbody tr th {\n",
       "        vertical-align: top;\n",
       "    }\n",
       "\n",
       "    .dataframe thead th {\n",
       "        text-align: right;\n",
       "    }\n",
       "</style>\n",
       "<table border=\"1\" class=\"dataframe\">\n",
       "  <thead>\n",
       "    <tr style=\"text-align: right;\">\n",
       "      <th></th>\n",
       "      <th>login_time</th>\n",
       "      <th>count</th>\n",
       "    </tr>\n",
       "  </thead>\n",
       "  <tbody>\n",
       "    <tr>\n",
       "      <th>0</th>\n",
       "      <td>1970-01-01 20:13:18</td>\n",
       "      <td>1</td>\n",
       "    </tr>\n",
       "    <tr>\n",
       "      <th>1</th>\n",
       "      <td>1970-01-01 20:16:10</td>\n",
       "      <td>1</td>\n",
       "    </tr>\n",
       "    <tr>\n",
       "      <th>2</th>\n",
       "      <td>1970-01-01 20:16:37</td>\n",
       "      <td>1</td>\n",
       "    </tr>\n",
       "    <tr>\n",
       "      <th>3</th>\n",
       "      <td>1970-01-01 20:16:36</td>\n",
       "      <td>1</td>\n",
       "    </tr>\n",
       "    <tr>\n",
       "      <th>4</th>\n",
       "      <td>1970-01-01 20:26:21</td>\n",
       "      <td>1</td>\n",
       "    </tr>\n",
       "  </tbody>\n",
       "</table>\n",
       "</div>"
      ],
      "text/plain": [
       "           login_time  count\n",
       "0 1970-01-01 20:13:18      1\n",
       "1 1970-01-01 20:16:10      1\n",
       "2 1970-01-01 20:16:37      1\n",
       "3 1970-01-01 20:16:36      1\n",
       "4 1970-01-01 20:26:21      1"
      ]
     },
     "execution_count": 7,
     "metadata": {},
     "output_type": "execute_result"
    }
   ],
   "source": [
    "df.head()"
   ]
  },
  {
   "cell_type": "markdown",
   "metadata": {},
   "source": [
    "Now let's extract the time and set it as a column to be able to count the login times. The let's plot it and analyze the results."
   ]
  },
  {
   "cell_type": "code",
   "execution_count": 8,
   "metadata": {},
   "outputs": [
    {
     "data": {
      "text/plain": [
       "Text(0,0.5,'Count')"
      ]
     },
     "execution_count": 8,
     "metadata": {},
     "output_type": "execute_result"
    },
    {
     "data": {
      "image/png": "[encoded data removed]",
      "text/plain": [
       "<Figure size 1440x1080 with 1 Axes>"
      ]
     },
     "metadata": {},
     "output_type": "display_data"
    }
   ],
   "source": [
    "plt.figure(figsize=(20,15))\n",
    "df.set_index('login_time').resample('15min').count()['count'].plot()\n",
    "plt.title('Logins from January to April')\n",
    "plt.xlabel('15 Minute Intervals')\n",
    "plt.ylabel('Count')"
   ]
  },
  {
   "cell_type": "markdown",
   "metadata": {},
   "source": [
    "The graph is distributed from January to April of 1970. The highest amount of logins in a 15 minute interval was a bit more than 70 in one day and the minimum was 0. However, it's kind of complicated to draw more conclusions. So let's see what happens in 15 minute intervals per hour."
   ]
  },
  {
   "cell_type": "code",
   "execution_count": 9,
   "metadata": {},
   "outputs": [
    {
     "data": {
      "text/plain": [
       "Text(0,0.5,'count')"
      ]
     },
     "execution_count": 9,
     "metadata": {},
     "output_type": "execute_result"
    },
    {
     "data": {
      "image/png": "[encoded data removed]",
      "text/plain": [
       "<Figure size 1080x720 with 1 Axes>"
      ]
     },
     "metadata": {},
     "output_type": "display_data"
    }
   ],
   "source": [
    "a = df.set_index('login_time').resample('15min').count()\n",
    "plt.figure(figsize=(15,10))\n",
    "a.reset_index().groupby([df['login_time'].dt.hour]).sum()['count'].plot()\n",
    "plt.title('logins in 15 minute intervals per hour')\n",
    "plt.xlabel('hours')\n",
    "plt.ylabel('count')"
   ]
  },
  {
   "cell_type": "markdown",
   "metadata": {},
   "source": [
    "- Afternoon user start login in and peak during the day.\n",
    "- During the morning, users do not login as much.\n",
    "- Users are active to late hours. "
   ]
  },
  {
   "cell_type": "code",
   "execution_count": 10,
   "metadata": {},
   "outputs": [
    {
     "data": {
      "image/png": "[encoded data removed]",
      "text/plain": [
       "<Figure size 1080x720 with 1 Axes>"
      ]
     },
     "metadata": {},
     "output_type": "display_data"
    }
   ],
   "source": [
    "plt.figure(figsize=(15,10))\n",
    "w = df['login_time'].dt.weekday.value_counts().sort_index()\n",
    "ax = w.plot(marker='.',linestyle='none',markersize=25,visible=True)\n",
    "ax.set_xticklabels(['','Mon','Tue','Wed','Thur','Fri','Sat','Sun'])\n",
    "plt.title('Logins by weekday')\n",
    "plt.xlabel('Days of the week')\n",
    "plt.ylabel('Count')\n",
    "plt.margins(0.04)"
   ]
  },
  {
   "cell_type": "markdown",
   "metadata": {},
   "source": [
    "Monday had the least amount of logins and gradually increased until it peaked on Saturday.  "
   ]
  },
  {
   "cell_type": "code",
   "execution_count": 11,
   "metadata": {},
   "outputs": [
    {
     "data": {
      "image/png": "[encoded data removed]",
      "text/plain": [
       "<Figure size 1080x720 with 1 Axes>"
      ]
     },
     "metadata": {},
     "output_type": "display_data"
    }
   ],
   "source": [
    "plt.figure(figsize=(15,10))\n",
    "h = df['login_time'].dt.hour.value_counts().sort_index()\n",
    "ax2 = h.plot(marker='.',markersize=15,visible=True)\n",
    "plt.title('Number of logins per hour')\n",
    "plt.xlabel('Hours')\n",
    "plt.ylabel('Count')\n",
    "plt.margins(0.04)"
   ]
  },
  {
   "cell_type": "markdown",
   "metadata": {},
   "source": [
    "Looks really similar to the 15 minute interval. However, this would be the amount of logins per hour. The difference is that it peaks at night while in 15 minute intervals peaks during the afternoon. So it depends what is the best metric for the company. "
   ]
  },
  {
   "cell_type": "markdown",
   "metadata": {},
   "source": [
    "## 2. Experiment and metrics design <a name=\"metrics\"></a>\n",
    "***"
   ]
  },
  {
   "cell_type": "markdown",
   "metadata": {},
   "source": [
    "**Problem**:\n",
    "Currently, two-way toll, between the two cities causes driver partners to tend to be exclusive to each city.\n",
    "\n",
    "**Info**\n",
    "- On weekdays, City 1 active at night\n",
    "- On weekdays, City 2 active during day\n",
    "- On weekends, reasonable activity in both cities\n",
    "\n",
    "**Experiment**\n",
    "- Encourage driver partners to serve both cities by reimbursing all toll costs.\n",
    "\n",
    "**Solution**\n",
    "\n",
    "One of the key metrics that would encourage driver partners to serve both cities is *increase of rides per hour*. Demand varies during weekdays between both cities. If the drivers could avoid double toll, drivers could serve City 1 at night and City 2 during the day. Basically, moving to locations were demand is higher. \n",
    "\n",
    "A simple way to test if reimbursing tolls is a success would be to do an A/B study. Select a percentage of drivers to participate in the test and allow them to serve both cities. After a given time if the drivers that were reimbursed the tolls served more customers per hour, it means the drivers made more money per hour as well as the company.\n",
    "\n",
    "It would be important to compare the revenue that both groups generated minus the reimbursement and analyze if this is viable for the company. After getting the results, we would use a t-test to test for significance (p = 0.05) between each group. \n",
    "\n",
    "If this experiment is successful, it would increase the supply of drivers in each city when demand is high. For example, City 1 would have a high supply of drivers when demand is high which is weekdays at night to serve all potential customers. This would increase revenue for the company and increase salaries for drivers. As well, it would decrease the waiting time for customers since they would be paired quicker due to higher supply of drivers. "
   ]
  },
  {
   "cell_type": "markdown",
   "metadata": {},
   "source": [
    "## 3. Predictive modeling <a name=\"modeling\"></a>\n",
    "***"
   ]
  },
  {
   "cell_type": "code",
   "execution_count": 12,
   "metadata": {},
   "outputs": [
    {
     "data": {
      "text/html": [
       "<div>\n",
       "<style scoped>\n",
       "    .dataframe tbody tr th:only-of-type {\n",
       "        vertical-align: middle;\n",
       "    }\n",
       "\n",
       "    .dataframe tbody tr th {\n",
       "        vertical-align: top;\n",
       "    }\n",
       "\n",
       "    .dataframe thead th {\n",
       "        text-align: right;\n",
       "    }\n",
       "</style>\n",
       "<table border=\"1\" class=\"dataframe\">\n",
       "  <thead>\n",
       "    <tr style=\"text-align: right;\">\n",
       "      <th></th>\n",
       "      <th>avg_dist</th>\n",
       "      <th>avg_rating_by_driver</th>\n",
       "      <th>avg_rating_of_driver</th>\n",
       "      <th>avg_surge</th>\n",
       "      <th>city</th>\n",
       "      <th>last_trip_date</th>\n",
       "      <th>phone</th>\n",
       "      <th>signup_date</th>\n",
       "      <th>surge_pct</th>\n",
       "      <th>trips_in_first_30_days</th>\n",
       "      <th>ultimate_black_user</th>\n",
       "      <th>weekday_pct</th>\n",
       "    </tr>\n",
       "  </thead>\n",
       "  <tbody>\n",
       "    <tr>\n",
       "      <th>0</th>\n",
       "      <td>3.67</td>\n",
       "      <td>5.0</td>\n",
       "      <td>4.7</td>\n",
       "      <td>1.10</td>\n",
       "      <td>King's Landing</td>\n",
       "      <td>2014-06-17</td>\n",
       "      <td>iPhone</td>\n",
       "      <td>2014-01-25</td>\n",
       "      <td>15.4</td>\n",
       "      <td>4</td>\n",
       "      <td>True</td>\n",
       "      <td>46.2</td>\n",
       "    </tr>\n",
       "    <tr>\n",
       "      <th>1</th>\n",
       "      <td>8.26</td>\n",
       "      <td>5.0</td>\n",
       "      <td>5.0</td>\n",
       "      <td>1.00</td>\n",
       "      <td>Astapor</td>\n",
       "      <td>2014-05-05</td>\n",
       "      <td>Android</td>\n",
       "      <td>2014-01-29</td>\n",
       "      <td>0.0</td>\n",
       "      <td>0</td>\n",
       "      <td>False</td>\n",
       "      <td>50.0</td>\n",
       "    </tr>\n",
       "    <tr>\n",
       "      <th>2</th>\n",
       "      <td>0.77</td>\n",
       "      <td>5.0</td>\n",
       "      <td>4.3</td>\n",
       "      <td>1.00</td>\n",
       "      <td>Astapor</td>\n",
       "      <td>2014-01-07</td>\n",
       "      <td>iPhone</td>\n",
       "      <td>2014-01-06</td>\n",
       "      <td>0.0</td>\n",
       "      <td>3</td>\n",
       "      <td>False</td>\n",
       "      <td>100.0</td>\n",
       "    </tr>\n",
       "    <tr>\n",
       "      <th>3</th>\n",
       "      <td>2.36</td>\n",
       "      <td>4.9</td>\n",
       "      <td>4.6</td>\n",
       "      <td>1.14</td>\n",
       "      <td>King's Landing</td>\n",
       "      <td>2014-06-29</td>\n",
       "      <td>iPhone</td>\n",
       "      <td>2014-01-10</td>\n",
       "      <td>20.0</td>\n",
       "      <td>9</td>\n",
       "      <td>True</td>\n",
       "      <td>80.0</td>\n",
       "    </tr>\n",
       "    <tr>\n",
       "      <th>4</th>\n",
       "      <td>3.13</td>\n",
       "      <td>4.9</td>\n",
       "      <td>4.4</td>\n",
       "      <td>1.19</td>\n",
       "      <td>Winterfell</td>\n",
       "      <td>2014-03-15</td>\n",
       "      <td>Android</td>\n",
       "      <td>2014-01-27</td>\n",
       "      <td>11.8</td>\n",
       "      <td>14</td>\n",
       "      <td>False</td>\n",
       "      <td>82.4</td>\n",
       "    </tr>\n",
       "  </tbody>\n",
       "</table>\n",
       "</div>"
      ],
      "text/plain": [
       "   avg_dist  avg_rating_by_driver  avg_rating_of_driver  avg_surge  \\\n",
       "0      3.67                   5.0                   4.7       1.10   \n",
       "1      8.26                   5.0                   5.0       1.00   \n",
       "2      0.77                   5.0                   4.3       1.00   \n",
       "3      2.36                   4.9                   4.6       1.14   \n",
       "4      3.13                   4.9                   4.4       1.19   \n",
       "\n",
       "             city last_trip_date    phone signup_date  surge_pct  \\\n",
       "0  King's Landing     2014-06-17   iPhone  2014-01-25       15.4   \n",
       "1         Astapor     2014-05-05  Android  2014-01-29        0.0   \n",
       "2         Astapor     2014-01-07   iPhone  2014-01-06        0.0   \n",
       "3  King's Landing     2014-06-29   iPhone  2014-01-10       20.0   \n",
       "4      Winterfell     2014-03-15  Android  2014-01-27       11.8   \n",
       "\n",
       "   trips_in_first_30_days  ultimate_black_user  weekday_pct  \n",
       "0                       4                 True         46.2  \n",
       "1                       0                False         50.0  \n",
       "2                       3                False        100.0  \n",
       "3                       9                 True         80.0  \n",
       "4                      14                False         82.4  "
      ]
     },
     "execution_count": 12,
     "metadata": {},
     "output_type": "execute_result"
    }
   ],
   "source": [
    "import json\n",
    "\n",
    "file = open('ultimate_data_challenge.json', 'r')\n",
    "df = pd.DataFrame(json.load(file))\n",
    "file.close()\n",
    "df.head()"
   ]
  },
  {
   "cell_type": "code",
   "execution_count": 13,
   "metadata": {},
   "outputs": [
    {
     "data": {
      "text/plain": [
       "(50000, 12)"
      ]
     },
     "execution_count": 13,
     "metadata": {},
     "output_type": "execute_result"
    }
   ],
   "source": [
    "df.shape"
   ]
  },
  {
   "cell_type": "code",
   "execution_count": 14,
   "metadata": {},
   "outputs": [
    {
     "data": {
      "text/html": [
       "<div>\n",
       "<style scoped>\n",
       "    .dataframe tbody tr th:only-of-type {\n",
       "        vertical-align: middle;\n",
       "    }\n",
       "\n",
       "    .dataframe tbody tr th {\n",
       "        vertical-align: top;\n",
       "    }\n",
       "\n",
       "    .dataframe thead th {\n",
       "        text-align: right;\n",
       "    }\n",
       "</style>\n",
       "<table border=\"1\" class=\"dataframe\">\n",
       "  <thead>\n",
       "    <tr style=\"text-align: right;\">\n",
       "      <th></th>\n",
       "      <th>avg_dist</th>\n",
       "      <th>avg_rating_by_driver</th>\n",
       "      <th>avg_rating_of_driver</th>\n",
       "      <th>avg_surge</th>\n",
       "      <th>surge_pct</th>\n",
       "      <th>trips_in_first_30_days</th>\n",
       "      <th>weekday_pct</th>\n",
       "    </tr>\n",
       "  </thead>\n",
       "  <tbody>\n",
       "    <tr>\n",
       "      <th>count</th>\n",
       "      <td>50000.000000</td>\n",
       "      <td>49799.000000</td>\n",
       "      <td>41878.000000</td>\n",
       "      <td>50000.000000</td>\n",
       "      <td>50000.000000</td>\n",
       "      <td>50000.000000</td>\n",
       "      <td>50000.000000</td>\n",
       "    </tr>\n",
       "    <tr>\n",
       "      <th>mean</th>\n",
       "      <td>5.796827</td>\n",
       "      <td>4.778158</td>\n",
       "      <td>4.601559</td>\n",
       "      <td>1.074764</td>\n",
       "      <td>8.849536</td>\n",
       "      <td>2.278200</td>\n",
       "      <td>60.926084</td>\n",
       "    </tr>\n",
       "    <tr>\n",
       "      <th>std</th>\n",
       "      <td>5.707357</td>\n",
       "      <td>0.446652</td>\n",
       "      <td>0.617338</td>\n",
       "      <td>0.222336</td>\n",
       "      <td>19.958811</td>\n",
       "      <td>3.792684</td>\n",
       "      <td>37.081503</td>\n",
       "    </tr>\n",
       "    <tr>\n",
       "      <th>min</th>\n",
       "      <td>0.000000</td>\n",
       "      <td>1.000000</td>\n",
       "      <td>1.000000</td>\n",
       "      <td>1.000000</td>\n",
       "      <td>0.000000</td>\n",
       "      <td>0.000000</td>\n",
       "      <td>0.000000</td>\n",
       "    </tr>\n",
       "    <tr>\n",
       "      <th>25%</th>\n",
       "      <td>2.420000</td>\n",
       "      <td>4.700000</td>\n",
       "      <td>4.300000</td>\n",
       "      <td>1.000000</td>\n",
       "      <td>0.000000</td>\n",
       "      <td>0.000000</td>\n",
       "      <td>33.300000</td>\n",
       "    </tr>\n",
       "    <tr>\n",
       "      <th>50%</th>\n",
       "      <td>3.880000</td>\n",
       "      <td>5.000000</td>\n",
       "      <td>4.900000</td>\n",
       "      <td>1.000000</td>\n",
       "      <td>0.000000</td>\n",
       "      <td>1.000000</td>\n",
       "      <td>66.700000</td>\n",
       "    </tr>\n",
       "    <tr>\n",
       "      <th>75%</th>\n",
       "      <td>6.940000</td>\n",
       "      <td>5.000000</td>\n",
       "      <td>5.000000</td>\n",
       "      <td>1.050000</td>\n",
       "      <td>8.600000</td>\n",
       "      <td>3.000000</td>\n",
       "      <td>100.000000</td>\n",
       "    </tr>\n",
       "    <tr>\n",
       "      <th>max</th>\n",
       "      <td>160.960000</td>\n",
       "      <td>5.000000</td>\n",
       "      <td>5.000000</td>\n",
       "      <td>8.000000</td>\n",
       "      <td>100.000000</td>\n",
       "      <td>125.000000</td>\n",
       "      <td>100.000000</td>\n",
       "    </tr>\n",
       "  </tbody>\n",
       "</table>\n",
       "</div>"
      ],
      "text/plain": [
       "           avg_dist  avg_rating_by_driver  avg_rating_of_driver     avg_surge  \\\n",
       "count  50000.000000          49799.000000          41878.000000  50000.000000   \n",
       "mean       5.796827              4.778158              4.601559      1.074764   \n",
       "std        5.707357              0.446652              0.617338      0.222336   \n",
       "min        0.000000              1.000000              1.000000      1.000000   \n",
       "25%        2.420000              4.700000              4.300000      1.000000   \n",
       "50%        3.880000              5.000000              4.900000      1.000000   \n",
       "75%        6.940000              5.000000              5.000000      1.050000   \n",
       "max      160.960000              5.000000              5.000000      8.000000   \n",
       "\n",
       "          surge_pct  trips_in_first_30_days   weekday_pct  \n",
       "count  50000.000000            50000.000000  50000.000000  \n",
       "mean       8.849536                2.278200     60.926084  \n",
       "std       19.958811                3.792684     37.081503  \n",
       "min        0.000000                0.000000      0.000000  \n",
       "25%        0.000000                0.000000     33.300000  \n",
       "50%        0.000000                1.000000     66.700000  \n",
       "75%        8.600000                3.000000    100.000000  \n",
       "max      100.000000              125.000000    100.000000  "
      ]
     },
     "execution_count": 14,
     "metadata": {},
     "output_type": "execute_result"
    }
   ],
   "source": [
    "df.describe()"
   ]
  },
  {
   "cell_type": "code",
   "execution_count": 15,
   "metadata": {},
   "outputs": [
    {
     "name": "stdout",
     "output_type": "stream",
     "text": [
      "<class 'pandas.core.frame.DataFrame'>\n",
      "RangeIndex: 50000 entries, 0 to 49999\n",
      "Data columns (total 12 columns):\n",
      "avg_dist                  50000 non-null float64\n",
      "avg_rating_by_driver      49799 non-null float64\n",
      "avg_rating_of_driver      41878 non-null float64\n",
      "avg_surge                 50000 non-null float64\n",
      "city                      50000 non-null object\n",
      "last_trip_date            50000 non-null object\n",
      "phone                     49604 non-null object\n",
      "signup_date               50000 non-null object\n",
      "surge_pct                 50000 non-null float64\n",
      "trips_in_first_30_days    50000 non-null int64\n",
      "ultimate_black_user       50000 non-null bool\n",
      "weekday_pct               50000 non-null float64\n",
      "dtypes: bool(1), float64(6), int64(1), object(4)\n",
      "memory usage: 4.2+ MB\n"
     ]
    }
   ],
   "source": [
    "df.info()"
   ]
  },
  {
   "cell_type": "markdown",
   "metadata": {},
   "source": [
    "There are 50,000 entries with 12 different columns. "
   ]
  },
  {
   "cell_type": "code",
   "execution_count": 16,
   "metadata": {},
   "outputs": [
    {
     "data": {
      "text/plain": [
       "avg_dist                   0.000\n",
       "avg_rating_by_driver       0.402\n",
       "avg_rating_of_driver      16.244\n",
       "avg_surge                  0.000\n",
       "city                       0.000\n",
       "last_trip_date             0.000\n",
       "phone                      0.792\n",
       "signup_date                0.000\n",
       "surge_pct                  0.000\n",
       "trips_in_first_30_days     0.000\n",
       "ultimate_black_user        0.000\n",
       "weekday_pct                0.000\n",
       "dtype: float64"
      ]
     },
     "execution_count": 16,
     "metadata": {},
     "output_type": "execute_result"
    }
   ],
   "source": [
    "df.isnull().sum()/len(df)*100"
   ]
  },
  {
   "cell_type": "markdown",
   "metadata": {},
   "source": [
    "There are some missing values of ratings and phone used. Let's fill out with the average for ratings. For the phone, let's first check which platform is used more than the other."
   ]
  },
  {
   "cell_type": "code",
   "execution_count": 17,
   "metadata": {},
   "outputs": [],
   "source": [
    "df['avg_rating_by_driver'].fillna(df['avg_rating_by_driver'].mean(), inplace=True)\n",
    "df['avg_rating_of_driver'].fillna(df['avg_rating_of_driver'].mean(), inplace=True)"
   ]
  },
  {
   "cell_type": "code",
   "execution_count": 18,
   "metadata": {},
   "outputs": [
    {
     "data": {
      "text/plain": [
       "iPhone     34582\n",
       "Android    15022\n",
       "Name: phone, dtype: int64"
      ]
     },
     "execution_count": 18,
     "metadata": {},
     "output_type": "execute_result"
    }
   ],
   "source": [
    "df['phone'].value_counts()"
   ]
  },
  {
   "cell_type": "markdown",
   "metadata": {},
   "source": [
    "Looks like users tend to have an iphone more than android. Since it is only a 0.79%, let's just fill the missing values with the highest phone used."
   ]
  },
  {
   "cell_type": "code",
   "execution_count": 19,
   "metadata": {},
   "outputs": [],
   "source": [
    "df['phone'].fillna('iPhone', inplace=True)"
   ]
  },
  {
   "cell_type": "code",
   "execution_count": 20,
   "metadata": {},
   "outputs": [
    {
     "data": {
      "text/plain": [
       "avg_dist                  0.0\n",
       "avg_rating_by_driver      0.0\n",
       "avg_rating_of_driver      0.0\n",
       "avg_surge                 0.0\n",
       "city                      0.0\n",
       "last_trip_date            0.0\n",
       "phone                     0.0\n",
       "signup_date               0.0\n",
       "surge_pct                 0.0\n",
       "trips_in_first_30_days    0.0\n",
       "ultimate_black_user       0.0\n",
       "weekday_pct               0.0\n",
       "dtype: float64"
      ]
     },
     "execution_count": 20,
     "metadata": {},
     "output_type": "execute_result"
    }
   ],
   "source": [
    "df.isnull().sum()/len(df)*100"
   ]
  },
  {
   "cell_type": "markdown",
   "metadata": {},
   "source": [
    "Now that there are no missing values let's do some EDA to get a deeper understanding of the data."
   ]
  },
  {
   "cell_type": "code",
   "execution_count": 21,
   "metadata": {},
   "outputs": [
    {
     "data": {
      "image/png": "[encoded data removed]",
      "text/plain": [
       "<Figure size 1080x720 with 1 Axes>"
      ]
     },
     "metadata": {},
     "output_type": "display_data"
    }
   ],
   "source": [
    "plt.figure(figsize=(15,10))\n",
    "_ = plt.hist(df['avg_dist'].values,bins=300)"
   ]
  },
  {
   "cell_type": "markdown",
   "metadata": {},
   "source": [
    "The average distance in miles per trip was less than 20 miles. "
   ]
  },
  {
   "cell_type": "code",
   "execution_count": 22,
   "metadata": {},
   "outputs": [
    {
     "data": {
      "text/html": [
       "<div>\n",
       "<style scoped>\n",
       "    .dataframe tbody tr th:only-of-type {\n",
       "        vertical-align: middle;\n",
       "    }\n",
       "\n",
       "    .dataframe tbody tr th {\n",
       "        vertical-align: top;\n",
       "    }\n",
       "\n",
       "    .dataframe thead th {\n",
       "        text-align: right;\n",
       "    }\n",
       "</style>\n",
       "<table border=\"1\" class=\"dataframe\">\n",
       "  <thead>\n",
       "    <tr style=\"text-align: right;\">\n",
       "      <th></th>\n",
       "      <th>city</th>\n",
       "      <th>trips_in_first_30_days</th>\n",
       "    </tr>\n",
       "  </thead>\n",
       "  <tbody>\n",
       "    <tr>\n",
       "      <th>0</th>\n",
       "      <td>Astapor</td>\n",
       "      <td>32219</td>\n",
       "    </tr>\n",
       "    <tr>\n",
       "      <th>1</th>\n",
       "      <td>King's Landing</td>\n",
       "      <td>24957</td>\n",
       "    </tr>\n",
       "    <tr>\n",
       "      <th>2</th>\n",
       "      <td>Winterfell</td>\n",
       "      <td>56734</td>\n",
       "    </tr>\n",
       "  </tbody>\n",
       "</table>\n",
       "</div>"
      ],
      "text/plain": [
       "             city  trips_in_first_30_days\n",
       "0         Astapor                   32219\n",
       "1  King's Landing                   24957\n",
       "2      Winterfell                   56734"
      ]
     },
     "execution_count": 22,
     "metadata": {},
     "output_type": "execute_result"
    }
   ],
   "source": [
    "trips_city = df[['trips_in_first_30_days', 'city']].groupby('city').sum().reset_index()\n",
    "trips_city"
   ]
  },
  {
   "cell_type": "code",
   "execution_count": 23,
   "metadata": {},
   "outputs": [
    {
     "data": {
      "text/plain": [
       "Text(0.5,1,'Trips vs. City')"
      ]
     },
     "execution_count": 23,
     "metadata": {},
     "output_type": "execute_result"
    },
    {
     "data": {
      "image/png": "[encoded data removed]",
      "text/plain": [
       "<Figure size 432x288 with 1 Axes>"
      ]
     },
     "metadata": {},
     "output_type": "display_data"
    }
   ],
   "source": [
    "sns.barplot(x='city', y='trips_in_first_30_days', data=trips_city)\n",
    "plt.ylabel('Count of trips in first 30 Days')\n",
    "plt.xlabel('City')\n",
    "plt.title('Trips vs. City')"
   ]
  },
  {
   "cell_type": "markdown",
   "metadata": {},
   "source": [
    "Let's find out what was the last recorded date of the data. If the user has taken a trip in 6-months before our last recorded data point, they are considered a retained user."
   ]
  },
  {
   "cell_type": "code",
   "execution_count": 24,
   "metadata": {},
   "outputs": [
    {
     "data": {
      "text/plain": [
       "last_trip_date    2014-07-01\n",
       "dtype: object"
      ]
     },
     "execution_count": 24,
     "metadata": {},
     "output_type": "execute_result"
    }
   ],
   "source": [
    "df[['last_trip_date']].max()"
   ]
  },
  {
   "cell_type": "code",
   "execution_count": 25,
   "metadata": {},
   "outputs": [
    {
     "name": "stdout",
     "output_type": "stream",
     "text": [
      "Active users: 18804 \n",
      "Non-active users: 31196\n"
     ]
    }
   ],
   "source": [
    "print('Active users: {} \\nNon-active users: {}'.format(len(df[df['last_trip_date'] >= '2014-06-01']),\n",
    "                                                      len(df[df['last_trip_date'] < '2014-06-01'])))"
   ]
  },
  {
   "cell_type": "code",
   "execution_count": 26,
   "metadata": {},
   "outputs": [
    {
     "data": {
      "text/html": [
       "<div>\n",
       "<style scoped>\n",
       "    .dataframe tbody tr th:only-of-type {\n",
       "        vertical-align: middle;\n",
       "    }\n",
       "\n",
       "    .dataframe tbody tr th {\n",
       "        vertical-align: top;\n",
       "    }\n",
       "\n",
       "    .dataframe thead th {\n",
       "        text-align: right;\n",
       "    }\n",
       "</style>\n",
       "<table border=\"1\" class=\"dataframe\">\n",
       "  <thead>\n",
       "    <tr style=\"text-align: right;\">\n",
       "      <th></th>\n",
       "      <th>avg_dist</th>\n",
       "      <th>avg_rating_by_driver</th>\n",
       "      <th>avg_rating_of_driver</th>\n",
       "      <th>avg_surge</th>\n",
       "      <th>city</th>\n",
       "      <th>last_trip_date</th>\n",
       "      <th>phone</th>\n",
       "      <th>signup_date</th>\n",
       "      <th>surge_pct</th>\n",
       "      <th>trips_in_first_30_days</th>\n",
       "      <th>ultimate_black_user</th>\n",
       "      <th>weekday_pct</th>\n",
       "      <th>retained</th>\n",
       "    </tr>\n",
       "  </thead>\n",
       "  <tbody>\n",
       "    <tr>\n",
       "      <th>0</th>\n",
       "      <td>3.67</td>\n",
       "      <td>5.0</td>\n",
       "      <td>4.7</td>\n",
       "      <td>1.10</td>\n",
       "      <td>King's Landing</td>\n",
       "      <td>2014-06-17</td>\n",
       "      <td>iPhone</td>\n",
       "      <td>2014-01-25</td>\n",
       "      <td>15.4</td>\n",
       "      <td>4</td>\n",
       "      <td>True</td>\n",
       "      <td>46.2</td>\n",
       "      <td>1.0</td>\n",
       "    </tr>\n",
       "    <tr>\n",
       "      <th>1</th>\n",
       "      <td>8.26</td>\n",
       "      <td>5.0</td>\n",
       "      <td>5.0</td>\n",
       "      <td>1.00</td>\n",
       "      <td>Astapor</td>\n",
       "      <td>2014-05-05</td>\n",
       "      <td>Android</td>\n",
       "      <td>2014-01-29</td>\n",
       "      <td>0.0</td>\n",
       "      <td>0</td>\n",
       "      <td>False</td>\n",
       "      <td>50.0</td>\n",
       "      <td>0.0</td>\n",
       "    </tr>\n",
       "    <tr>\n",
       "      <th>2</th>\n",
       "      <td>0.77</td>\n",
       "      <td>5.0</td>\n",
       "      <td>4.3</td>\n",
       "      <td>1.00</td>\n",
       "      <td>Astapor</td>\n",
       "      <td>2014-01-07</td>\n",
       "      <td>iPhone</td>\n",
       "      <td>2014-01-06</td>\n",
       "      <td>0.0</td>\n",
       "      <td>3</td>\n",
       "      <td>False</td>\n",
       "      <td>100.0</td>\n",
       "      <td>0.0</td>\n",
       "    </tr>\n",
       "    <tr>\n",
       "      <th>3</th>\n",
       "      <td>2.36</td>\n",
       "      <td>4.9</td>\n",
       "      <td>4.6</td>\n",
       "      <td>1.14</td>\n",
       "      <td>King's Landing</td>\n",
       "      <td>2014-06-29</td>\n",
       "      <td>iPhone</td>\n",
       "      <td>2014-01-10</td>\n",
       "      <td>20.0</td>\n",
       "      <td>9</td>\n",
       "      <td>True</td>\n",
       "      <td>80.0</td>\n",
       "      <td>1.0</td>\n",
       "    </tr>\n",
       "    <tr>\n",
       "      <th>4</th>\n",
       "      <td>3.13</td>\n",
       "      <td>4.9</td>\n",
       "      <td>4.4</td>\n",
       "      <td>1.19</td>\n",
       "      <td>Winterfell</td>\n",
       "      <td>2014-03-15</td>\n",
       "      <td>Android</td>\n",
       "      <td>2014-01-27</td>\n",
       "      <td>11.8</td>\n",
       "      <td>14</td>\n",
       "      <td>False</td>\n",
       "      <td>82.4</td>\n",
       "      <td>0.0</td>\n",
       "    </tr>\n",
       "  </tbody>\n",
       "</table>\n",
       "</div>"
      ],
      "text/plain": [
       "   avg_dist  avg_rating_by_driver  avg_rating_of_driver  avg_surge  \\\n",
       "0      3.67                   5.0                   4.7       1.10   \n",
       "1      8.26                   5.0                   5.0       1.00   \n",
       "2      0.77                   5.0                   4.3       1.00   \n",
       "3      2.36                   4.9                   4.6       1.14   \n",
       "4      3.13                   4.9                   4.4       1.19   \n",
       "\n",
       "             city last_trip_date    phone signup_date  surge_pct  \\\n",
       "0  King's Landing     2014-06-17   iPhone  2014-01-25       15.4   \n",
       "1         Astapor     2014-05-05  Android  2014-01-29        0.0   \n",
       "2         Astapor     2014-01-07   iPhone  2014-01-06        0.0   \n",
       "3  King's Landing     2014-06-29   iPhone  2014-01-10       20.0   \n",
       "4      Winterfell     2014-03-15  Android  2014-01-27       11.8   \n",
       "\n",
       "   trips_in_first_30_days  ultimate_black_user  weekday_pct  retained  \n",
       "0                       4                 True         46.2       1.0  \n",
       "1                       0                False         50.0       0.0  \n",
       "2                       3                False        100.0       0.0  \n",
       "3                       9                 True         80.0       1.0  \n",
       "4                      14                False         82.4       0.0  "
      ]
     },
     "execution_count": 26,
     "metadata": {},
     "output_type": "execute_result"
    }
   ],
   "source": [
    "df['retained'] = np.nan\n",
    "df.loc[df['last_trip_date'] >= '2014-06-01', 'retained'] = 1\n",
    "df.loc[df['last_trip_date'] < '2014-06-01', 'retained'] = 0\n",
    "df.head()"
   ]
  },
  {
   "cell_type": "code",
   "execution_count": 27,
   "metadata": {},
   "outputs": [
    {
     "name": "stdout",
     "output_type": "stream",
     "text": [
      "Percentage of users retained: 37.608000000000004\n"
     ]
    }
   ],
   "source": [
    "print('Percentage of users retained: {}'.format((df['retained'].sum()/len(df)*100)))"
   ]
  },
  {
   "cell_type": "markdown",
   "metadata": {},
   "source": [
    "Now that we know the percentage of users retained let's prepare the data for doing the modeling."
   ]
  },
  {
   "cell_type": "code",
   "execution_count": 28,
   "metadata": {},
   "outputs": [
    {
     "data": {
      "text/html": [
       "<div>\n",
       "<style scoped>\n",
       "    .dataframe tbody tr th:only-of-type {\n",
       "        vertical-align: middle;\n",
       "    }\n",
       "\n",
       "    .dataframe tbody tr th {\n",
       "        vertical-align: top;\n",
       "    }\n",
       "\n",
       "    .dataframe thead th {\n",
       "        text-align: right;\n",
       "    }\n",
       "</style>\n",
       "<table border=\"1\" class=\"dataframe\">\n",
       "  <thead>\n",
       "    <tr style=\"text-align: right;\">\n",
       "      <th></th>\n",
       "      <th>avg_dist</th>\n",
       "      <th>avg_rating_by_driver</th>\n",
       "      <th>avg_rating_of_driver</th>\n",
       "      <th>avg_surge</th>\n",
       "      <th>last_trip_date</th>\n",
       "      <th>signup_date</th>\n",
       "      <th>surge_pct</th>\n",
       "      <th>trips_in_first_30_days</th>\n",
       "      <th>weekday_pct</th>\n",
       "      <th>retained</th>\n",
       "      <th>city_King's Landing</th>\n",
       "      <th>city_Winterfell</th>\n",
       "      <th>phone_iPhone</th>\n",
       "      <th>ultimate_black_user_True</th>\n",
       "    </tr>\n",
       "  </thead>\n",
       "  <tbody>\n",
       "    <tr>\n",
       "      <th>0</th>\n",
       "      <td>3.67</td>\n",
       "      <td>5.0</td>\n",
       "      <td>4.7</td>\n",
       "      <td>1.10</td>\n",
       "      <td>2014-06-17</td>\n",
       "      <td>2014-01-25</td>\n",
       "      <td>15.4</td>\n",
       "      <td>4</td>\n",
       "      <td>46.2</td>\n",
       "      <td>1.0</td>\n",
       "      <td>1</td>\n",
       "      <td>0</td>\n",
       "      <td>1</td>\n",
       "      <td>1</td>\n",
       "    </tr>\n",
       "    <tr>\n",
       "      <th>1</th>\n",
       "      <td>8.26</td>\n",
       "      <td>5.0</td>\n",
       "      <td>5.0</td>\n",
       "      <td>1.00</td>\n",
       "      <td>2014-05-05</td>\n",
       "      <td>2014-01-29</td>\n",
       "      <td>0.0</td>\n",
       "      <td>0</td>\n",
       "      <td>50.0</td>\n",
       "      <td>0.0</td>\n",
       "      <td>0</td>\n",
       "      <td>0</td>\n",
       "      <td>0</td>\n",
       "      <td>0</td>\n",
       "    </tr>\n",
       "    <tr>\n",
       "      <th>2</th>\n",
       "      <td>0.77</td>\n",
       "      <td>5.0</td>\n",
       "      <td>4.3</td>\n",
       "      <td>1.00</td>\n",
       "      <td>2014-01-07</td>\n",
       "      <td>2014-01-06</td>\n",
       "      <td>0.0</td>\n",
       "      <td>3</td>\n",
       "      <td>100.0</td>\n",
       "      <td>0.0</td>\n",
       "      <td>0</td>\n",
       "      <td>0</td>\n",
       "      <td>1</td>\n",
       "      <td>0</td>\n",
       "    </tr>\n",
       "    <tr>\n",
       "      <th>3</th>\n",
       "      <td>2.36</td>\n",
       "      <td>4.9</td>\n",
       "      <td>4.6</td>\n",
       "      <td>1.14</td>\n",
       "      <td>2014-06-29</td>\n",
       "      <td>2014-01-10</td>\n",
       "      <td>20.0</td>\n",
       "      <td>9</td>\n",
       "      <td>80.0</td>\n",
       "      <td>1.0</td>\n",
       "      <td>1</td>\n",
       "      <td>0</td>\n",
       "      <td>1</td>\n",
       "      <td>1</td>\n",
       "    </tr>\n",
       "    <tr>\n",
       "      <th>4</th>\n",
       "      <td>3.13</td>\n",
       "      <td>4.9</td>\n",
       "      <td>4.4</td>\n",
       "      <td>1.19</td>\n",
       "      <td>2014-03-15</td>\n",
       "      <td>2014-01-27</td>\n",
       "      <td>11.8</td>\n",
       "      <td>14</td>\n",
       "      <td>82.4</td>\n",
       "      <td>0.0</td>\n",
       "      <td>0</td>\n",
       "      <td>1</td>\n",
       "      <td>0</td>\n",
       "      <td>0</td>\n",
       "    </tr>\n",
       "  </tbody>\n",
       "</table>\n",
       "</div>"
      ],
      "text/plain": [
       "   avg_dist  avg_rating_by_driver  avg_rating_of_driver  avg_surge  \\\n",
       "0      3.67                   5.0                   4.7       1.10   \n",
       "1      8.26                   5.0                   5.0       1.00   \n",
       "2      0.77                   5.0                   4.3       1.00   \n",
       "3      2.36                   4.9                   4.6       1.14   \n",
       "4      3.13                   4.9                   4.4       1.19   \n",
       "\n",
       "  last_trip_date signup_date  surge_pct  trips_in_first_30_days  weekday_pct  \\\n",
       "0     2014-06-17  2014-01-25       15.4                       4         46.2   \n",
       "1     2014-05-05  2014-01-29        0.0                       0         50.0   \n",
       "2     2014-01-07  2014-01-06        0.0                       3        100.0   \n",
       "3     2014-06-29  2014-01-10       20.0                       9         80.0   \n",
       "4     2014-03-15  2014-01-27       11.8                      14         82.4   \n",
       "\n",
       "   retained  city_King's Landing  city_Winterfell  phone_iPhone  \\\n",
       "0       1.0                    1                0             1   \n",
       "1       0.0                    0                0             0   \n",
       "2       0.0                    0                0             1   \n",
       "3       1.0                    1                0             1   \n",
       "4       0.0                    0                1             0   \n",
       "\n",
       "   ultimate_black_user_True  \n",
       "0                         1  \n",
       "1                         0  \n",
       "2                         0  \n",
       "3                         1  \n",
       "4                         0  "
      ]
     },
     "execution_count": 28,
     "metadata": {},
     "output_type": "execute_result"
    }
   ],
   "source": [
    "df2 = pd.get_dummies(df, columns = ['city', 'phone', 'ultimate_black_user'],drop_first=True)\n",
    "df2.head()"
   ]
  },
  {
   "cell_type": "code",
   "execution_count": 29,
   "metadata": {},
   "outputs": [],
   "source": [
    "# df2['last_trip_date'] = pd.to_datetime(df2['last_trip_date'], format='%Y-%m-%d')\n",
    "# df2['signup_date'] = pd.to_datetime(df2['signup_date'], format='%Y-%m-%d') "
   ]
  },
  {
   "cell_type": "code",
   "execution_count": 30,
   "metadata": {},
   "outputs": [],
   "source": [
    "df2.drop(['signup_date','last_trip_date'], axis=1, inplace=True)"
   ]
  },
  {
   "cell_type": "code",
   "execution_count": 31,
   "metadata": {},
   "outputs": [],
   "source": [
    "int_feat = df2.dtypes[(df2.dtypes != 'float64')].index\n",
    "df2[int_feat] = df2[int_feat].astype(float)"
   ]
  },
  {
   "cell_type": "code",
   "execution_count": 32,
   "metadata": {},
   "outputs": [
    {
     "name": "stdout",
     "output_type": "stream",
     "text": [
      "<class 'pandas.core.frame.DataFrame'>\n",
      "RangeIndex: 50000 entries, 0 to 49999\n",
      "Data columns (total 12 columns):\n",
      "avg_dist                    50000 non-null float64\n",
      "avg_rating_by_driver        50000 non-null float64\n",
      "avg_rating_of_driver        50000 non-null float64\n",
      "avg_surge                   50000 non-null float64\n",
      "surge_pct                   50000 non-null float64\n",
      "trips_in_first_30_days      50000 non-null float64\n",
      "weekday_pct                 50000 non-null float64\n",
      "retained                    50000 non-null float64\n",
      "city_King's Landing         50000 non-null float64\n",
      "city_Winterfell             50000 non-null float64\n",
      "phone_iPhone                50000 non-null float64\n",
      "ultimate_black_user_True    50000 non-null float64\n",
      "dtypes: float64(12)\n",
      "memory usage: 4.6 MB\n"
     ]
    }
   ],
   "source": [
    "df2.info()"
   ]
  },
  {
   "cell_type": "markdown",
   "metadata": {},
   "source": [
    "Now that all the columns are numerical values and converted to floats let's split our data in 70-30."
   ]
  },
  {
   "cell_type": "code",
   "execution_count": 33,
   "metadata": {},
   "outputs": [],
   "source": [
    "X = df2.drop('retained', axis=1)\n",
    "y = df2['retained']"
   ]
  },
  {
   "cell_type": "code",
   "execution_count": 34,
   "metadata": {},
   "outputs": [
    {
     "data": {
      "text/plain": [
       "array([[ -3.72650244e-01,   4.97683632e-01,   1.74240305e-01, ...,\n",
       "         -9.35514574e-01,   6.55339570e-01,   1.28528485e+00],\n",
       "       [  4.31582983e-01,   4.97683632e-01,   7.05241067e-01, ...,\n",
       "         -9.35514574e-01,  -1.52592647e+00,  -7.78037647e-01],\n",
       "       [ -8.80771455e-01,   4.97683632e-01,  -5.33760712e-01, ...,\n",
       "         -9.35514574e-01,   6.55339570e-01,  -7.78037647e-01],\n",
       "       ..., \n",
       "       [ -3.39359544e-01,   4.97683632e-01,   7.05241067e-01, ...,\n",
       "          1.06893043e+00,  -1.52592647e+00,   1.28528485e+00],\n",
       "       [ -2.13205312e-01,  -2.86744158e+00,  -2.83476401e+00, ...,\n",
       "         -9.35514574e-01,   6.55339570e-01,  -7.78037647e-01],\n",
       "       [ -4.04188802e-01,   4.97683632e-01,  -2.76685738e-13, ...,\n",
       "         -9.35514574e-01,  -1.52592647e+00,  -7.78037647e-01]])"
      ]
     },
     "execution_count": 34,
     "metadata": {},
     "output_type": "execute_result"
    }
   ],
   "source": [
    "from sklearn.preprocessing import StandardScaler\n",
    "scaler = StandardScaler()\n",
    "scaled_features = scaler.fit_transform(X)\n",
    "scaled_features"
   ]
  },
  {
   "cell_type": "code",
   "execution_count": 35,
   "metadata": {},
   "outputs": [],
   "source": [
    "from sklearn.model_selection import train_test_split\n",
    "X_train, X_test, y_train, y_test = train_test_split(scaled_features, y, test_size = 0.3, random_state = 42)"
   ]
  },
  {
   "cell_type": "markdown",
   "metadata": {},
   "source": [
    "Let's try several algorithms and see which gives the best result."
   ]
  },
  {
   "cell_type": "code",
   "execution_count": 36,
   "metadata": {},
   "outputs": [
    {
     "name": "stderr",
     "output_type": "stream",
     "text": [
      "Using TensorFlow backend.\n"
     ]
    }
   ],
   "source": [
    "from sklearn.preprocessing import StandardScaler, MinMaxScaler\n",
    "\n",
    "from sklearn.model_selection import GridSearchCV, train_test_split, cross_val_score\n",
    "from sklearn.pipeline import Pipeline\n",
    "\n",
    "from sklearn.neighbors import KNeighborsClassifier\n",
    "from sklearn.linear_model import LogisticRegression\n",
    "from sklearn.naive_bayes import MultinomialNB\n",
    "from sklearn.svm import SVC\n",
    "from sklearn.tree import DecisionTreeClassifier\n",
    "from sklearn.ensemble import RandomForestClassifier\n",
    "\n",
    "from keras.utils import to_categorical\n",
    "from keras.models import Sequential\n",
    "from keras.layers import Dense\n",
    "from keras.wrappers.scikit_learn import KerasClassifier\n",
    "\n",
    "from sklearn.metrics import confusion_matrix, classification_report, f1_score"
   ]
  },
  {
   "cell_type": "code",
   "execution_count": 37,
   "metadata": {},
   "outputs": [],
   "source": [
    "def results(X_test,y_test,y_pred,model):\n",
    "    print(\"#####################\")\n",
    "    print(\"Test data\")\n",
    "    print(\"#####################\")\n",
    "    print(\"Model Accuracy: {:.2f}%\".format(100*model.score(X_test, y_test)))\n",
    "    print(\"#####################\")\n",
    "    print(\"F1 Score: \", f1_score(y_test, y_pred))\n",
    "    print(\"#####################\")\n",
    "    print(classification_report(y_test, y_pred))\n",
    "    print(\"#####################\")\n",
    "    conf_matrix = confusion_matrix(y_test, y_pred)\n",
    "    df_cm = pd.DataFrame(conf_matrix, range(2),range(2))\n",
    "    sns.set(font_scale=1.4) #for label size\n",
    "    sns.heatmap(df_cm, cmap='Blues',annot=True,annot_kws={\"size\": 36},fmt='g')"
   ]
  },
  {
   "cell_type": "markdown",
   "metadata": {},
   "source": [
    "### Logistic Regression\n",
    "***"
   ]
  },
  {
   "cell_type": "code",
   "execution_count": 38,
   "metadata": {},
   "outputs": [
    {
     "name": "stdout",
     "output_type": "stream",
     "text": [
      "CPU times: user 2.75 s, sys: 309 ms, total: 3.06 s\n",
      "Wall time: 1.7 s\n"
     ]
    },
    {
     "data": {
      "text/plain": [
       "GridSearchCV(cv=3, error_score='raise',\n",
       "       estimator=LogisticRegression(C=1.0, class_weight=None, dual=False, fit_intercept=True,\n",
       "          intercept_scaling=1, max_iter=100, multi_class='ovr', n_jobs=1,\n",
       "          penalty='l2', random_state=None, solver='liblinear', tol=0.0001,\n",
       "          verbose=0, warm_start=False),\n",
       "       fit_params=None, iid=True, n_jobs=1,\n",
       "       param_grid={'C': [0.0001, 0.001, 0.01, 0.1, 1, 10, 100]},\n",
       "       pre_dispatch='2*n_jobs', refit=True, return_train_score='warn',\n",
       "       scoring='accuracy', verbose=0)"
      ]
     },
     "execution_count": 38,
     "metadata": {},
     "output_type": "execute_result"
    }
   ],
   "source": [
    "param = {'C': [0.0001,0.001,0.01,0.1,1,10,100]}\n",
    "\n",
    "log_cv = GridSearchCV(LogisticRegression(),param,cv=3,scoring='accuracy')\n",
    "%time log_cv.fit(X_train,y_train)"
   ]
  },
  {
   "cell_type": "code",
   "execution_count": 39,
   "metadata": {},
   "outputs": [
    {
     "name": "stdout",
     "output_type": "stream",
     "text": [
      "CPU times: user 2.19 ms, sys: 1.26 ms, total: 3.44 ms\n",
      "Wall time: 2.55 ms\n",
      "Best Parameters: {'C': 0.0001}\n",
      "Best score is 0.7209142857142857\n"
     ]
    }
   ],
   "source": [
    "%time y_pred = log_cv.predict(X_test)\n",
    "\n",
    "print(\"Best Parameters: {}\".format(log_cv.best_params_)) \n",
    "print(\"Best score is {}\".format(log_cv.best_score_))"
   ]
  },
  {
   "cell_type": "code",
   "execution_count": 40,
   "metadata": {},
   "outputs": [
    {
     "name": "stdout",
     "output_type": "stream",
     "text": [
      "#####################\n",
      "Test data\n",
      "#####################\n",
      "Model Accuracy: 71.90%\n",
      "#####################\n",
      "F1 Score:  0.565687789799\n",
      "#####################\n",
      "             precision    recall  f1-score   support\n",
      "\n",
      "        0.0       0.74      0.86      0.79      9379\n",
      "        1.0       0.67      0.49      0.57      5621\n",
      "\n",
      "avg / total       0.71      0.72      0.71     15000\n",
      "\n",
      "#####################\n"
     ]
    },
    {
     "data": {
      "image/png": "[encoded data removed]",
      "text/plain": [
       "<Figure size 432x288 with 2 Axes>"
      ]
     },
     "metadata": {},
     "output_type": "display_data"
    }
   ],
   "source": [
    "results(X_test,y_test,y_pred,log_cv)"
   ]
  },
  {
   "cell_type": "code",
   "execution_count": null,
   "metadata": {},
   "outputs": [],
   "source": []
  },
  {
   "cell_type": "markdown",
   "metadata": {},
   "source": [
    "### SVM\n",
    "***"
   ]
  },
  {
   "cell_type": "code",
   "execution_count": 41,
   "metadata": {},
   "outputs": [
    {
     "name": "stdout",
     "output_type": "stream",
     "text": [
      "Fitting 3 folds for each of 4 candidates, totalling 12 fits\n",
      "[CV] C=0.01, kernel=linear ...........................................\n",
      "[CV] .. C=0.01, kernel=linear, score=0.6936921494686321, total=  16.8s\n",
      "[CV] C=0.01, kernel=linear ...........................................\n"
     ]
    },
    {
     "name": "stderr",
     "output_type": "stream",
     "text": [
      "[Parallel(n_jobs=1)]: Done   1 out of   1 | elapsed:   21.5s remaining:    0.0s\n"
     ]
    },
    {
     "name": "stdout",
     "output_type": "stream",
     "text": [
      "[CV] .. C=0.01, kernel=linear, score=0.6993828218755358, total=  15.6s\n",
      "[CV] C=0.01, kernel=linear ...........................................\n"
     ]
    },
    {
     "name": "stderr",
     "output_type": "stream",
     "text": [
      "[Parallel(n_jobs=1)]: Done   2 out of   2 | elapsed:   41.9s remaining:    0.0s\n"
     ]
    },
    {
     "name": "stdout",
     "output_type": "stream",
     "text": [
      "[CV] .. C=0.01, kernel=linear, score=0.6903823075604321, total=  16.0s\n",
      "[CV] C=0.1, kernel=linear ............................................\n",
      "[CV] ... C=0.1, kernel=linear, score=0.6938635584504628, total=  18.2s\n",
      "[CV] C=0.1, kernel=linear ............................................\n",
      "[CV] .... C=0.1, kernel=linear, score=0.700582890450883, total=  16.1s\n",
      "[CV] C=0.1, kernel=linear ............................................\n",
      "[CV] ... C=0.1, kernel=linear, score=0.6904680267443853, total=  17.3s\n",
      "[CV] C=1, kernel=linear ..............................................\n",
      "[CV] ..... C=1, kernel=linear, score=0.6938635584504628, total=  30.7s\n",
      "[CV] C=1, kernel=linear ..............................................\n",
      "[CV] ..... C=1, kernel=linear, score=0.7004114520829762, total=  31.4s\n",
      "[CV] C=1, kernel=linear ..............................................\n",
      "[CV] ..... C=1, kernel=linear, score=0.6908966226641522, total=  30.1s\n",
      "[CV] C=10, kernel=linear .............................................\n",
      "[CV] .... C=10, kernel=linear, score=0.6937778539595475, total= 5.1min\n",
      "[CV] C=10, kernel=linear .............................................\n",
      "[CV] .... C=10, kernel=linear, score=0.7004971712669296, total= 2.0min\n",
      "[CV] C=10, kernel=linear .............................................\n",
      "[CV] .... C=10, kernel=linear, score=0.6908966226641522, total= 1.6min\n"
     ]
    },
    {
     "name": "stderr",
     "output_type": "stream",
     "text": [
      "[Parallel(n_jobs=1)]: Done  12 out of  12 | elapsed: 13.0min finished\n"
     ]
    },
    {
     "name": "stdout",
     "output_type": "stream",
     "text": [
      "CPU times: user 13min 29s, sys: 9.41 s, total: 13min 38s\n",
      "Wall time: 13min 55s\n"
     ]
    },
    {
     "data": {
      "text/plain": [
       "GridSearchCV(cv=3, error_score='raise',\n",
       "       estimator=SVC(C=1.0, cache_size=200, class_weight=None, coef0=0.0,\n",
       "  decision_function_shape='ovr', degree=3, gamma='auto', kernel='rbf',\n",
       "  max_iter=-1, probability=False, random_state=None, shrinking=True,\n",
       "  tol=0.001, verbose=False),\n",
       "       fit_params=None, iid=True, n_jobs=1,\n",
       "       param_grid=[{'C': [0.01, 0.1, 1, 10], 'kernel': ['linear']}],\n",
       "       pre_dispatch='2*n_jobs', refit=True, return_train_score='warn',\n",
       "       scoring='accuracy', verbose=3)"
      ]
     },
     "execution_count": 41,
     "metadata": {},
     "output_type": "execute_result"
    }
   ],
   "source": [
    "params = [\n",
    "  {'C': [0.01,0.1,1, 10], 'kernel': ['linear']}\n",
    " ]\n",
    "\n",
    "svm_cv = GridSearchCV(SVC(),params,cv=3,scoring='accuracy',verbose=3)\n",
    "%time svm_cv.fit(X_train,y_train)"
   ]
  },
  {
   "cell_type": "code",
   "execution_count": 42,
   "metadata": {},
   "outputs": [
    {
     "name": "stdout",
     "output_type": "stream",
     "text": [
      "CPU times: user 4.79 s, sys: 55.2 ms, total: 4.85 s\n",
      "Wall time: 4.88 s\n",
      "Best Parameters: {'C': 1, 'kernel': 'linear'}\n",
      "Best score is 0.6950571428571428\n"
     ]
    }
   ],
   "source": [
    "%time y_pred = svm_cv.predict(X_test)\n",
    "\n",
    "print(\"Best Parameters: {}\".format(svm_cv.best_params_)) \n",
    "print(\"Best score is {}\".format(svm_cv.best_score_))"
   ]
  },
  {
   "cell_type": "code",
   "execution_count": 43,
   "metadata": {},
   "outputs": [
    {
     "name": "stdout",
     "output_type": "stream",
     "text": [
      "#####################\n",
      "Test data\n",
      "#####################\n",
      "Model Accuracy: 69.44%\n",
      "#####################\n",
      "F1 Score:  0.505074497949\n",
      "#####################\n",
      "             precision    recall  f1-score   support\n",
      "\n",
      "        0.0       0.71      0.86      0.78      9379\n",
      "        1.0       0.64      0.42      0.51      5621\n",
      "\n",
      "avg / total       0.69      0.69      0.68     15000\n",
      "\n",
      "#####################\n"
     ]
    },
    {
     "data": {
      "image/png": "[encoded data removed]",
      "text/plain": [
       "<Figure size 432x288 with 2 Axes>"
      ]
     },
     "metadata": {},
     "output_type": "display_data"
    }
   ],
   "source": [
    "results(X_test,y_test,y_pred,svm_cv)"
   ]
  },
  {
   "cell_type": "markdown",
   "metadata": {},
   "source": [
    "### Random Forests\n",
    "***"
   ]
  },
  {
   "cell_type": "code",
   "execution_count": 44,
   "metadata": {},
   "outputs": [
    {
     "name": "stdout",
     "output_type": "stream",
     "text": [
      "Fitting 3 folds for each of 4 candidates, totalling 12 fits\n",
      "[CV] max_features=auto, n_estimators=5 ...............................\n",
      "[CV]  max_features=auto, n_estimators=5, score=0.7440006856359274, total=   0.2s\n",
      "[CV] max_features=auto, n_estimators=5 ...............................\n",
      "[CV]  max_features=auto, n_estimators=5, score=0.7376135779187382, total=   0.1s\n",
      "[CV] max_features=auto, n_estimators=5 ...............................\n"
     ]
    },
    {
     "name": "stderr",
     "output_type": "stream",
     "text": [
      "[Parallel(n_jobs=1)]: Done   1 out of   1 | elapsed:    0.2s remaining:    0.0s\n",
      "[Parallel(n_jobs=1)]: Done   2 out of   2 | elapsed:    0.4s remaining:    0.0s\n"
     ]
    },
    {
     "name": "stdout",
     "output_type": "stream",
     "text": [
      "[CV]  max_features=auto, n_estimators=5, score=0.7404423109891994, total=   0.2s\n",
      "[CV] max_features=auto, n_estimators=10 ..............................\n",
      "[CV]  max_features=auto, n_estimators=10, score=0.7520569077819678, total=   0.3s\n",
      "[CV] max_features=auto, n_estimators=10 ..............................\n",
      "[CV]  max_features=auto, n_estimators=10, score=0.7516715240870907, total=   0.3s\n",
      "[CV] max_features=auto, n_estimators=10 ..............................\n",
      "[CV]  max_features=auto, n_estimators=10, score=0.7483284759129093, total=   0.3s\n",
      "[CV] max_features=auto, n_estimators=15 ..............................\n",
      "[CV]  max_features=auto, n_estimators=15, score=0.7557422008913267, total=   0.5s\n",
      "[CV] max_features=auto, n_estimators=15 ..............................\n",
      "[CV]  max_features=auto, n_estimators=15, score=0.7513286473512772, total=   0.6s\n",
      "[CV] max_features=auto, n_estimators=15 ..............................\n",
      "[CV]  max_features=auto, n_estimators=15, score=0.7499571404080233, total=   0.4s\n",
      "[CV] max_features=auto, n_estimators=20 ..............................\n",
      "[CV]  max_features=auto, n_estimators=20, score=0.756085018854988, total=   0.5s\n",
      "[CV] max_features=auto, n_estimators=20 ..............................\n",
      "[CV]  max_features=auto, n_estimators=20, score=0.7529573118463913, total=   0.5s\n",
      "[CV] max_features=auto, n_estimators=20 ..............................\n",
      "[CV]  max_features=auto, n_estimators=20, score=0.7533859077661581, total=   0.6s\n"
     ]
    },
    {
     "name": "stderr",
     "output_type": "stream",
     "text": [
      "[Parallel(n_jobs=1)]: Done  12 out of  12 | elapsed:    5.3s finished\n"
     ]
    },
    {
     "name": "stdout",
     "output_type": "stream",
     "text": [
      "CPU times: user 5.7 s, sys: 277 ms, total: 5.98 s\n",
      "Wall time: 6.09 s\n"
     ]
    },
    {
     "data": {
      "text/plain": [
       "GridSearchCV(cv=3, error_score='raise',\n",
       "       estimator=RandomForestClassifier(bootstrap=True, class_weight=None, criterion='gini',\n",
       "            max_depth=None, max_features='auto', max_leaf_nodes=None,\n",
       "            min_impurity_decrease=0.0, min_impurity_split=None,\n",
       "            min_samples_leaf=1, min_samples_split=2,\n",
       "            min_weight_fraction_leaf=0.0, n_estimators=10, n_jobs=1,\n",
       "            oob_score=False, random_state=None, verbose=0,\n",
       "            warm_start=False),\n",
       "       fit_params=None, iid=True, n_jobs=1,\n",
       "       param_grid={'max_features': ['auto'], 'n_estimators': [5, 10, 15, 20]},\n",
       "       pre_dispatch='2*n_jobs', refit=True, return_train_score='warn',\n",
       "       scoring='accuracy', verbose=3)"
      ]
     },
     "execution_count": 44,
     "metadata": {},
     "output_type": "execute_result"
    }
   ],
   "source": [
    "params = {'max_features': ['auto'],\n",
    "          'n_estimators': [5, 10, 15, 20]}\n",
    "\n",
    "forest_cv = GridSearchCV(RandomForestClassifier(),params,cv=3,\n",
    "                         scoring='accuracy',verbose=3)\n",
    "%time forest_cv.fit(X_train,y_train)"
   ]
  },
  {
   "cell_type": "code",
   "execution_count": 45,
   "metadata": {},
   "outputs": [
    {
     "name": "stdout",
     "output_type": "stream",
     "text": [
      "CPU times: user 84 ms, sys: 6.69 ms, total: 90.7 ms\n",
      "Wall time: 89.4 ms\n",
      "Best Parameters: {'max_features': 'auto', 'n_estimators': 20}\n",
      "Best score is 0.7541428571428571\n"
     ]
    }
   ],
   "source": [
    "%time y_pred = forest_cv.predict(X_test)\n",
    "\n",
    "print(\"Best Parameters: {}\".format(forest_cv.best_params_)) \n",
    "print(\"Best score is {}\".format(forest_cv.best_score_))"
   ]
  },
  {
   "cell_type": "code",
   "execution_count": 46,
   "metadata": {},
   "outputs": [
    {
     "name": "stdout",
     "output_type": "stream",
     "text": [
      "#####################\n",
      "Test data\n",
      "#####################\n",
      "Model Accuracy: 74.95%\n",
      "#####################\n",
      "F1 Score:  0.65642432556\n",
      "#####################\n",
      "             precision    recall  f1-score   support\n",
      "\n",
      "        0.0       0.79      0.82      0.80      9379\n",
      "        1.0       0.68      0.64      0.66      5621\n",
      "\n",
      "avg / total       0.75      0.75      0.75     15000\n",
      "\n",
      "#####################\n"
     ]
    },
    {
     "data": {
      "image/png": "[encoded data removed]",
      "text/plain": [
       "<Figure size 432x288 with 2 Axes>"
      ]
     },
     "metadata": {},
     "output_type": "display_data"
    }
   ],
   "source": [
    "results(X_test,y_test,y_pred,forest_cv)"
   ]
  },
  {
   "cell_type": "markdown",
   "metadata": {},
   "source": [
    "### Neural Network\n",
    "***"
   ]
  },
  {
   "cell_type": "code",
   "execution_count": 54,
   "metadata": {},
   "outputs": [],
   "source": [
    "n_cols = X_train.shape[1]\n",
    "input_shape=(n_cols,)\n",
    "y_train_matrix = to_categorical(y_train)\n",
    "y_test_matrix = to_categorical(y_test)"
   ]
  },
  {
   "cell_type": "code",
   "execution_count": 60,
   "metadata": {},
   "outputs": [],
   "source": [
    "def neural_network_results(y_test,y_pred):\n",
    "    print(\"#####################\")\n",
    "    print(\"Test data\")\n",
    "    print(\"#####################\")\n",
    "    print(classification_report(y_test, y_pred))\n",
    "    print(\"#####################\")\n",
    "    conf_matrix = confusion_matrix(y_test, y_pred)\n",
    "    df_cm = pd.DataFrame(conf_matrix, range(2),range(2))\n",
    "    sns.set(font_scale=1.4) #for label size\n",
    "    sns.heatmap(df_cm, cmap='Blues',annot=True,annot_kws={\"size\": 36},fmt='g')"
   ]
  },
  {
   "cell_type": "code",
   "execution_count": 49,
   "metadata": {},
   "outputs": [],
   "source": [
    "def build_model(optimizer):\n",
    "    model = Sequential()\n",
    "    model.add(Dense(8,activation='relu',input_shape = input_shape))\n",
    "    model.add(Dense(2, activation='softmax'))\n",
    "    model.compile(loss='binary_crossentropy',\n",
    "             optimizer=optimizer,\n",
    "             metrics=['accuracy'])\n",
    "    return model"
   ]
  },
  {
   "cell_type": "code",
   "execution_count": 50,
   "metadata": {},
   "outputs": [],
   "source": [
    "estimator = KerasClassifier(build_model)"
   ]
  },
  {
   "cell_type": "code",
   "execution_count": 56,
   "metadata": {},
   "outputs": [],
   "source": [
    "params = {'epochs': [30],\n",
    "          'optimizer': ['adam', 'rmsprop']}\n",
    "\n",
    "keras_cv = GridSearchCV(estimator,params,cv=3)"
   ]
  },
  {
   "cell_type": "code",
   "execution_count": 57,
   "metadata": {},
   "outputs": [
    {
     "name": "stdout",
     "output_type": "stream",
     "text": [
      "Epoch 1/30\n",
      "23333/23333 [==============================] - 3s 126us/step - loss: 0.5750 - acc: 0.7073\n",
      "Epoch 2/30\n",
      "23333/23333 [==============================] - 3s 108us/step - loss: 0.5306 - acc: 0.7420\n",
      "Epoch 3/30\n",
      "23333/23333 [==============================] - 3s 108us/step - loss: 0.5184 - acc: 0.7514\n",
      "Epoch 4/30\n",
      "23333/23333 [==============================] - 2s 98us/step - loss: 0.5103 - acc: 0.7556\n",
      "Epoch 5/30\n",
      "23333/23333 [==============================] - 2s 97us/step - loss: 0.5057 - acc: 0.7595\n",
      "Epoch 6/30\n",
      "23333/23333 [==============================] - 2s 99us/step - loss: 0.5023 - acc: 0.7628\n",
      "Epoch 7/30\n",
      "23333/23333 [==============================] - 3s 109us/step - loss: 0.5000 - acc: 0.7636\n",
      "Epoch 8/30\n",
      "23333/23333 [==============================] - 3s 115us/step - loss: 0.4983 - acc: 0.7646\n",
      "Epoch 9/30\n",
      "23333/23333 [==============================] - 2s 104us/step - loss: 0.4970 - acc: 0.7653\n",
      "Epoch 10/30\n",
      "23333/23333 [==============================] - 2s 100us/step - loss: 0.4957 - acc: 0.7654\n",
      "Epoch 11/30\n",
      "23333/23333 [==============================] - 2s 104us/step - loss: 0.4950 - acc: 0.7663\n",
      "Epoch 12/30\n",
      "23333/23333 [==============================] - 3s 112us/step - loss: 0.4943 - acc: 0.7666\n",
      "Epoch 13/30\n",
      "23333/23333 [==============================] - 2s 102us/step - loss: 0.4937 - acc: 0.7670\n",
      "Epoch 14/30\n",
      "23333/23333 [==============================] - 2s 100us/step - loss: 0.4934 - acc: 0.7665\n",
      "Epoch 15/30\n",
      "23333/23333 [==============================] - 2s 94us/step - loss: 0.4927 - acc: 0.7678\n",
      "Epoch 16/30\n",
      "23333/23333 [==============================] - 2s 94us/step - loss: 0.4923 - acc: 0.7670\n",
      "Epoch 17/30\n",
      "23333/23333 [==============================] - 2s 94us/step - loss: 0.4918 - acc: 0.7669\n",
      "Epoch 18/30\n",
      "23333/23333 [==============================] - 2s 94us/step - loss: 0.4916 - acc: 0.7671\n",
      "Epoch 19/30\n",
      "23333/23333 [==============================] - 2s 94us/step - loss: 0.4905 - acc: 0.7693\n",
      "Epoch 20/30\n",
      "23333/23333 [==============================] - 2s 94us/step - loss: 0.4904 - acc: 0.7694\n",
      "Epoch 21/30\n",
      "23333/23333 [==============================] - 2s 93us/step - loss: 0.4904 - acc: 0.7689\n",
      "Epoch 22/30\n",
      "23333/23333 [==============================] - 2s 94us/step - loss: 0.4896 - acc: 0.7684\n",
      "Epoch 23/30\n",
      "23333/23333 [==============================] - 2s 94us/step - loss: 0.4894 - acc: 0.7690\n",
      "Epoch 24/30\n",
      "23333/23333 [==============================] - 2s 94us/step - loss: 0.4888 - acc: 0.7696\n",
      "Epoch 25/30\n",
      "23333/23333 [==============================] - 2s 93us/step - loss: 0.4888 - acc: 0.7695\n",
      "Epoch 26/30\n",
      "23333/23333 [==============================] - 2s 94us/step - loss: 0.4885 - acc: 0.7691\n",
      "Epoch 27/30\n",
      "23333/23333 [==============================] - 2s 95us/step - loss: 0.4883 - acc: 0.7693\n",
      "Epoch 28/30\n",
      "23333/23333 [==============================] - 2s 95us/step - loss: 0.4880 - acc: 0.7697\n",
      "Epoch 29/30\n",
      "23333/23333 [==============================] - 2s 94us/step - loss: 0.4875 - acc: 0.7704\n",
      "Epoch 30/30\n",
      "23333/23333 [==============================] - 2s 93us/step - loss: 0.4875 - acc: 0.7702\n",
      "11667/11667 [==============================] - 1s 43us/step\n",
      "23333/23333 [==============================] - 1s 26us/step\n",
      "Epoch 1/30\n",
      "23333/23333 [==============================] - 3s 119us/step - loss: 0.6113 - acc: 0.6635\n",
      "Epoch 2/30\n",
      "23333/23333 [==============================] - 2s 97us/step - loss: 0.5344 - acc: 0.7398\n",
      "Epoch 3/30\n",
      "23333/23333 [==============================] - 2s 97us/step - loss: 0.5207 - acc: 0.7448\n",
      "Epoch 4/30\n",
      "23333/23333 [==============================] - 2s 98us/step - loss: 0.5126 - acc: 0.7502\n",
      "Epoch 5/30\n",
      "23333/23333 [==============================] - 2s 102us/step - loss: 0.5061 - acc: 0.7543\n",
      "Epoch 6/30\n",
      "23333/23333 [==============================] - 2s 97us/step - loss: 0.5015 - acc: 0.7584\n",
      "Epoch 7/30\n",
      "23333/23333 [==============================] - 2s 97us/step - loss: 0.4984 - acc: 0.7612\n",
      "Epoch 8/30\n",
      "23333/23333 [==============================] - 2s 97us/step - loss: 0.4967 - acc: 0.7630\n",
      "Epoch 9/30\n",
      "23333/23333 [==============================] - 2s 99us/step - loss: 0.4956 - acc: 0.7645\n",
      "Epoch 10/30\n",
      "23333/23333 [==============================] - 2s 101us/step - loss: 0.4950 - acc: 0.7648\n",
      "Epoch 11/30\n",
      "23333/23333 [==============================] - 3s 108us/step - loss: 0.4940 - acc: 0.7654\n",
      "Epoch 12/30\n",
      "23333/23333 [==============================] - 3s 115us/step - loss: 0.4933 - acc: 0.7660\n",
      "Epoch 13/30\n",
      "23333/23333 [==============================] - 2s 99us/step - loss: 0.4929 - acc: 0.7639\n",
      "Epoch 14/30\n",
      "23333/23333 [==============================] - 2s 98us/step - loss: 0.4923 - acc: 0.7658\n",
      "Epoch 15/30\n",
      "23333/23333 [==============================] - 2s 96us/step - loss: 0.4915 - acc: 0.7651\n",
      "Epoch 16/30\n",
      "23333/23333 [==============================] - 2s 98us/step - loss: 0.4917 - acc: 0.7645\n",
      "Epoch 17/30\n",
      "23333/23333 [==============================] - 2s 98us/step - loss: 0.4910 - acc: 0.7662\n",
      "Epoch 18/30\n",
      "23333/23333 [==============================] - 2s 98us/step - loss: 0.4911 - acc: 0.7660\n",
      "Epoch 19/30\n",
      "23333/23333 [==============================] - 2s 98us/step - loss: 0.4906 - acc: 0.7673\n",
      "Epoch 20/30\n",
      "23333/23333 [==============================] - 2s 98us/step - loss: 0.4903 - acc: 0.7671\n",
      "Epoch 21/30\n",
      "23333/23333 [==============================] - 2s 98us/step - loss: 0.4901 - acc: 0.7672\n",
      "Epoch 22/30\n",
      "23333/23333 [==============================] - 2s 97us/step - loss: 0.4896 - acc: 0.7668\n",
      "Epoch 23/30\n",
      "23333/23333 [==============================] - 2s 98us/step - loss: 0.4893 - acc: 0.7672\n",
      "Epoch 24/30\n",
      "23333/23333 [==============================] - 2s 98us/step - loss: 0.4893 - acc: 0.7672\n",
      "Epoch 25/30\n",
      "23333/23333 [==============================] - 2s 98us/step - loss: 0.4889 - acc: 0.7683\n",
      "Epoch 26/30\n",
      "23333/23333 [==============================] - 2s 98us/step - loss: 0.4887 - acc: 0.7681\n",
      "Epoch 27/30\n",
      "23333/23333 [==============================] - 2s 97us/step - loss: 0.4885 - acc: 0.7684\n",
      "Epoch 28/30\n",
      "23333/23333 [==============================] - 2s 98us/step - loss: 0.4882 - acc: 0.7684\n",
      "Epoch 29/30\n",
      "23333/23333 [==============================] - 2s 98us/step - loss: 0.4878 - acc: 0.7688\n",
      "Epoch 30/30\n",
      "23333/23333 [==============================] - 2s 98us/step - loss: 0.4879 - acc: 0.7691\n",
      "11667/11667 [==============================] - 1s 45us/step\n",
      "23333/23333 [==============================] - 1s 28us/step\n",
      "Epoch 1/30\n",
      "23334/23334 [==============================] - 3s 120us/step - loss: 0.5737 - acc: 0.7104\n",
      "Epoch 2/30\n",
      "23334/23334 [==============================] - 2s 96us/step - loss: 0.5207 - acc: 0.7499\n",
      "Epoch 3/30\n",
      "23334/23334 [==============================] - 2s 96us/step - loss: 0.5096 - acc: 0.7579\n",
      "Epoch 4/30\n",
      "23334/23334 [==============================] - 2s 96us/step - loss: 0.5046 - acc: 0.7595\n",
      "Epoch 5/30\n",
      "23334/23334 [==============================] - 2s 97us/step - loss: 0.5017 - acc: 0.7617\n",
      "Epoch 6/30\n",
      "23334/23334 [==============================] - 2s 95us/step - loss: 0.4995 - acc: 0.7621\n",
      "Epoch 7/30\n",
      "23334/23334 [==============================] - 2s 99us/step - loss: 0.4977 - acc: 0.7652\n",
      "Epoch 8/30\n",
      "23334/23334 [==============================] - 2s 97us/step - loss: 0.4961 - acc: 0.7661\n",
      "Epoch 9/30\n",
      "23334/23334 [==============================] - 2s 96us/step - loss: 0.4938 - acc: 0.7660\n",
      "Epoch 10/30\n",
      "23334/23334 [==============================] - 2s 97us/step - loss: 0.4923 - acc: 0.7674\n",
      "Epoch 11/30\n",
      "23334/23334 [==============================] - 2s 97us/step - loss: 0.4906 - acc: 0.7691\n",
      "Epoch 12/30\n",
      "23334/23334 [==============================] - 2s 97us/step - loss: 0.4892 - acc: 0.7692\n",
      "Epoch 13/30\n",
      "23334/23334 [==============================] - 2s 95us/step - loss: 0.4881 - acc: 0.7696\n",
      "Epoch 14/30\n",
      "23334/23334 [==============================] - 2s 97us/step - loss: 0.4876 - acc: 0.7711\n",
      "Epoch 15/30\n",
      "23334/23334 [==============================] - 2s 96us/step - loss: 0.4866 - acc: 0.7731\n",
      "Epoch 16/30\n",
      "23334/23334 [==============================] - 2s 96us/step - loss: 0.4863 - acc: 0.7712\n",
      "Epoch 17/30\n",
      "23334/23334 [==============================] - 2s 97us/step - loss: 0.4854 - acc: 0.7716\n",
      "Epoch 18/30\n",
      "23334/23334 [==============================] - 2s 97us/step - loss: 0.4850 - acc: 0.7723\n",
      "Epoch 19/30\n"
     ]
    },
    {
     "name": "stdout",
     "output_type": "stream",
     "text": [
      "23334/23334 [==============================] - 2s 97us/step - loss: 0.4847 - acc: 0.7727\n",
      "Epoch 20/30\n",
      "23334/23334 [==============================] - 2s 96us/step - loss: 0.4848 - acc: 0.7735\n",
      "Epoch 21/30\n",
      "23334/23334 [==============================] - 2s 96us/step - loss: 0.4845 - acc: 0.7737\n",
      "Epoch 22/30\n",
      "23334/23334 [==============================] - 2s 96us/step - loss: 0.4842 - acc: 0.7732\n",
      "Epoch 23/30\n",
      "23334/23334 [==============================] - 2s 98us/step - loss: 0.4838 - acc: 0.7739\n",
      "Epoch 24/30\n",
      "23334/23334 [==============================] - 2s 98us/step - loss: 0.4840 - acc: 0.7737\n",
      "Epoch 25/30\n",
      "23334/23334 [==============================] - 2s 98us/step - loss: 0.4835 - acc: 0.7737\n",
      "Epoch 26/30\n",
      "23334/23334 [==============================] - 2s 97us/step - loss: 0.4832 - acc: 0.7743\n",
      "Epoch 27/30\n",
      "23334/23334 [==============================] - 2s 96us/step - loss: 0.4829 - acc: 0.7745\n",
      "Epoch 28/30\n",
      "23334/23334 [==============================] - 2s 97us/step - loss: 0.4823 - acc: 0.7745\n",
      "Epoch 29/30\n",
      "23334/23334 [==============================] - 2s 96us/step - loss: 0.4825 - acc: 0.7746\n",
      "Epoch 30/30\n",
      "23334/23334 [==============================] - 2s 96us/step - loss: 0.4818 - acc: 0.7752\n",
      "11666/11666 [==============================] - 1s 47us/step\n",
      "23334/23334 [==============================] - 1s 27us/step\n",
      "Epoch 1/30\n",
      "23333/23333 [==============================] - 3s 108us/step - loss: 0.5893 - acc: 0.6932\n",
      "Epoch 2/30\n",
      "23333/23333 [==============================] - 2s 84us/step - loss: 0.5397 - acc: 0.7336\n",
      "Epoch 3/30\n",
      "23333/23333 [==============================] - 2s 85us/step - loss: 0.5266 - acc: 0.7410\n",
      "Epoch 4/30\n",
      "23333/23333 [==============================] - 2s 84us/step - loss: 0.5177 - acc: 0.7476\n",
      "Epoch 5/30\n",
      "23333/23333 [==============================] - 2s 85us/step - loss: 0.5106 - acc: 0.7532\n",
      "Epoch 6/30\n",
      "23333/23333 [==============================] - 2s 85us/step - loss: 0.5051 - acc: 0.7593\n",
      "Epoch 7/30\n",
      "23333/23333 [==============================] - 2s 84us/step - loss: 0.5007 - acc: 0.7615\n",
      "Epoch 8/30\n",
      "23333/23333 [==============================] - 2s 84us/step - loss: 0.4975 - acc: 0.7641\n",
      "Epoch 9/30\n",
      "23333/23333 [==============================] - 2s 84us/step - loss: 0.4959 - acc: 0.7665\n",
      "Epoch 10/30\n",
      "23333/23333 [==============================] - 2s 84us/step - loss: 0.4948 - acc: 0.7681\n",
      "Epoch 11/30\n",
      "23333/23333 [==============================] - 2s 85us/step - loss: 0.4940 - acc: 0.7675\n",
      "Epoch 12/30\n",
      "23333/23333 [==============================] - 2s 84us/step - loss: 0.4933 - acc: 0.7688\n",
      "Epoch 13/30\n",
      "23333/23333 [==============================] - 2s 84us/step - loss: 0.4930 - acc: 0.7683\n",
      "Epoch 14/30\n",
      "23333/23333 [==============================] - 2s 84us/step - loss: 0.4922 - acc: 0.7686\n",
      "Epoch 15/30\n",
      "23333/23333 [==============================] - 2s 84us/step - loss: 0.4922 - acc: 0.7678\n",
      "Epoch 16/30\n",
      "23333/23333 [==============================] - 2s 85us/step - loss: 0.4919 - acc: 0.7681\n",
      "Epoch 17/30\n",
      "23333/23333 [==============================] - 2s 85us/step - loss: 0.4914 - acc: 0.7689\n",
      "Epoch 18/30\n",
      "23333/23333 [==============================] - 2s 85us/step - loss: 0.4915 - acc: 0.7687\n",
      "Epoch 19/30\n",
      "23333/23333 [==============================] - 2s 85us/step - loss: 0.4914 - acc: 0.7681\n",
      "Epoch 20/30\n",
      "23333/23333 [==============================] - 2s 86us/step - loss: 0.4910 - acc: 0.7691\n",
      "Epoch 21/30\n",
      "23333/23333 [==============================] - 2s 85us/step - loss: 0.4907 - acc: 0.7684\n",
      "Epoch 22/30\n",
      "23333/23333 [==============================] - 2s 85us/step - loss: 0.4906 - acc: 0.7685\n",
      "Epoch 23/30\n",
      "23333/23333 [==============================] - 2s 85us/step - loss: 0.4906 - acc: 0.7681\n",
      "Epoch 24/30\n",
      "23333/23333 [==============================] - 2s 85us/step - loss: 0.4904 - acc: 0.7687\n",
      "Epoch 25/30\n",
      "23333/23333 [==============================] - 2s 84us/step - loss: 0.4901 - acc: 0.7699\n",
      "Epoch 26/30\n",
      "23333/23333 [==============================] - 2s 85us/step - loss: 0.4904 - acc: 0.7696\n",
      "Epoch 27/30\n",
      "23333/23333 [==============================] - 2s 85us/step - loss: 0.4900 - acc: 0.7693\n",
      "Epoch 28/30\n",
      "23333/23333 [==============================] - 2s 85us/step - loss: 0.4899 - acc: 0.7699\n",
      "Epoch 29/30\n",
      "23333/23333 [==============================] - 2s 85us/step - loss: 0.4898 - acc: 0.7699\n",
      "Epoch 30/30\n",
      "23333/23333 [==============================] - 2s 85us/step - loss: 0.4895 - acc: 0.7694\n",
      "11667/11667 [==============================] - 1s 48us/step\n",
      "23333/23333 [==============================] - 1s 27us/step\n",
      "Epoch 1/30\n",
      "23333/23333 [==============================] - 3s 109us/step - loss: 0.6348 - acc: 0.6317\n",
      "Epoch 2/30\n",
      "23333/23333 [==============================] - 2s 86us/step - loss: 0.5398 - acc: 0.7377\n",
      "Epoch 3/30\n",
      "23333/23333 [==============================] - 2s 85us/step - loss: 0.5276 - acc: 0.7438\n",
      "Epoch 4/30\n",
      "23333/23333 [==============================] - 2s 85us/step - loss: 0.5186 - acc: 0.7497\n",
      "Epoch 5/30\n",
      "23333/23333 [==============================] - 2s 86us/step - loss: 0.5115 - acc: 0.7553\n",
      "Epoch 6/30\n",
      "23333/23333 [==============================] - 2s 86us/step - loss: 0.5051 - acc: 0.7582\n",
      "Epoch 7/30\n",
      "23333/23333 [==============================] - 2s 86us/step - loss: 0.5010 - acc: 0.7618\n",
      "Epoch 8/30\n",
      "23333/23333 [==============================] - 2s 85us/step - loss: 0.4978 - acc: 0.7638\n",
      "Epoch 9/30\n",
      "23333/23333 [==============================] - 2s 86us/step - loss: 0.4958 - acc: 0.7654\n",
      "Epoch 10/30\n",
      "23333/23333 [==============================] - 2s 85us/step - loss: 0.4946 - acc: 0.7657\n",
      "Epoch 11/30\n",
      "23333/23333 [==============================] - 2s 85us/step - loss: 0.4935 - acc: 0.7669\n",
      "Epoch 12/30\n",
      "23333/23333 [==============================] - 2s 85us/step - loss: 0.4923 - acc: 0.7675\n",
      "Epoch 13/30\n",
      "23333/23333 [==============================] - 2s 85us/step - loss: 0.4918 - acc: 0.7683\n",
      "Epoch 14/30\n",
      "23333/23333 [==============================] - 2s 85us/step - loss: 0.4914 - acc: 0.7690\n",
      "Epoch 15/30\n",
      "23333/23333 [==============================] - 2s 86us/step - loss: 0.4910 - acc: 0.7696\n",
      "Epoch 16/30\n",
      "23333/23333 [==============================] - 2s 85us/step - loss: 0.4907 - acc: 0.7695\n",
      "Epoch 17/30\n",
      "23333/23333 [==============================] - 2s 85us/step - loss: 0.4906 - acc: 0.7686\n",
      "Epoch 18/30\n",
      "23333/23333 [==============================] - 2s 85us/step - loss: 0.4900 - acc: 0.7702\n",
      "Epoch 19/30\n",
      "23333/23333 [==============================] - 2s 86us/step - loss: 0.4898 - acc: 0.7696\n",
      "Epoch 20/30\n",
      "23333/23333 [==============================] - 2s 85us/step - loss: 0.4893 - acc: 0.7707\n",
      "Epoch 21/30\n",
      "23333/23333 [==============================] - 2s 86us/step - loss: 0.4889 - acc: 0.7707\n",
      "Epoch 22/30\n",
      "23333/23333 [==============================] - 2s 85us/step - loss: 0.4889 - acc: 0.7721\n",
      "Epoch 23/30\n",
      "23333/23333 [==============================] - 2s 86us/step - loss: 0.4883 - acc: 0.7712\n",
      "Epoch 24/30\n",
      "23333/23333 [==============================] - 2s 85us/step - loss: 0.4881 - acc: 0.7714\n",
      "Epoch 25/30\n",
      "23333/23333 [==============================] - 2s 86us/step - loss: 0.4876 - acc: 0.7709\n",
      "Epoch 26/30\n",
      "23333/23333 [==============================] - 2s 86us/step - loss: 0.4869 - acc: 0.7735\n",
      "Epoch 27/30\n",
      "23333/23333 [==============================] - 2s 85us/step - loss: 0.4866 - acc: 0.7729\n",
      "Epoch 28/30\n",
      "23333/23333 [==============================] - 2s 85us/step - loss: 0.4861 - acc: 0.7725\n",
      "Epoch 29/30\n",
      "23333/23333 [==============================] - 2s 85us/step - loss: 0.4858 - acc: 0.7735\n",
      "Epoch 30/30\n",
      "23333/23333 [==============================] - 2s 86us/step - loss: 0.4854 - acc: 0.7739\n",
      "11667/11667 [==============================] - 1s 49us/step\n",
      "23333/23333 [==============================] - 1s 27us/step\n",
      "Epoch 1/30\n",
      "23334/23334 [==============================] - 3s 107us/step - loss: 0.5892 - acc: 0.6909\n",
      "Epoch 2/30\n",
      "23334/23334 [==============================] - 2s 83us/step - loss: 0.5452 - acc: 0.7307\n",
      "Epoch 3/30\n",
      "23334/23334 [==============================] - 2s 83us/step - loss: 0.5346 - acc: 0.7367\n",
      "Epoch 4/30\n",
      "23334/23334 [==============================] - 2s 84us/step - loss: 0.5271 - acc: 0.7444\n",
      "Epoch 5/30\n",
      "23334/23334 [==============================] - 2s 84us/step - loss: 0.5217 - acc: 0.7477\n",
      "Epoch 6/30\n"
     ]
    },
    {
     "name": "stdout",
     "output_type": "stream",
     "text": [
      "23334/23334 [==============================] - 2s 84us/step - loss: 0.5175 - acc: 0.7503\n",
      "Epoch 7/30\n",
      "23334/23334 [==============================] - 2s 83us/step - loss: 0.5144 - acc: 0.7527\n",
      "Epoch 8/30\n",
      "23334/23334 [==============================] - 2s 83us/step - loss: 0.5123 - acc: 0.7557\n",
      "Epoch 9/30\n",
      "23334/23334 [==============================] - 2s 84us/step - loss: 0.5107 - acc: 0.7557\n",
      "Epoch 10/30\n",
      "23334/23334 [==============================] - 2s 84us/step - loss: 0.5094 - acc: 0.7575\n",
      "Epoch 11/30\n",
      "23334/23334 [==============================] - 2s 83us/step - loss: 0.5082 - acc: 0.7586\n",
      "Epoch 12/30\n",
      "23334/23334 [==============================] - 2s 84us/step - loss: 0.5069 - acc: 0.7603\n",
      "Epoch 13/30\n",
      "23334/23334 [==============================] - 2s 83us/step - loss: 0.5059 - acc: 0.7602\n",
      "Epoch 14/30\n",
      "23334/23334 [==============================] - 2s 83us/step - loss: 0.5048 - acc: 0.7622\n",
      "Epoch 15/30\n",
      "23334/23334 [==============================] - 2s 83us/step - loss: 0.5039 - acc: 0.7617\n",
      "Epoch 16/30\n",
      "23334/23334 [==============================] - 2s 83us/step - loss: 0.5023 - acc: 0.7627\n",
      "Epoch 17/30\n",
      "23334/23334 [==============================] - 2s 83us/step - loss: 0.5018 - acc: 0.7641\n",
      "Epoch 18/30\n",
      "23334/23334 [==============================] - 2s 83us/step - loss: 0.5003 - acc: 0.7633\n",
      "Epoch 19/30\n",
      "23334/23334 [==============================] - 2s 83us/step - loss: 0.4995 - acc: 0.7654\n",
      "Epoch 20/30\n",
      "23334/23334 [==============================] - 2s 83us/step - loss: 0.4987 - acc: 0.7657\n",
      "Epoch 21/30\n",
      "23334/23334 [==============================] - 2s 83us/step - loss: 0.4979 - acc: 0.7652\n",
      "Epoch 22/30\n",
      "23334/23334 [==============================] - 2s 83us/step - loss: 0.4968 - acc: 0.7661\n",
      "Epoch 23/30\n",
      "23334/23334 [==============================] - 2s 84us/step - loss: 0.4960 - acc: 0.7658\n",
      "Epoch 24/30\n",
      "23334/23334 [==============================] - 2s 84us/step - loss: 0.4949 - acc: 0.7664\n",
      "Epoch 25/30\n",
      "23334/23334 [==============================] - 2s 83us/step - loss: 0.4938 - acc: 0.7678\n",
      "Epoch 26/30\n",
      "23334/23334 [==============================] - 2s 83us/step - loss: 0.4928 - acc: 0.7695\n",
      "Epoch 27/30\n",
      "23334/23334 [==============================] - 2s 84us/step - loss: 0.4915 - acc: 0.7687\n",
      "Epoch 28/30\n",
      "23334/23334 [==============================] - 2s 84us/step - loss: 0.4907 - acc: 0.7693\n",
      "Epoch 29/30\n",
      "23334/23334 [==============================] - 2s 83us/step - loss: 0.4895 - acc: 0.7703\n",
      "Epoch 30/30\n",
      "23334/23334 [==============================] - 2s 85us/step - loss: 0.4879 - acc: 0.7707\n",
      "11666/11666 [==============================] - 1s 49us/step\n",
      "23334/23334 [==============================] - 1s 28us/step\n",
      "Epoch 1/30\n",
      "35000/35000 [==============================] - 3s 99us/step - loss: 0.5768 - acc: 0.7032\n",
      "Epoch 2/30\n",
      "35000/35000 [==============================] - 3s 81us/step - loss: 0.5254 - acc: 0.7438\n",
      "Epoch 3/30\n",
      "35000/35000 [==============================] - 3s 81us/step - loss: 0.5142 - acc: 0.7499\n",
      "Epoch 4/30\n",
      "35000/35000 [==============================] - 3s 82us/step - loss: 0.5063 - acc: 0.7556\n",
      "Epoch 5/30\n",
      "35000/35000 [==============================] - 3s 82us/step - loss: 0.5013 - acc: 0.7599\n",
      "Epoch 6/30\n",
      "35000/35000 [==============================] - 3s 82us/step - loss: 0.4970 - acc: 0.7627\n",
      "Epoch 7/30\n",
      "35000/35000 [==============================] - 3s 82us/step - loss: 0.4944 - acc: 0.7651\n",
      "Epoch 8/30\n",
      "35000/35000 [==============================] - 3s 82us/step - loss: 0.4929 - acc: 0.7672\n",
      "Epoch 9/30\n",
      "35000/35000 [==============================] - 3s 82us/step - loss: 0.4914 - acc: 0.7692\n",
      "Epoch 10/30\n",
      "35000/35000 [==============================] - 3s 82us/step - loss: 0.4906 - acc: 0.7693\n",
      "Epoch 11/30\n",
      "35000/35000 [==============================] - 3s 82us/step - loss: 0.4899 - acc: 0.7678\n",
      "Epoch 12/30\n",
      "35000/35000 [==============================] - 3s 85us/step - loss: 0.4895 - acc: 0.7686\n",
      "Epoch 13/30\n",
      "35000/35000 [==============================] - 3s 82us/step - loss: 0.4889 - acc: 0.7692\n",
      "Epoch 14/30\n",
      "35000/35000 [==============================] - 3s 82us/step - loss: 0.4885 - acc: 0.7704\n",
      "Epoch 15/30\n",
      "35000/35000 [==============================] - 3s 82us/step - loss: 0.4882 - acc: 0.7691\n",
      "Epoch 16/30\n",
      "35000/35000 [==============================] - 3s 82us/step - loss: 0.4874 - acc: 0.7692\n",
      "Epoch 17/30\n",
      "35000/35000 [==============================] - 3s 82us/step - loss: 0.4871 - acc: 0.7702\n",
      "Epoch 18/30\n",
      "35000/35000 [==============================] - 3s 81us/step - loss: 0.4872 - acc: 0.7711\n",
      "Epoch 19/30\n",
      "35000/35000 [==============================] - 3s 82us/step - loss: 0.4867 - acc: 0.7696\n",
      "Epoch 20/30\n",
      "35000/35000 [==============================] - 3s 82us/step - loss: 0.4866 - acc: 0.7705\n",
      "Epoch 21/30\n",
      "35000/35000 [==============================] - 3s 83us/step - loss: 0.4862 - acc: 0.7714\n",
      "Epoch 22/30\n",
      "35000/35000 [==============================] - 3s 82us/step - loss: 0.4861 - acc: 0.7705\n",
      "Epoch 23/30\n",
      "35000/35000 [==============================] - 3s 81us/step - loss: 0.4857 - acc: 0.7701\n",
      "Epoch 24/30\n",
      "35000/35000 [==============================] - 3s 81us/step - loss: 0.4854 - acc: 0.7700\n",
      "Epoch 25/30\n",
      "35000/35000 [==============================] - 3s 82us/step - loss: 0.4855 - acc: 0.7710\n",
      "Epoch 26/30\n",
      "35000/35000 [==============================] - 3s 82us/step - loss: 0.4849 - acc: 0.7707\n",
      "Epoch 27/30\n",
      "35000/35000 [==============================] - 3s 82us/step - loss: 0.4851 - acc: 0.7709\n",
      "Epoch 28/30\n",
      "35000/35000 [==============================] - 3s 81us/step - loss: 0.4847 - acc: 0.7701\n",
      "Epoch 29/30\n",
      "35000/35000 [==============================] - 3s 82us/step - loss: 0.4845 - acc: 0.7713\n",
      "Epoch 30/30\n",
      "35000/35000 [==============================] - 3s 82us/step - loss: 0.4842 - acc: 0.7709\n",
      "CPU times: user 8min 27s, sys: 4min 1s, total: 12min 29s\n",
      "Wall time: 8min 2s\n"
     ]
    },
    {
     "data": {
      "text/plain": [
       "GridSearchCV(cv=3, error_score='raise',\n",
       "       estimator=<keras.wrappers.scikit_learn.KerasClassifier object at 0x12d909160>,\n",
       "       fit_params=None, iid=True, n_jobs=1,\n",
       "       param_grid={'epochs': [30], 'optimizer': ['adam', 'rmsprop']},\n",
       "       pre_dispatch='2*n_jobs', refit=True, return_train_score='warn',\n",
       "       scoring=None, verbose=0)"
      ]
     },
     "execution_count": 57,
     "metadata": {},
     "output_type": "execute_result"
    }
   ],
   "source": [
    "%time keras_cv.fit(X_train,y_train_matrix)"
   ]
  },
  {
   "cell_type": "code",
   "execution_count": 58,
   "metadata": {},
   "outputs": [
    {
     "name": "stdout",
     "output_type": "stream",
     "text": [
      "CPU times: user 573 ms, sys: 51.1 ms, total: 624 ms\n",
      "Wall time: 552 ms\n",
      "Best Parameters: {'epochs': 30, 'optimizer': 'rmsprop'}\n",
      "Best score is 0.7713714285918645\n"
     ]
    }
   ],
   "source": [
    "%time y_pred = keras_cv.predict(X_test)\n",
    "\n",
    "print(\"Best Parameters: {}\".format(keras_cv.best_params_)) \n",
    "print(\"Best score is {}\".format(keras_cv.best_score_))"
   ]
  },
  {
   "cell_type": "code",
   "execution_count": 61,
   "metadata": {},
   "outputs": [
    {
     "name": "stdout",
     "output_type": "stream",
     "text": [
      "#####################\n",
      "Test data\n",
      "#####################\n",
      "             precision    recall  f1-score   support\n",
      "\n",
      "        0.0       0.80      0.84      0.82      9379\n",
      "        1.0       0.70      0.65      0.68      5621\n",
      "\n",
      "avg / total       0.76      0.77      0.76     15000\n",
      "\n",
      "#####################\n"
     ]
    },
    {
     "data": {
      "image/png": "[encoded data removed]",
      "text/plain": [
       "<Figure size 432x288 with 2 Axes>"
      ]
     },
     "metadata": {},
     "output_type": "display_data"
    }
   ],
   "source": [
    "neural_network_results(y_test,y_pred)"
   ]
  },
  {
   "cell_type": "markdown",
   "metadata": {},
   "source": [
    "### Results\n",
    "***"
   ]
  },
  {
   "cell_type": "code",
   "execution_count": 62,
   "metadata": {},
   "outputs": [
    {
     "data": {
      "text/html": [
       "<div>\n",
       "<style scoped>\n",
       "    .dataframe tbody tr th:only-of-type {\n",
       "        vertical-align: middle;\n",
       "    }\n",
       "\n",
       "    .dataframe tbody tr th {\n",
       "        vertical-align: top;\n",
       "    }\n",
       "\n",
       "    .dataframe thead th {\n",
       "        text-align: right;\n",
       "    }\n",
       "</style>\n",
       "<table border=\"1\" class=\"dataframe\">\n",
       "  <thead>\n",
       "    <tr style=\"text-align: right;\">\n",
       "      <th></th>\n",
       "      <th>Accuracy</th>\n",
       "      <th>Fitting Time</th>\n",
       "      <th>Prediction Time</th>\n",
       "    </tr>\n",
       "  </thead>\n",
       "  <tbody>\n",
       "    <tr>\n",
       "      <th>Logistic Regression</th>\n",
       "      <td>71.90%</td>\n",
       "      <td>1.7s</td>\n",
       "      <td>2.55 ms</td>\n",
       "    </tr>\n",
       "    <tr>\n",
       "      <th>SVM</th>\n",
       "      <td>69.44%</td>\n",
       "      <td>13min 55s</td>\n",
       "      <td>4.88 s</td>\n",
       "    </tr>\n",
       "    <tr>\n",
       "      <th>Random Forest</th>\n",
       "      <td>74.95%</td>\n",
       "      <td>6.09s</td>\n",
       "      <td>89.4 ms</td>\n",
       "    </tr>\n",
       "    <tr>\n",
       "      <th>NN(1 hidden layer,8 nodes)</th>\n",
       "      <td>77.13%</td>\n",
       "      <td>8min 2s</td>\n",
       "      <td>552ms</td>\n",
       "    </tr>\n",
       "  </tbody>\n",
       "</table>\n",
       "</div>"
      ],
      "text/plain": [
       "                           Accuracy Fitting Time Prediction Time\n",
       "Logistic Regression          71.90%         1.7s         2.55 ms\n",
       "SVM                          69.44%    13min 55s          4.88 s\n",
       "Random Forest                74.95%        6.09s         89.4 ms\n",
       "NN(1 hidden layer,8 nodes)   77.13%      8min 2s           552ms"
      ]
     },
     "execution_count": 62,
     "metadata": {},
     "output_type": "execute_result"
    }
   ],
   "source": [
    "d = {'Accuracy': {'SVM': '69.44%', 'Random Forest': '74.95%', 'Logistic Regression': '71.90%','NN(1 hidden layer,8 nodes)': '77.13%'}, \n",
    "     'Fitting Time': {'SVM': '13min 55s', 'Random Forest': '6.09s', 'Logistic Regression': '1.7s','NN(1 hidden layer,8 nodes)': '8min 2s'}, \n",
    "     'Prediction Time': {'SVM': '4.88 s', 'Random Forest': '89.4 ms', 'Logistic Regression': '2.55 ms', 'NN(1 hidden layer,8 nodes)': '552ms'}}\n",
    "df = pd.DataFrame(d).reindex(index = ['Logistic Regression','SVM','Random Forest', 'NN(1 hidden layer,8 nodes)'])\n",
    "df"
   ]
  },
  {
   "cell_type": "markdown",
   "metadata": {},
   "source": [
    "### Conclusion\n",
    "***\n",
    "Decided to test 3 different classifiers and a neural network. The neural network with 1 hidden layer and 8 nodes did better than the other machine learning algorithms with an accuracy of **77.13%**. With more layers, the neural network can have a better accuracy. \n",
    "\n",
    "As we saw, most of the trips occur in Winterfell. A suggestion is to analyze deeper what is happening in that city to increase retention in other cities. As well, increase android users since most of users tend to be iphone. "
   ]
  },
  {
   "cell_type": "code",
   "execution_count": null,
   "metadata": {},
   "outputs": [],
   "source": []
  }
 ],
 "metadata": {
  "kernelspec": {
   "display_name": "Python [default]",
   "language": "python",
   "name": "python3"
  },
  "language_info": {
   "codemirror_mode": {
    "name": "ipython",
    "version": 3
   },
   "file_extension": ".py",
   "mimetype": "text/x-python",
   "name": "python",
   "nbconvert_exporter": "python",
   "pygments_lexer": "ipython3",
   "version": "3.6.4"
  }
 },
 "nbformat": 4,
 "nbformat_minor": 2
}
