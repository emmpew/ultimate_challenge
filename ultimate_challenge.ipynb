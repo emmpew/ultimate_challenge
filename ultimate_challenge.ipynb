{
 "cells": [
  {
   "cell_type": "markdown",
   "metadata": {},
   "source": [
    "# Table Of Content\n",
    "***\n",
    "1. [Exploratory Data Analysis](#eda)\n",
    "2. [Experiment and Metrics Design](#metrics)\n",
    "3. [Predictive Modeling](#modeling)"
   ]
  },
  {
   "cell_type": "code",
   "execution_count": 2,
   "metadata": {},
   "outputs": [],
   "source": [
    "import pandas as pd\n",
    "import numpy as np\n",
    "import matplotlib.pyplot as plt\n",
    "import seaborn as sns\n",
    "%matplotlib inline"
   ]
  },
  {
   "cell_type": "markdown",
   "metadata": {},
   "source": [
    "## 1. EDA <a name=\"eda\"> </a>\n",
    "***\n",
    "Let's load the data and get the basic information."
   ]
  },
  {
   "cell_type": "code",
   "execution_count": 3,
   "metadata": {},
   "outputs": [
    {
     "data": {
      "text/html": [
       "<div>\n",
       "<style scoped>\n",
       "    .dataframe tbody tr th:only-of-type {\n",
       "        vertical-align: middle;\n",
       "    }\n",
       "\n",
       "    .dataframe tbody tr th {\n",
       "        vertical-align: top;\n",
       "    }\n",
       "\n",
       "    .dataframe thead th {\n",
       "        text-align: right;\n",
       "    }\n",
       "</style>\n",
       "<table border=\"1\" class=\"dataframe\">\n",
       "  <thead>\n",
       "    <tr style=\"text-align: right;\">\n",
       "      <th></th>\n",
       "      <th>login_time</th>\n",
       "    </tr>\n",
       "  </thead>\n",
       "  <tbody>\n",
       "    <tr>\n",
       "      <th>0</th>\n",
       "      <td>1970-01-01 20:13:18</td>\n",
       "    </tr>\n",
       "    <tr>\n",
       "      <th>1</th>\n",
       "      <td>1970-01-01 20:16:10</td>\n",
       "    </tr>\n",
       "    <tr>\n",
       "      <th>2</th>\n",
       "      <td>1970-01-01 20:16:37</td>\n",
       "    </tr>\n",
       "    <tr>\n",
       "      <th>3</th>\n",
       "      <td>1970-01-01 20:16:36</td>\n",
       "    </tr>\n",
       "    <tr>\n",
       "      <th>4</th>\n",
       "      <td>1970-01-01 20:26:21</td>\n",
       "    </tr>\n",
       "  </tbody>\n",
       "</table>\n",
       "</div>"
      ],
      "text/plain": [
       "           login_time\n",
       "0 1970-01-01 20:13:18\n",
       "1 1970-01-01 20:16:10\n",
       "2 1970-01-01 20:16:37\n",
       "3 1970-01-01 20:16:36\n",
       "4 1970-01-01 20:26:21"
      ]
     },
     "execution_count": 3,
     "metadata": {},
     "output_type": "execute_result"
    }
   ],
   "source": [
    "df = pd.read_json('logins.json')\n",
    "df.head()"
   ]
  },
  {
   "cell_type": "code",
   "execution_count": 4,
   "metadata": {},
   "outputs": [
    {
     "name": "stdout",
     "output_type": "stream",
     "text": [
      "<class 'pandas.core.frame.DataFrame'>\n",
      "Int64Index: 93142 entries, 0 to 93141\n",
      "Data columns (total 1 columns):\n",
      "login_time    93142 non-null datetime64[ns]\n",
      "dtypes: datetime64[ns](1)\n",
      "memory usage: 1.4 MB\n"
     ]
    }
   ],
   "source": [
    "df.info()"
   ]
  },
  {
   "cell_type": "code",
   "execution_count": 5,
   "metadata": {},
   "outputs": [
    {
     "data": {
      "text/plain": [
       "(93142, 1)"
      ]
     },
     "execution_count": 5,
     "metadata": {},
     "output_type": "execute_result"
    }
   ],
   "source": [
    "df.shape"
   ]
  },
  {
   "cell_type": "code",
   "execution_count": 6,
   "metadata": {},
   "outputs": [
    {
     "data": {
      "text/plain": [
       "login_time    0.0\n",
       "dtype: float64"
      ]
     },
     "execution_count": 6,
     "metadata": {},
     "output_type": "execute_result"
    }
   ],
   "source": [
    "df.isnull().sum()/len(df)*100"
   ]
  },
  {
   "cell_type": "markdown",
   "metadata": {},
   "source": [
    "The data has one column with 93,142 entries. There are no missing values and the datatype is datetime. "
   ]
  },
  {
   "cell_type": "code",
   "execution_count": 7,
   "metadata": {},
   "outputs": [],
   "source": [
    "df['count'] = 1"
   ]
  },
  {
   "cell_type": "code",
   "execution_count": 8,
   "metadata": {},
   "outputs": [
    {
     "data": {
      "text/html": [
       "<div>\n",
       "<style scoped>\n",
       "    .dataframe tbody tr th:only-of-type {\n",
       "        vertical-align: middle;\n",
       "    }\n",
       "\n",
       "    .dataframe tbody tr th {\n",
       "        vertical-align: top;\n",
       "    }\n",
       "\n",
       "    .dataframe thead th {\n",
       "        text-align: right;\n",
       "    }\n",
       "</style>\n",
       "<table border=\"1\" class=\"dataframe\">\n",
       "  <thead>\n",
       "    <tr style=\"text-align: right;\">\n",
       "      <th></th>\n",
       "      <th>login_time</th>\n",
       "      <th>count</th>\n",
       "    </tr>\n",
       "  </thead>\n",
       "  <tbody>\n",
       "    <tr>\n",
       "      <th>0</th>\n",
       "      <td>1970-01-01 20:13:18</td>\n",
       "      <td>1</td>\n",
       "    </tr>\n",
       "    <tr>\n",
       "      <th>1</th>\n",
       "      <td>1970-01-01 20:16:10</td>\n",
       "      <td>1</td>\n",
       "    </tr>\n",
       "    <tr>\n",
       "      <th>2</th>\n",
       "      <td>1970-01-01 20:16:37</td>\n",
       "      <td>1</td>\n",
       "    </tr>\n",
       "    <tr>\n",
       "      <th>3</th>\n",
       "      <td>1970-01-01 20:16:36</td>\n",
       "      <td>1</td>\n",
       "    </tr>\n",
       "    <tr>\n",
       "      <th>4</th>\n",
       "      <td>1970-01-01 20:26:21</td>\n",
       "      <td>1</td>\n",
       "    </tr>\n",
       "  </tbody>\n",
       "</table>\n",
       "</div>"
      ],
      "text/plain": [
       "           login_time  count\n",
       "0 1970-01-01 20:13:18      1\n",
       "1 1970-01-01 20:16:10      1\n",
       "2 1970-01-01 20:16:37      1\n",
       "3 1970-01-01 20:16:36      1\n",
       "4 1970-01-01 20:26:21      1"
      ]
     },
     "execution_count": 8,
     "metadata": {},
     "output_type": "execute_result"
    }
   ],
   "source": [
    "df.head()"
   ]
  },
  {
   "cell_type": "markdown",
   "metadata": {},
   "source": [
    "Now let's extract the time and set it as a column to be able to count the login times. The let's plot it and analyze the results."
   ]
  },
  {
   "cell_type": "code",
   "execution_count": 9,
   "metadata": {},
   "outputs": [
    {
     "data": {
      "text/plain": [
       "Text(0,0.5,'Count')"
      ]
     },
     "execution_count": 9,
     "metadata": {},
     "output_type": "execute_result"
    },
    {
     "data": {
      "image/png": "[encoded data removed]",
      "text/plain": [
       "<Figure size 1440x1080 with 1 Axes>"
      ]
     },
     "metadata": {},
     "output_type": "display_data"
    }
   ],
   "source": [
    "plt.figure(figsize=(20,15))\n",
    "df.set_index('login_time').resample('15min').count()['count'].plot()\n",
    "plt.title('Logins from January to April')\n",
    "plt.xlabel('15 Minute Intervals')\n",
    "plt.ylabel('Count')"
   ]
  },
  {
   "cell_type": "markdown",
   "metadata": {},
   "source": [
    "The graph is distributed from January to April of 1970. The highest amount of logins in a 15 minute interval was a bit more than 70 in one day and the minimum was 0. However, it's kind of complicated to draw more conclusions. So let's see what happens in 15 minute intervals per hour."
   ]
  },
  {
   "cell_type": "code",
   "execution_count": 10,
   "metadata": {},
   "outputs": [
    {
     "data": {
      "text/plain": [
       "Text(0,0.5,'count')"
      ]
     },
     "execution_count": 10,
     "metadata": {},
     "output_type": "execute_result"
    },
    {
     "data": {
      "image/png": "[encoded data removed]",
      "text/plain": [
       "<Figure size 1080x720 with 1 Axes>"
      ]
     },
     "metadata": {},
     "output_type": "display_data"
    }
   ],
   "source": [
    "a = df.set_index('login_time').resample('15min').count()\n",
    "plt.figure(figsize=(15,10))\n",
    "a.reset_index().groupby([df['login_time'].dt.hour]).sum()['count'].plot()\n",
    "plt.title('logins in 15 minute intervals per hour')\n",
    "plt.xlabel('hours')\n",
    "plt.ylabel('count')"
   ]
  },
  {
   "cell_type": "markdown",
   "metadata": {},
   "source": [
    "- Afternoon user start login in and peak during the day.\n",
    "- During the morning, users do not login as much.\n",
    "- Users are active to late hours. "
   ]
  },
  {
   "cell_type": "code",
   "execution_count": 11,
   "metadata": {},
   "outputs": [
    {
     "data": {
      "image/png": "[encoded data removed]",
      "text/plain": [
       "<Figure size 1080x720 with 1 Axes>"
      ]
     },
     "metadata": {},
     "output_type": "display_data"
    }
   ],
   "source": [
    "plt.figure(figsize=(15,10))\n",
    "w = df['login_time'].dt.weekday.value_counts().sort_index()\n",
    "ax = w.plot(marker='.',linestyle='none',markersize=25,visible=True)\n",
    "ax.set_xticklabels(['','Mon','Tue','Wed','Thur','Fri','Sat','Sun'])\n",
    "plt.title('Logins by weekday')\n",
    "plt.xlabel('Days of the week')\n",
    "plt.ylabel('Count')\n",
    "plt.margins(0.04)"
   ]
  },
  {
   "cell_type": "markdown",
   "metadata": {},
   "source": [
    "Monday had the least amount of logins and gradually increased until it peaked on Saturday.  "
   ]
  },
  {
   "cell_type": "code",
   "execution_count": 12,
   "metadata": {},
   "outputs": [
    {
     "data": {
      "image/png": "[encoded data removed]",
      "text/plain": [
       "<Figure size 1080x720 with 1 Axes>"
      ]
     },
     "metadata": {},
     "output_type": "display_data"
    }
   ],
   "source": [
    "plt.figure(figsize=(15,10))\n",
    "h = df['login_time'].dt.hour.value_counts().sort_index()\n",
    "ax2 = h.plot(marker='.',markersize=15,visible=True)\n",
    "plt.title('Number of logins per hour')\n",
    "plt.xlabel('Hours')\n",
    "plt.ylabel('Count')\n",
    "plt.margins(0.04)"
   ]
  },
  {
   "cell_type": "markdown",
   "metadata": {},
   "source": [
    "Looks really similar to the 15 minute interval. However, this would be the amount of logins per hour. The difference is that it peaks at night while in 15 minute intervals peaks during the afternoon. So it depends what is the best metric for the company. "
   ]
  },
  {
   "cell_type": "markdown",
   "metadata": {},
   "source": [
    "## 2. Experiment and metrics design <a name=\"metrics\"></a>\n",
    "***"
   ]
  },
  {
   "cell_type": "markdown",
   "metadata": {},
   "source": [
    "**Problem**:\n",
    "Currently, two-way toll, between the two cities causes driver partners to tend to be exclusive to each city.\n",
    "\n",
    "**Info**\n",
    "- On weekdays, City 1 active at night\n",
    "- On weekdays, City 2 active during day\n",
    "- On weekends, reasonable activity in both cities\n",
    "\n",
    "**Experiment**\n",
    "- Encourage driver partners to serve both cities by reimbursing all toll costs.\n",
    "\n",
    "**Solution**\n",
    "\n",
    "An important metric to keep track is the percentage of trips reimbursed per day. If there is a high percentage of reimbursement, this would mean drivers are taking advantage of the experiment and drivers would have easier access to both cities. \n",
    "\n",
    "Since the goal is to have drivers serve both cities, another important metric would be pickup location . This metric would track the city that the customer was picked up. If the experiment is successful, the driver should have substantial pickup locations in City 1 and 2. If it is not successful, drivers would remain serving mostly one City.\n",
    "\n",
    "A simple way to test if reimbursing tolls is a success would be to do an A/B study. Select a percentage of drivers to participate in the test and allow them to serve both cities. After a given time if there is a trend that one group has a high percentage of reimbursement and higher pickup locations in both cities, it means the experiment is being successful."
   ]
  },
  {
   "cell_type": "markdown",
   "metadata": {},
   "source": [
    "## 3. Predictive modeling <a name=\"modeling\"></a>\n",
    "***"
   ]
  },
  {
   "cell_type": "code",
   "execution_count": 13,
   "metadata": {},
   "outputs": [
    {
     "data": {
      "text/html": [
       "<div>\n",
       "<style scoped>\n",
       "    .dataframe tbody tr th:only-of-type {\n",
       "        vertical-align: middle;\n",
       "    }\n",
       "\n",
       "    .dataframe tbody tr th {\n",
       "        vertical-align: top;\n",
       "    }\n",
       "\n",
       "    .dataframe thead th {\n",
       "        text-align: right;\n",
       "    }\n",
       "</style>\n",
       "<table border=\"1\" class=\"dataframe\">\n",
       "  <thead>\n",
       "    <tr style=\"text-align: right;\">\n",
       "      <th></th>\n",
       "      <th>avg_dist</th>\n",
       "      <th>avg_rating_by_driver</th>\n",
       "      <th>avg_rating_of_driver</th>\n",
       "      <th>avg_surge</th>\n",
       "      <th>city</th>\n",
       "      <th>last_trip_date</th>\n",
       "      <th>phone</th>\n",
       "      <th>signup_date</th>\n",
       "      <th>surge_pct</th>\n",
       "      <th>trips_in_first_30_days</th>\n",
       "      <th>ultimate_black_user</th>\n",
       "      <th>weekday_pct</th>\n",
       "    </tr>\n",
       "  </thead>\n",
       "  <tbody>\n",
       "    <tr>\n",
       "      <th>0</th>\n",
       "      <td>3.67</td>\n",
       "      <td>5.0</td>\n",
       "      <td>4.7</td>\n",
       "      <td>1.10</td>\n",
       "      <td>King's Landing</td>\n",
       "      <td>2014-06-17</td>\n",
       "      <td>iPhone</td>\n",
       "      <td>2014-01-25</td>\n",
       "      <td>15.4</td>\n",
       "      <td>4</td>\n",
       "      <td>True</td>\n",
       "      <td>46.2</td>\n",
       "    </tr>\n",
       "    <tr>\n",
       "      <th>1</th>\n",
       "      <td>8.26</td>\n",
       "      <td>5.0</td>\n",
       "      <td>5.0</td>\n",
       "      <td>1.00</td>\n",
       "      <td>Astapor</td>\n",
       "      <td>2014-05-05</td>\n",
       "      <td>Android</td>\n",
       "      <td>2014-01-29</td>\n",
       "      <td>0.0</td>\n",
       "      <td>0</td>\n",
       "      <td>False</td>\n",
       "      <td>50.0</td>\n",
       "    </tr>\n",
       "    <tr>\n",
       "      <th>2</th>\n",
       "      <td>0.77</td>\n",
       "      <td>5.0</td>\n",
       "      <td>4.3</td>\n",
       "      <td>1.00</td>\n",
       "      <td>Astapor</td>\n",
       "      <td>2014-01-07</td>\n",
       "      <td>iPhone</td>\n",
       "      <td>2014-01-06</td>\n",
       "      <td>0.0</td>\n",
       "      <td>3</td>\n",
       "      <td>False</td>\n",
       "      <td>100.0</td>\n",
       "    </tr>\n",
       "    <tr>\n",
       "      <th>3</th>\n",
       "      <td>2.36</td>\n",
       "      <td>4.9</td>\n",
       "      <td>4.6</td>\n",
       "      <td>1.14</td>\n",
       "      <td>King's Landing</td>\n",
       "      <td>2014-06-29</td>\n",
       "      <td>iPhone</td>\n",
       "      <td>2014-01-10</td>\n",
       "      <td>20.0</td>\n",
       "      <td>9</td>\n",
       "      <td>True</td>\n",
       "      <td>80.0</td>\n",
       "    </tr>\n",
       "    <tr>\n",
       "      <th>4</th>\n",
       "      <td>3.13</td>\n",
       "      <td>4.9</td>\n",
       "      <td>4.4</td>\n",
       "      <td>1.19</td>\n",
       "      <td>Winterfell</td>\n",
       "      <td>2014-03-15</td>\n",
       "      <td>Android</td>\n",
       "      <td>2014-01-27</td>\n",
       "      <td>11.8</td>\n",
       "      <td>14</td>\n",
       "      <td>False</td>\n",
       "      <td>82.4</td>\n",
       "    </tr>\n",
       "  </tbody>\n",
       "</table>\n",
       "</div>"
      ],
      "text/plain": [
       "   avg_dist  avg_rating_by_driver  avg_rating_of_driver  avg_surge  \\\n",
       "0      3.67                   5.0                   4.7       1.10   \n",
       "1      8.26                   5.0                   5.0       1.00   \n",
       "2      0.77                   5.0                   4.3       1.00   \n",
       "3      2.36                   4.9                   4.6       1.14   \n",
       "4      3.13                   4.9                   4.4       1.19   \n",
       "\n",
       "             city last_trip_date    phone signup_date  surge_pct  \\\n",
       "0  King's Landing     2014-06-17   iPhone  2014-01-25       15.4   \n",
       "1         Astapor     2014-05-05  Android  2014-01-29        0.0   \n",
       "2         Astapor     2014-01-07   iPhone  2014-01-06        0.0   \n",
       "3  King's Landing     2014-06-29   iPhone  2014-01-10       20.0   \n",
       "4      Winterfell     2014-03-15  Android  2014-01-27       11.8   \n",
       "\n",
       "   trips_in_first_30_days  ultimate_black_user  weekday_pct  \n",
       "0                       4                 True         46.2  \n",
       "1                       0                False         50.0  \n",
       "2                       3                False        100.0  \n",
       "3                       9                 True         80.0  \n",
       "4                      14                False         82.4  "
      ]
     },
     "execution_count": 13,
     "metadata": {},
     "output_type": "execute_result"
    }
   ],
   "source": [
    "import json\n",
    "\n",
    "file = open('ultimate_data_challenge.json', 'r')\n",
    "df = pd.DataFrame(json.load(file))\n",
    "file.close()\n",
    "df.head()"
   ]
  },
  {
   "cell_type": "code",
   "execution_count": 14,
   "metadata": {},
   "outputs": [
    {
     "data": {
      "text/plain": [
       "(50000, 12)"
      ]
     },
     "execution_count": 14,
     "metadata": {},
     "output_type": "execute_result"
    }
   ],
   "source": [
    "df.shape"
   ]
  },
  {
   "cell_type": "code",
   "execution_count": 15,
   "metadata": {},
   "outputs": [
    {
     "data": {
      "text/html": [
       "<div>\n",
       "<style scoped>\n",
       "    .dataframe tbody tr th:only-of-type {\n",
       "        vertical-align: middle;\n",
       "    }\n",
       "\n",
       "    .dataframe tbody tr th {\n",
       "        vertical-align: top;\n",
       "    }\n",
       "\n",
       "    .dataframe thead th {\n",
       "        text-align: right;\n",
       "    }\n",
       "</style>\n",
       "<table border=\"1\" class=\"dataframe\">\n",
       "  <thead>\n",
       "    <tr style=\"text-align: right;\">\n",
       "      <th></th>\n",
       "      <th>avg_dist</th>\n",
       "      <th>avg_rating_by_driver</th>\n",
       "      <th>avg_rating_of_driver</th>\n",
       "      <th>avg_surge</th>\n",
       "      <th>surge_pct</th>\n",
       "      <th>trips_in_first_30_days</th>\n",
       "      <th>weekday_pct</th>\n",
       "    </tr>\n",
       "  </thead>\n",
       "  <tbody>\n",
       "    <tr>\n",
       "      <th>count</th>\n",
       "      <td>50000.000000</td>\n",
       "      <td>49799.000000</td>\n",
       "      <td>41878.000000</td>\n",
       "      <td>50000.000000</td>\n",
       "      <td>50000.000000</td>\n",
       "      <td>50000.000000</td>\n",
       "      <td>50000.000000</td>\n",
       "    </tr>\n",
       "    <tr>\n",
       "      <th>mean</th>\n",
       "      <td>5.796827</td>\n",
       "      <td>4.778158</td>\n",
       "      <td>4.601559</td>\n",
       "      <td>1.074764</td>\n",
       "      <td>8.849536</td>\n",
       "      <td>2.278200</td>\n",
       "      <td>60.926084</td>\n",
       "    </tr>\n",
       "    <tr>\n",
       "      <th>std</th>\n",
       "      <td>5.707357</td>\n",
       "      <td>0.446652</td>\n",
       "      <td>0.617338</td>\n",
       "      <td>0.222336</td>\n",
       "      <td>19.958811</td>\n",
       "      <td>3.792684</td>\n",
       "      <td>37.081503</td>\n",
       "    </tr>\n",
       "    <tr>\n",
       "      <th>min</th>\n",
       "      <td>0.000000</td>\n",
       "      <td>1.000000</td>\n",
       "      <td>1.000000</td>\n",
       "      <td>1.000000</td>\n",
       "      <td>0.000000</td>\n",
       "      <td>0.000000</td>\n",
       "      <td>0.000000</td>\n",
       "    </tr>\n",
       "    <tr>\n",
       "      <th>25%</th>\n",
       "      <td>2.420000</td>\n",
       "      <td>4.700000</td>\n",
       "      <td>4.300000</td>\n",
       "      <td>1.000000</td>\n",
       "      <td>0.000000</td>\n",
       "      <td>0.000000</td>\n",
       "      <td>33.300000</td>\n",
       "    </tr>\n",
       "    <tr>\n",
       "      <th>50%</th>\n",
       "      <td>3.880000</td>\n",
       "      <td>5.000000</td>\n",
       "      <td>4.900000</td>\n",
       "      <td>1.000000</td>\n",
       "      <td>0.000000</td>\n",
       "      <td>1.000000</td>\n",
       "      <td>66.700000</td>\n",
       "    </tr>\n",
       "    <tr>\n",
       "      <th>75%</th>\n",
       "      <td>6.940000</td>\n",
       "      <td>5.000000</td>\n",
       "      <td>5.000000</td>\n",
       "      <td>1.050000</td>\n",
       "      <td>8.600000</td>\n",
       "      <td>3.000000</td>\n",
       "      <td>100.000000</td>\n",
       "    </tr>\n",
       "    <tr>\n",
       "      <th>max</th>\n",
       "      <td>160.960000</td>\n",
       "      <td>5.000000</td>\n",
       "      <td>5.000000</td>\n",
       "      <td>8.000000</td>\n",
       "      <td>100.000000</td>\n",
       "      <td>125.000000</td>\n",
       "      <td>100.000000</td>\n",
       "    </tr>\n",
       "  </tbody>\n",
       "</table>\n",
       "</div>"
      ],
      "text/plain": [
       "           avg_dist  avg_rating_by_driver  avg_rating_of_driver     avg_surge  \\\n",
       "count  50000.000000          49799.000000          41878.000000  50000.000000   \n",
       "mean       5.796827              4.778158              4.601559      1.074764   \n",
       "std        5.707357              0.446652              0.617338      0.222336   \n",
       "min        0.000000              1.000000              1.000000      1.000000   \n",
       "25%        2.420000              4.700000              4.300000      1.000000   \n",
       "50%        3.880000              5.000000              4.900000      1.000000   \n",
       "75%        6.940000              5.000000              5.000000      1.050000   \n",
       "max      160.960000              5.000000              5.000000      8.000000   \n",
       "\n",
       "          surge_pct  trips_in_first_30_days   weekday_pct  \n",
       "count  50000.000000            50000.000000  50000.000000  \n",
       "mean       8.849536                2.278200     60.926084  \n",
       "std       19.958811                3.792684     37.081503  \n",
       "min        0.000000                0.000000      0.000000  \n",
       "25%        0.000000                0.000000     33.300000  \n",
       "50%        0.000000                1.000000     66.700000  \n",
       "75%        8.600000                3.000000    100.000000  \n",
       "max      100.000000              125.000000    100.000000  "
      ]
     },
     "execution_count": 15,
     "metadata": {},
     "output_type": "execute_result"
    }
   ],
   "source": [
    "df.describe()"
   ]
  },
  {
   "cell_type": "code",
   "execution_count": 16,
   "metadata": {},
   "outputs": [
    {
     "name": "stdout",
     "output_type": "stream",
     "text": [
      "<class 'pandas.core.frame.DataFrame'>\n",
      "RangeIndex: 50000 entries, 0 to 49999\n",
      "Data columns (total 12 columns):\n",
      "avg_dist                  50000 non-null float64\n",
      "avg_rating_by_driver      49799 non-null float64\n",
      "avg_rating_of_driver      41878 non-null float64\n",
      "avg_surge                 50000 non-null float64\n",
      "city                      50000 non-null object\n",
      "last_trip_date            50000 non-null object\n",
      "phone                     49604 non-null object\n",
      "signup_date               50000 non-null object\n",
      "surge_pct                 50000 non-null float64\n",
      "trips_in_first_30_days    50000 non-null int64\n",
      "ultimate_black_user       50000 non-null bool\n",
      "weekday_pct               50000 non-null float64\n",
      "dtypes: bool(1), float64(6), int64(1), object(4)\n",
      "memory usage: 4.2+ MB\n"
     ]
    }
   ],
   "source": [
    "df.info()"
   ]
  },
  {
   "cell_type": "markdown",
   "metadata": {},
   "source": [
    "There are 50,000 entries with 12 different columns. "
   ]
  },
  {
   "cell_type": "code",
   "execution_count": 17,
   "metadata": {},
   "outputs": [
    {
     "data": {
      "text/plain": [
       "avg_dist                   0.000\n",
       "avg_rating_by_driver       0.402\n",
       "avg_rating_of_driver      16.244\n",
       "avg_surge                  0.000\n",
       "city                       0.000\n",
       "last_trip_date             0.000\n",
       "phone                      0.792\n",
       "signup_date                0.000\n",
       "surge_pct                  0.000\n",
       "trips_in_first_30_days     0.000\n",
       "ultimate_black_user        0.000\n",
       "weekday_pct                0.000\n",
       "dtype: float64"
      ]
     },
     "execution_count": 17,
     "metadata": {},
     "output_type": "execute_result"
    }
   ],
   "source": [
    "df.isnull().sum()/len(df)*100"
   ]
  },
  {
   "cell_type": "markdown",
   "metadata": {},
   "source": [
    "There are some missing values of ratings and phone used. Let's fill out with the average for ratings. For the phone, let's first check which platform is used more than the other."
   ]
  },
  {
   "cell_type": "code",
   "execution_count": 18,
   "metadata": {},
   "outputs": [],
   "source": [
    "df['avg_rating_by_driver'].fillna(df['avg_rating_by_driver'].mean(), inplace=True)\n",
    "df['avg_rating_of_driver'].fillna(df['avg_rating_of_driver'].mean(), inplace=True)"
   ]
  },
  {
   "cell_type": "code",
   "execution_count": 19,
   "metadata": {},
   "outputs": [
    {
     "data": {
      "text/plain": [
       "iPhone     34582\n",
       "Android    15022\n",
       "Name: phone, dtype: int64"
      ]
     },
     "execution_count": 19,
     "metadata": {},
     "output_type": "execute_result"
    }
   ],
   "source": [
    "df['phone'].value_counts()"
   ]
  },
  {
   "cell_type": "markdown",
   "metadata": {},
   "source": [
    "Looks like users tend to have an iphone more than android. Since it is only a 0.79%, let's just fill the missing values with the highest phone used."
   ]
  },
  {
   "cell_type": "code",
   "execution_count": 20,
   "metadata": {},
   "outputs": [],
   "source": [
    "df['phone'].fillna('iPhone', inplace=True)"
   ]
  },
  {
   "cell_type": "code",
   "execution_count": 21,
   "metadata": {},
   "outputs": [
    {
     "data": {
      "text/plain": [
       "avg_dist                  0.0\n",
       "avg_rating_by_driver      0.0\n",
       "avg_rating_of_driver      0.0\n",
       "avg_surge                 0.0\n",
       "city                      0.0\n",
       "last_trip_date            0.0\n",
       "phone                     0.0\n",
       "signup_date               0.0\n",
       "surge_pct                 0.0\n",
       "trips_in_first_30_days    0.0\n",
       "ultimate_black_user       0.0\n",
       "weekday_pct               0.0\n",
       "dtype: float64"
      ]
     },
     "execution_count": 21,
     "metadata": {},
     "output_type": "execute_result"
    }
   ],
   "source": [
    "df.isnull().sum()/len(df)*100"
   ]
  },
  {
   "cell_type": "markdown",
   "metadata": {},
   "source": [
    "Now that there are no missing values let's do some EDA to get a deeper understanding of the data."
   ]
  },
  {
   "cell_type": "code",
   "execution_count": 22,
   "metadata": {},
   "outputs": [
    {
     "data": {
      "image/png": "[encoded data removed]",
      "text/plain": [
       "<Figure size 1080x720 with 1 Axes>"
      ]
     },
     "metadata": {},
     "output_type": "display_data"
    }
   ],
   "source": [
    "plt.figure(figsize=(15,10))\n",
    "_ = plt.hist(df['avg_dist'].values,bins=300)"
   ]
  },
  {
   "cell_type": "markdown",
   "metadata": {},
   "source": [
    "The average distance in miles per trip was less than 20 miles. "
   ]
  },
  {
   "cell_type": "code",
   "execution_count": 23,
   "metadata": {},
   "outputs": [
    {
     "data": {
      "text/html": [
       "<div>\n",
       "<style scoped>\n",
       "    .dataframe tbody tr th:only-of-type {\n",
       "        vertical-align: middle;\n",
       "    }\n",
       "\n",
       "    .dataframe tbody tr th {\n",
       "        vertical-align: top;\n",
       "    }\n",
       "\n",
       "    .dataframe thead th {\n",
       "        text-align: right;\n",
       "    }\n",
       "</style>\n",
       "<table border=\"1\" class=\"dataframe\">\n",
       "  <thead>\n",
       "    <tr style=\"text-align: right;\">\n",
       "      <th></th>\n",
       "      <th>city</th>\n",
       "      <th>trips_in_first_30_days</th>\n",
       "    </tr>\n",
       "  </thead>\n",
       "  <tbody>\n",
       "    <tr>\n",
       "      <th>0</th>\n",
       "      <td>Astapor</td>\n",
       "      <td>32219</td>\n",
       "    </tr>\n",
       "    <tr>\n",
       "      <th>1</th>\n",
       "      <td>King's Landing</td>\n",
       "      <td>24957</td>\n",
       "    </tr>\n",
       "    <tr>\n",
       "      <th>2</th>\n",
       "      <td>Winterfell</td>\n",
       "      <td>56734</td>\n",
       "    </tr>\n",
       "  </tbody>\n",
       "</table>\n",
       "</div>"
      ],
      "text/plain": [
       "             city  trips_in_first_30_days\n",
       "0         Astapor                   32219\n",
       "1  King's Landing                   24957\n",
       "2      Winterfell                   56734"
      ]
     },
     "execution_count": 23,
     "metadata": {},
     "output_type": "execute_result"
    }
   ],
   "source": [
    "trips_city = df[['trips_in_first_30_days', 'city']].groupby('city').sum().reset_index()\n",
    "trips_city"
   ]
  },
  {
   "cell_type": "code",
   "execution_count": 24,
   "metadata": {},
   "outputs": [
    {
     "data": {
      "text/plain": [
       "Text(0.5,1,'Trips vs. City')"
      ]
     },
     "execution_count": 24,
     "metadata": {},
     "output_type": "execute_result"
    },
    {
     "data": {
      "image/png": "[encoded data removed]",
      "text/plain": [
       "<Figure size 432x288 with 1 Axes>"
      ]
     },
     "metadata": {},
     "output_type": "display_data"
    }
   ],
   "source": [
    "sns.barplot(x='city', y='trips_in_first_30_days', data=trips_city)\n",
    "plt.ylabel('Count of trips in first 30 Days')\n",
    "plt.xlabel('City')\n",
    "plt.title('Trips vs. City')"
   ]
  },
  {
   "cell_type": "markdown",
   "metadata": {},
   "source": [
    "Let's find out what was the last recorded date of the data. If the user has taken a trip in 6-months before our last recorded data point, they are considered a retained user."
   ]
  },
  {
   "cell_type": "code",
   "execution_count": 25,
   "metadata": {},
   "outputs": [
    {
     "data": {
      "text/plain": [
       "last_trip_date    2014-07-01\n",
       "dtype: object"
      ]
     },
     "execution_count": 25,
     "metadata": {},
     "output_type": "execute_result"
    }
   ],
   "source": [
    "df[['last_trip_date']].max()"
   ]
  },
  {
   "cell_type": "code",
   "execution_count": 26,
   "metadata": {},
   "outputs": [
    {
     "name": "stdout",
     "output_type": "stream",
     "text": [
      "Active users: 18804 \n",
      "Non-active users: 31196\n"
     ]
    }
   ],
   "source": [
    "print('Active users: {} \\nNon-active users: {}'.format(len(df[df['last_trip_date'] >= '2014-06-01']),\n",
    "                                                      len(df[df['last_trip_date'] < '2014-06-01'])))"
   ]
  },
  {
   "cell_type": "code",
   "execution_count": 27,
   "metadata": {},
   "outputs": [
    {
     "data": {
      "text/html": [
       "<div>\n",
       "<style scoped>\n",
       "    .dataframe tbody tr th:only-of-type {\n",
       "        vertical-align: middle;\n",
       "    }\n",
       "\n",
       "    .dataframe tbody tr th {\n",
       "        vertical-align: top;\n",
       "    }\n",
       "\n",
       "    .dataframe thead th {\n",
       "        text-align: right;\n",
       "    }\n",
       "</style>\n",
       "<table border=\"1\" class=\"dataframe\">\n",
       "  <thead>\n",
       "    <tr style=\"text-align: right;\">\n",
       "      <th></th>\n",
       "      <th>avg_dist</th>\n",
       "      <th>avg_rating_by_driver</th>\n",
       "      <th>avg_rating_of_driver</th>\n",
       "      <th>avg_surge</th>\n",
       "      <th>city</th>\n",
       "      <th>last_trip_date</th>\n",
       "      <th>phone</th>\n",
       "      <th>signup_date</th>\n",
       "      <th>surge_pct</th>\n",
       "      <th>trips_in_first_30_days</th>\n",
       "      <th>ultimate_black_user</th>\n",
       "      <th>weekday_pct</th>\n",
       "      <th>retained</th>\n",
       "    </tr>\n",
       "  </thead>\n",
       "  <tbody>\n",
       "    <tr>\n",
       "      <th>0</th>\n",
       "      <td>3.67</td>\n",
       "      <td>5.0</td>\n",
       "      <td>4.7</td>\n",
       "      <td>1.10</td>\n",
       "      <td>King's Landing</td>\n",
       "      <td>2014-06-17</td>\n",
       "      <td>iPhone</td>\n",
       "      <td>2014-01-25</td>\n",
       "      <td>15.4</td>\n",
       "      <td>4</td>\n",
       "      <td>True</td>\n",
       "      <td>46.2</td>\n",
       "      <td>1.0</td>\n",
       "    </tr>\n",
       "    <tr>\n",
       "      <th>1</th>\n",
       "      <td>8.26</td>\n",
       "      <td>5.0</td>\n",
       "      <td>5.0</td>\n",
       "      <td>1.00</td>\n",
       "      <td>Astapor</td>\n",
       "      <td>2014-05-05</td>\n",
       "      <td>Android</td>\n",
       "      <td>2014-01-29</td>\n",
       "      <td>0.0</td>\n",
       "      <td>0</td>\n",
       "      <td>False</td>\n",
       "      <td>50.0</td>\n",
       "      <td>0.0</td>\n",
       "    </tr>\n",
       "    <tr>\n",
       "      <th>2</th>\n",
       "      <td>0.77</td>\n",
       "      <td>5.0</td>\n",
       "      <td>4.3</td>\n",
       "      <td>1.00</td>\n",
       "      <td>Astapor</td>\n",
       "      <td>2014-01-07</td>\n",
       "      <td>iPhone</td>\n",
       "      <td>2014-01-06</td>\n",
       "      <td>0.0</td>\n",
       "      <td>3</td>\n",
       "      <td>False</td>\n",
       "      <td>100.0</td>\n",
       "      <td>0.0</td>\n",
       "    </tr>\n",
       "    <tr>\n",
       "      <th>3</th>\n",
       "      <td>2.36</td>\n",
       "      <td>4.9</td>\n",
       "      <td>4.6</td>\n",
       "      <td>1.14</td>\n",
       "      <td>King's Landing</td>\n",
       "      <td>2014-06-29</td>\n",
       "      <td>iPhone</td>\n",
       "      <td>2014-01-10</td>\n",
       "      <td>20.0</td>\n",
       "      <td>9</td>\n",
       "      <td>True</td>\n",
       "      <td>80.0</td>\n",
       "      <td>1.0</td>\n",
       "    </tr>\n",
       "    <tr>\n",
       "      <th>4</th>\n",
       "      <td>3.13</td>\n",
       "      <td>4.9</td>\n",
       "      <td>4.4</td>\n",
       "      <td>1.19</td>\n",
       "      <td>Winterfell</td>\n",
       "      <td>2014-03-15</td>\n",
       "      <td>Android</td>\n",
       "      <td>2014-01-27</td>\n",
       "      <td>11.8</td>\n",
       "      <td>14</td>\n",
       "      <td>False</td>\n",
       "      <td>82.4</td>\n",
       "      <td>0.0</td>\n",
       "    </tr>\n",
       "  </tbody>\n",
       "</table>\n",
       "</div>"
      ],
      "text/plain": [
       "   avg_dist  avg_rating_by_driver  avg_rating_of_driver  avg_surge  \\\n",
       "0      3.67                   5.0                   4.7       1.10   \n",
       "1      8.26                   5.0                   5.0       1.00   \n",
       "2      0.77                   5.0                   4.3       1.00   \n",
       "3      2.36                   4.9                   4.6       1.14   \n",
       "4      3.13                   4.9                   4.4       1.19   \n",
       "\n",
       "             city last_trip_date    phone signup_date  surge_pct  \\\n",
       "0  King's Landing     2014-06-17   iPhone  2014-01-25       15.4   \n",
       "1         Astapor     2014-05-05  Android  2014-01-29        0.0   \n",
       "2         Astapor     2014-01-07   iPhone  2014-01-06        0.0   \n",
       "3  King's Landing     2014-06-29   iPhone  2014-01-10       20.0   \n",
       "4      Winterfell     2014-03-15  Android  2014-01-27       11.8   \n",
       "\n",
       "   trips_in_first_30_days  ultimate_black_user  weekday_pct  retained  \n",
       "0                       4                 True         46.2       1.0  \n",
       "1                       0                False         50.0       0.0  \n",
       "2                       3                False        100.0       0.0  \n",
       "3                       9                 True         80.0       1.0  \n",
       "4                      14                False         82.4       0.0  "
      ]
     },
     "execution_count": 27,
     "metadata": {},
     "output_type": "execute_result"
    }
   ],
   "source": [
    "df['retained'] = np.nan\n",
    "df.loc[df['last_trip_date'] >= '2014-06-01', 'retained'] = 1\n",
    "df.loc[df['last_trip_date'] < '2014-06-01', 'retained'] = 0\n",
    "df.head()"
   ]
  },
  {
   "cell_type": "code",
   "execution_count": 28,
   "metadata": {},
   "outputs": [
    {
     "name": "stdout",
     "output_type": "stream",
     "text": [
      "Percentage of users retained: 37.608000000000004\n"
     ]
    }
   ],
   "source": [
    "print('Percentage of users retained: {}'.format((df['retained'].sum()/len(df)*100)))"
   ]
  },
  {
   "cell_type": "markdown",
   "metadata": {},
   "source": [
    "The dataset is slightly unbalanced and for a more accurate prediction balancing is necessary. Now that we know the percentage of users retained let's prepare the data for doing the modeling."
   ]
  },
  {
   "cell_type": "code",
   "execution_count": 29,
   "metadata": {},
   "outputs": [
    {
     "data": {
      "text/html": [
       "<div>\n",
       "<style scoped>\n",
       "    .dataframe tbody tr th:only-of-type {\n",
       "        vertical-align: middle;\n",
       "    }\n",
       "\n",
       "    .dataframe tbody tr th {\n",
       "        vertical-align: top;\n",
       "    }\n",
       "\n",
       "    .dataframe thead th {\n",
       "        text-align: right;\n",
       "    }\n",
       "</style>\n",
       "<table border=\"1\" class=\"dataframe\">\n",
       "  <thead>\n",
       "    <tr style=\"text-align: right;\">\n",
       "      <th></th>\n",
       "      <th>avg_dist</th>\n",
       "      <th>avg_rating_by_driver</th>\n",
       "      <th>avg_rating_of_driver</th>\n",
       "      <th>avg_surge</th>\n",
       "      <th>last_trip_date</th>\n",
       "      <th>signup_date</th>\n",
       "      <th>surge_pct</th>\n",
       "      <th>trips_in_first_30_days</th>\n",
       "      <th>weekday_pct</th>\n",
       "      <th>retained</th>\n",
       "      <th>city_King's Landing</th>\n",
       "      <th>city_Winterfell</th>\n",
       "      <th>phone_iPhone</th>\n",
       "      <th>ultimate_black_user_True</th>\n",
       "    </tr>\n",
       "  </thead>\n",
       "  <tbody>\n",
       "    <tr>\n",
       "      <th>0</th>\n",
       "      <td>3.67</td>\n",
       "      <td>5.0</td>\n",
       "      <td>4.7</td>\n",
       "      <td>1.10</td>\n",
       "      <td>2014-06-17</td>\n",
       "      <td>2014-01-25</td>\n",
       "      <td>15.4</td>\n",
       "      <td>4</td>\n",
       "      <td>46.2</td>\n",
       "      <td>1.0</td>\n",
       "      <td>1</td>\n",
       "      <td>0</td>\n",
       "      <td>1</td>\n",
       "      <td>1</td>\n",
       "    </tr>\n",
       "    <tr>\n",
       "      <th>1</th>\n",
       "      <td>8.26</td>\n",
       "      <td>5.0</td>\n",
       "      <td>5.0</td>\n",
       "      <td>1.00</td>\n",
       "      <td>2014-05-05</td>\n",
       "      <td>2014-01-29</td>\n",
       "      <td>0.0</td>\n",
       "      <td>0</td>\n",
       "      <td>50.0</td>\n",
       "      <td>0.0</td>\n",
       "      <td>0</td>\n",
       "      <td>0</td>\n",
       "      <td>0</td>\n",
       "      <td>0</td>\n",
       "    </tr>\n",
       "    <tr>\n",
       "      <th>2</th>\n",
       "      <td>0.77</td>\n",
       "      <td>5.0</td>\n",
       "      <td>4.3</td>\n",
       "      <td>1.00</td>\n",
       "      <td>2014-01-07</td>\n",
       "      <td>2014-01-06</td>\n",
       "      <td>0.0</td>\n",
       "      <td>3</td>\n",
       "      <td>100.0</td>\n",
       "      <td>0.0</td>\n",
       "      <td>0</td>\n",
       "      <td>0</td>\n",
       "      <td>1</td>\n",
       "      <td>0</td>\n",
       "    </tr>\n",
       "    <tr>\n",
       "      <th>3</th>\n",
       "      <td>2.36</td>\n",
       "      <td>4.9</td>\n",
       "      <td>4.6</td>\n",
       "      <td>1.14</td>\n",
       "      <td>2014-06-29</td>\n",
       "      <td>2014-01-10</td>\n",
       "      <td>20.0</td>\n",
       "      <td>9</td>\n",
       "      <td>80.0</td>\n",
       "      <td>1.0</td>\n",
       "      <td>1</td>\n",
       "      <td>0</td>\n",
       "      <td>1</td>\n",
       "      <td>1</td>\n",
       "    </tr>\n",
       "    <tr>\n",
       "      <th>4</th>\n",
       "      <td>3.13</td>\n",
       "      <td>4.9</td>\n",
       "      <td>4.4</td>\n",
       "      <td>1.19</td>\n",
       "      <td>2014-03-15</td>\n",
       "      <td>2014-01-27</td>\n",
       "      <td>11.8</td>\n",
       "      <td>14</td>\n",
       "      <td>82.4</td>\n",
       "      <td>0.0</td>\n",
       "      <td>0</td>\n",
       "      <td>1</td>\n",
       "      <td>0</td>\n",
       "      <td>0</td>\n",
       "    </tr>\n",
       "  </tbody>\n",
       "</table>\n",
       "</div>"
      ],
      "text/plain": [
       "   avg_dist  avg_rating_by_driver  avg_rating_of_driver  avg_surge  \\\n",
       "0      3.67                   5.0                   4.7       1.10   \n",
       "1      8.26                   5.0                   5.0       1.00   \n",
       "2      0.77                   5.0                   4.3       1.00   \n",
       "3      2.36                   4.9                   4.6       1.14   \n",
       "4      3.13                   4.9                   4.4       1.19   \n",
       "\n",
       "  last_trip_date signup_date  surge_pct  trips_in_first_30_days  weekday_pct  \\\n",
       "0     2014-06-17  2014-01-25       15.4                       4         46.2   \n",
       "1     2014-05-05  2014-01-29        0.0                       0         50.0   \n",
       "2     2014-01-07  2014-01-06        0.0                       3        100.0   \n",
       "3     2014-06-29  2014-01-10       20.0                       9         80.0   \n",
       "4     2014-03-15  2014-01-27       11.8                      14         82.4   \n",
       "\n",
       "   retained  city_King's Landing  city_Winterfell  phone_iPhone  \\\n",
       "0       1.0                    1                0             1   \n",
       "1       0.0                    0                0             0   \n",
       "2       0.0                    0                0             1   \n",
       "3       1.0                    1                0             1   \n",
       "4       0.0                    0                1             0   \n",
       "\n",
       "   ultimate_black_user_True  \n",
       "0                         1  \n",
       "1                         0  \n",
       "2                         0  \n",
       "3                         1  \n",
       "4                         0  "
      ]
     },
     "execution_count": 29,
     "metadata": {},
     "output_type": "execute_result"
    }
   ],
   "source": [
    "df2 = pd.get_dummies(df, columns = ['city', 'phone', 'ultimate_black_user'],drop_first=True)\n",
    "df2.head()"
   ]
  },
  {
   "cell_type": "code",
   "execution_count": 30,
   "metadata": {},
   "outputs": [],
   "source": [
    "# df2['last_trip_date'] = pd.to_datetime(df2['last_trip_date'], format='%Y-%m-%d')\n",
    "# df2['signup_date'] = pd.to_datetime(df2['signup_date'], format='%Y-%m-%d') "
   ]
  },
  {
   "cell_type": "code",
   "execution_count": 31,
   "metadata": {},
   "outputs": [],
   "source": [
    "df2.drop(['signup_date','last_trip_date'], axis=1, inplace=True)"
   ]
  },
  {
   "cell_type": "code",
   "execution_count": 32,
   "metadata": {},
   "outputs": [],
   "source": [
    "int_feat = df2.dtypes[(df2.dtypes != 'float64')].index\n",
    "df2[int_feat] = df2[int_feat].astype(float)"
   ]
  },
  {
   "cell_type": "code",
   "execution_count": 33,
   "metadata": {},
   "outputs": [
    {
     "name": "stdout",
     "output_type": "stream",
     "text": [
      "<class 'pandas.core.frame.DataFrame'>\n",
      "RangeIndex: 50000 entries, 0 to 49999\n",
      "Data columns (total 12 columns):\n",
      "avg_dist                    50000 non-null float64\n",
      "avg_rating_by_driver        50000 non-null float64\n",
      "avg_rating_of_driver        50000 non-null float64\n",
      "avg_surge                   50000 non-null float64\n",
      "surge_pct                   50000 non-null float64\n",
      "trips_in_first_30_days      50000 non-null float64\n",
      "weekday_pct                 50000 non-null float64\n",
      "retained                    50000 non-null float64\n",
      "city_King's Landing         50000 non-null float64\n",
      "city_Winterfell             50000 non-null float64\n",
      "phone_iPhone                50000 non-null float64\n",
      "ultimate_black_user_True    50000 non-null float64\n",
      "dtypes: float64(12)\n",
      "memory usage: 4.6 MB\n"
     ]
    }
   ],
   "source": [
    "df2.info()"
   ]
  },
  {
   "cell_type": "markdown",
   "metadata": {},
   "source": [
    "Now that all the columns are numerical values and converted to floats let's split our data in 70-30."
   ]
  },
  {
   "cell_type": "code",
   "execution_count": 34,
   "metadata": {},
   "outputs": [],
   "source": [
    "X = df2.drop('retained', axis=1)\n",
    "y = df2['retained']"
   ]
  },
  {
   "cell_type": "code",
   "execution_count": 35,
   "metadata": {},
   "outputs": [
    {
     "name": "stdout",
     "output_type": "stream",
     "text": [
      "After balancing, the data increased from 50,000 to: 62392\n"
     ]
    }
   ],
   "source": [
    "from imblearn.over_sampling import SMOTE\n",
    "sm = SMOTE(ratio='auto', kind='regular')\n",
    "X, y = sm.fit_sample(X, y)\n",
    "\n",
    "print('After balancing, the data increased from 50,000 to: {}'.format(len(y)))"
   ]
  },
  {
   "cell_type": "code",
   "execution_count": 36,
   "metadata": {},
   "outputs": [
    {
     "data": {
      "text/plain": [
       "array([[-0.36155338,  0.53366481,  0.17546446, ..., -0.93894487,\n",
       "         0.61785552,  1.24088452],\n",
       "       [ 0.4778417 ,  0.53366481,  0.7305533 , ..., -0.93894487,\n",
       "        -1.66256744, -0.8371957 ],\n",
       "       [-0.89189015,  0.53366481, -0.56465399, ..., -0.93894487,\n",
       "         0.61785552, -0.8371957 ],\n",
       "       ..., \n",
       "       [-0.1868187 ,  0.29676859,  0.7305533 , ...,  1.09754739,\n",
       "         0.61785552, -0.8371957 ],\n",
       "       [ 0.42795021,  0.2931011 , -0.64627618, ..., -0.48976551,\n",
       "         0.61785552, -0.8371957 ],\n",
       "       [ 3.63908996,  0.53366481, -0.56024546, ..., -0.93894487,\n",
       "        -0.51627937, -0.8371957 ]])"
      ]
     },
     "execution_count": 36,
     "metadata": {},
     "output_type": "execute_result"
    }
   ],
   "source": [
    "from sklearn.preprocessing import StandardScaler\n",
    "scaler = StandardScaler()\n",
    "scaled_features = scaler.fit_transform(X)\n",
    "scaled_features"
   ]
  },
  {
   "cell_type": "code",
   "execution_count": 37,
   "metadata": {},
   "outputs": [],
   "source": [
    "from sklearn.model_selection import train_test_split\n",
    "X_train, X_test, y_train, y_test = train_test_split(scaled_features, y, test_size = 0.3, random_state = 42)"
   ]
  },
  {
   "cell_type": "markdown",
   "metadata": {},
   "source": [
    "Let's try several algorithms and see which gives the best result."
   ]
  },
  {
   "cell_type": "code",
   "execution_count": 38,
   "metadata": {},
   "outputs": [
    {
     "name": "stderr",
     "output_type": "stream",
     "text": [
      "Using TensorFlow backend.\n"
     ]
    }
   ],
   "source": [
    "from sklearn.preprocessing import StandardScaler, MinMaxScaler\n",
    "\n",
    "from sklearn.model_selection import GridSearchCV, train_test_split, cross_val_score\n",
    "from sklearn.pipeline import Pipeline\n",
    "\n",
    "from sklearn.neighbors import KNeighborsClassifier\n",
    "from sklearn.linear_model import LogisticRegression\n",
    "from sklearn.naive_bayes import MultinomialNB\n",
    "from sklearn.svm import SVC\n",
    "from sklearn.tree import DecisionTreeClassifier\n",
    "from sklearn.ensemble import RandomForestClassifier\n",
    "\n",
    "from keras.utils import to_categorical\n",
    "from keras.models import Sequential\n",
    "from keras.layers import Dense\n",
    "from keras.wrappers.scikit_learn import KerasClassifier\n",
    "\n",
    "from sklearn.metrics import confusion_matrix, classification_report, f1_score"
   ]
  },
  {
   "cell_type": "code",
   "execution_count": 39,
   "metadata": {},
   "outputs": [],
   "source": [
    "def results(X_test,y_test,y_pred,model):\n",
    "    print(\"#####################\")\n",
    "    print(\"Test data\")\n",
    "    print(\"#####################\")\n",
    "    print(\"Model Accuracy: {:.2f}%\".format(100*model.score(X_test, y_test)))\n",
    "    print(\"#####################\")\n",
    "    print(\"F1 Score: \", f1_score(y_test, y_pred))\n",
    "    print(\"#####################\")\n",
    "    print(classification_report(y_test, y_pred))\n",
    "    print(\"#####################\")\n",
    "    conf_matrix = confusion_matrix(y_test, y_pred)\n",
    "    df_cm = pd.DataFrame(conf_matrix, range(2),range(2))\n",
    "    sns.set(font_scale=1.4) #for label size\n",
    "    sns.heatmap(df_cm, cmap='Blues',annot=True,annot_kws={\"size\": 36},fmt='g')"
   ]
  },
  {
   "cell_type": "markdown",
   "metadata": {},
   "source": [
    "### Logistic Regression\n",
    "***"
   ]
  },
  {
   "cell_type": "code",
   "execution_count": 40,
   "metadata": {},
   "outputs": [
    {
     "name": "stdout",
     "output_type": "stream",
     "text": [
      "CPU times: user 1.71 s, sys: 62.4 ms, total: 1.77 s\n",
      "Wall time: 1.84 s\n"
     ]
    },
    {
     "data": {
      "text/plain": [
       "GridSearchCV(cv=3, error_score='raise',\n",
       "       estimator=LogisticRegression(C=1.0, class_weight=None, dual=False, fit_intercept=True,\n",
       "          intercept_scaling=1, max_iter=100, multi_class='ovr', n_jobs=1,\n",
       "          penalty='l2', random_state=None, solver='liblinear', tol=0.0001,\n",
       "          verbose=0, warm_start=False),\n",
       "       fit_params=None, iid=True, n_jobs=1,\n",
       "       param_grid={'C': [0.0001, 0.001, 0.01, 0.1, 1, 10, 100]},\n",
       "       pre_dispatch='2*n_jobs', refit=True, return_train_score='warn',\n",
       "       scoring='accuracy', verbose=0)"
      ]
     },
     "execution_count": 40,
     "metadata": {},
     "output_type": "execute_result"
    }
   ],
   "source": [
    "param = {'C': [0.0001,0.001,0.01,0.1,1,10,100]}\n",
    "\n",
    "log_cv = GridSearchCV(LogisticRegression(),param,cv=3,scoring='accuracy')\n",
    "%time log_cv.fit(X_train,y_train)"
   ]
  },
  {
   "cell_type": "code",
   "execution_count": 41,
   "metadata": {},
   "outputs": [
    {
     "name": "stdout",
     "output_type": "stream",
     "text": [
      "CPU times: user 1.13 ms, sys: 687 µs, total: 1.82 ms\n",
      "Wall time: 859 µs\n",
      "Best Parameters: {'C': 1}\n",
      "Best score is 0.6985849704629756\n"
     ]
    }
   ],
   "source": [
    "%time y_pred = log_cv.predict(X_test)\n",
    "\n",
    "print(\"Best Parameters: {}\".format(log_cv.best_params_)) \n",
    "print(\"Best score is {}\".format(log_cv.best_score_))"
   ]
  },
  {
   "cell_type": "code",
   "execution_count": 42,
   "metadata": {},
   "outputs": [
    {
     "name": "stdout",
     "output_type": "stream",
     "text": [
      "#####################\n",
      "Test data\n",
      "#####################\n",
      "Model Accuracy: 69.99%\n",
      "#####################\n",
      "F1 Score:  0.693512304251\n",
      "#####################\n",
      "             precision    recall  f1-score   support\n",
      "\n",
      "        0.0       0.69      0.73      0.71      9297\n",
      "        1.0       0.71      0.67      0.69      9421\n",
      "\n",
      "avg / total       0.70      0.70      0.70     18718\n",
      "\n",
      "#####################\n"
     ]
    },
    {
     "data": {
      "image/png": "[encoded data removed]",
      "text/plain": [
       "<Figure size 432x288 with 2 Axes>"
      ]
     },
     "metadata": {},
     "output_type": "display_data"
    }
   ],
   "source": [
    "results(X_test,y_test,y_pred,log_cv)"
   ]
  },
  {
   "cell_type": "markdown",
   "metadata": {},
   "source": [
    "### SVM\n",
    "***"
   ]
  },
  {
   "cell_type": "code",
   "execution_count": 43,
   "metadata": {},
   "outputs": [
    {
     "name": "stdout",
     "output_type": "stream",
     "text": [
      "Fitting 3 folds for each of 4 candidates, totalling 12 fits\n",
      "[CV] C=0.01, kernel=linear ...........................................\n",
      "[CV] .. C=0.01, kernel=linear, score=0.7014218009478673, total=  27.6s\n",
      "[CV] C=0.01, kernel=linear ...........................................\n"
     ]
    },
    {
     "name": "stderr",
     "output_type": "stream",
     "text": [
      "[Parallel(n_jobs=1)]: Done   1 out of   1 | elapsed:   34.8s remaining:    0.0s\n"
     ]
    },
    {
     "name": "stdout",
     "output_type": "stream",
     "text": [
      "[CV] ... C=0.01, kernel=linear, score=0.695493886522874, total=  25.6s\n",
      "[CV] C=0.01, kernel=linear ...........................................\n"
     ]
    },
    {
     "name": "stderr",
     "output_type": "stream",
     "text": [
      "[Parallel(n_jobs=1)]: Done   2 out of   2 | elapsed:  1.1min remaining:    0.0s\n"
     ]
    },
    {
     "name": "stdout",
     "output_type": "stream",
     "text": [
      "[CV] .. C=0.01, kernel=linear, score=0.6975338325204369, total=  22.4s\n",
      "[CV] C=0.1, kernel=linear ............................................\n",
      "[CV] .... C=0.1, kernel=linear, score=0.701078370767223, total=  26.2s\n",
      "[CV] C=0.1, kernel=linear ............................................\n",
      "[CV] ... C=0.1, kernel=linear, score=0.6956999587855475, total=  23.7s\n",
      "[CV] C=0.1, kernel=linear ............................................\n",
      "[CV] ... C=0.1, kernel=linear, score=0.6972590506285635, total=  23.2s\n",
      "[CV] C=1, kernel=linear ..............................................\n",
      "[CV] ...... C=1, kernel=linear, score=0.701078370767223, total=  33.1s\n",
      "[CV] C=1, kernel=linear ..............................................\n",
      "[CV] ...... C=1, kernel=linear, score=0.695493886522874, total=  34.6s\n",
      "[CV] C=1, kernel=linear ..............................................\n",
      "[CV] ..... C=1, kernel=linear, score=0.6970529642096586, total=  33.5s\n",
      "[CV] C=10, kernel=linear .............................................\n",
      "[CV] ..... C=10, kernel=linear, score=0.701078370767223, total= 2.0min\n",
      "[CV] C=10, kernel=linear .............................................\n",
      "[CV] ..... C=10, kernel=linear, score=0.695493886522874, total= 2.0min\n",
      "[CV] C=10, kernel=linear .............................................\n",
      "[CV] ..... C=10, kernel=linear, score=0.697121659682627, total= 2.0min\n"
     ]
    },
    {
     "name": "stderr",
     "output_type": "stream",
     "text": [
      "[Parallel(n_jobs=1)]: Done  12 out of  12 | elapsed: 11.5min finished\n"
     ]
    },
    {
     "name": "stdout",
     "output_type": "stream",
     "text": [
      "CPU times: user 12min, sys: 8.54 s, total: 12min 8s\n",
      "Wall time: 12min 16s\n"
     ]
    },
    {
     "data": {
      "text/plain": [
       "GridSearchCV(cv=3, error_score='raise',\n",
       "       estimator=SVC(C=1.0, cache_size=200, class_weight=None, coef0=0.0,\n",
       "  decision_function_shape='ovr', degree=3, gamma='auto', kernel='rbf',\n",
       "  max_iter=-1, probability=False, random_state=None, shrinking=True,\n",
       "  tol=0.001, verbose=False),\n",
       "       fit_params=None, iid=True, n_jobs=1,\n",
       "       param_grid=[{'C': [0.01, 0.1, 1, 10], 'kernel': ['linear']}],\n",
       "       pre_dispatch='2*n_jobs', refit=True, return_train_score='warn',\n",
       "       scoring='accuracy', verbose=3)"
      ]
     },
     "execution_count": 43,
     "metadata": {},
     "output_type": "execute_result"
    }
   ],
   "source": [
    "params = [\n",
    "  {'C': [0.01,0.1,1, 10], 'kernel': ['linear']}\n",
    " ]\n",
    "\n",
    "svm_cv = GridSearchCV(SVC(),params,cv=3,scoring='accuracy',verbose=3)\n",
    "%time svm_cv.fit(X_train,y_train)"
   ]
  },
  {
   "cell_type": "code",
   "execution_count": 44,
   "metadata": {},
   "outputs": [
    {
     "name": "stdout",
     "output_type": "stream",
     "text": [
      "CPU times: user 6.54 s, sys: 66.8 ms, total: 6.61 s\n",
      "Wall time: 6.6 s\n",
      "Best Parameters: {'C': 0.01, 'kernel': 'linear'}\n",
      "Best score is 0.698149929019554\n"
     ]
    }
   ],
   "source": [
    "%time y_pred = svm_cv.predict(X_test)\n",
    "\n",
    "print(\"Best Parameters: {}\".format(svm_cv.best_params_)) \n",
    "print(\"Best score is {}\".format(svm_cv.best_score_))"
   ]
  },
  {
   "cell_type": "code",
   "execution_count": 45,
   "metadata": {},
   "outputs": [
    {
     "name": "stdout",
     "output_type": "stream",
     "text": [
      "#####################\n",
      "Test data\n",
      "#####################\n",
      "Model Accuracy: 69.83%\n",
      "#####################\n",
      "F1 Score:  0.689161666758\n",
      "#####################\n",
      "             precision    recall  f1-score   support\n",
      "\n",
      "        0.0       0.68      0.73      0.71      9297\n",
      "        1.0       0.72      0.66      0.69      9421\n",
      "\n",
      "avg / total       0.70      0.70      0.70     18718\n",
      "\n",
      "#####################\n"
     ]
    },
    {
     "data": {
      "image/png": "[encoded data removed]",
      "text/plain": [
       "<Figure size 432x288 with 2 Axes>"
      ]
     },
     "metadata": {},
     "output_type": "display_data"
    }
   ],
   "source": [
    "results(X_test,y_test,y_pred,svm_cv)"
   ]
  },
  {
   "cell_type": "markdown",
   "metadata": {},
   "source": [
    "### Random Forests\n",
    "***"
   ]
  },
  {
   "cell_type": "code",
   "execution_count": 46,
   "metadata": {},
   "outputs": [
    {
     "name": "stdout",
     "output_type": "stream",
     "text": [
      "Fitting 3 folds for each of 4 candidates, totalling 12 fits\n",
      "[CV] max_features=auto, n_estimators=5 ...............................\n",
      "[CV]  max_features=auto, n_estimators=5, score=0.7714815577992994, total=   0.2s\n",
      "[CV] max_features=auto, n_estimators=5 ...............................\n"
     ]
    },
    {
     "name": "stderr",
     "output_type": "stream",
     "text": [
      "[Parallel(n_jobs=1)]: Done   1 out of   1 | elapsed:    0.2s remaining:    0.0s\n"
     ]
    },
    {
     "name": "stdout",
     "output_type": "stream",
     "text": [
      "[CV]  max_features=auto, n_estimators=5, score=0.7710537161698036, total=   0.2s\n",
      "[CV] max_features=auto, n_estimators=5 ...............................\n"
     ]
    },
    {
     "name": "stderr",
     "output_type": "stream",
     "text": [
      "[Parallel(n_jobs=1)]: Done   2 out of   2 | elapsed:    0.4s remaining:    0.0s\n"
     ]
    },
    {
     "name": "stdout",
     "output_type": "stream",
     "text": [
      "[CV]  max_features=auto, n_estimators=5, score=0.775297107920588, total=   0.2s\n",
      "[CV] max_features=auto, n_estimators=10 ..............................\n",
      "[CV]  max_features=auto, n_estimators=10, score=0.782608695652174, total=   0.3s\n",
      "[CV] max_features=auto, n_estimators=10 ..............................\n",
      "[CV]  max_features=auto, n_estimators=10, score=0.7831432889133123, total=   0.3s\n",
      "[CV] max_features=auto, n_estimators=10 ..............................\n",
      "[CV]  max_features=auto, n_estimators=10, score=0.7861509926495844, total=   0.3s\n",
      "[CV] max_features=auto, n_estimators=15 ..............................\n",
      "[CV]  max_features=auto, n_estimators=15, score=0.7850813929528127, total=   0.5s\n",
      "[CV] max_features=auto, n_estimators=15 ..............................\n",
      "[CV]  max_features=auto, n_estimators=15, score=0.7907679626322297, total=   0.5s\n",
      "[CV] max_features=auto, n_estimators=15 ..............................\n",
      "[CV]  max_features=auto, n_estimators=15, score=0.7907535893384626, total=   0.5s\n",
      "[CV] max_features=auto, n_estimators=20 ..............................\n",
      "[CV]  max_features=auto, n_estimators=20, score=0.7863177416031321, total=   0.7s\n",
      "[CV] max_features=auto, n_estimators=20 ..............................\n",
      "[CV]  max_features=auto, n_estimators=20, score=0.7951641709025965, total=   0.6s\n",
      "[CV] max_features=auto, n_estimators=20 ..............................\n",
      "[CV]  max_features=auto, n_estimators=20, score=0.7917840214329875, total=   0.6s\n"
     ]
    },
    {
     "name": "stderr",
     "output_type": "stream",
     "text": [
      "[Parallel(n_jobs=1)]: Done  12 out of  12 | elapsed:    5.8s finished\n"
     ]
    },
    {
     "name": "stdout",
     "output_type": "stream",
     "text": [
      "CPU times: user 6.59 s, sys: 174 ms, total: 6.77 s\n",
      "Wall time: 6.74 s\n"
     ]
    },
    {
     "data": {
      "text/plain": [
       "GridSearchCV(cv=3, error_score='raise',\n",
       "       estimator=RandomForestClassifier(bootstrap=True, class_weight=None, criterion='gini',\n",
       "            max_depth=None, max_features='auto', max_leaf_nodes=None,\n",
       "            min_impurity_decrease=0.0, min_impurity_split=None,\n",
       "            min_samples_leaf=1, min_samples_split=2,\n",
       "            min_weight_fraction_leaf=0.0, n_estimators=10, n_jobs=1,\n",
       "            oob_score=False, random_state=None, verbose=0,\n",
       "            warm_start=False),\n",
       "       fit_params=None, iid=True, n_jobs=1,\n",
       "       param_grid={'max_features': ['auto'], 'n_estimators': [5, 10, 15, 20]},\n",
       "       pre_dispatch='2*n_jobs', refit=True, return_train_score='warn',\n",
       "       scoring='accuracy', verbose=3)"
      ]
     },
     "execution_count": 46,
     "metadata": {},
     "output_type": "execute_result"
    }
   ],
   "source": [
    "params = {'max_features': ['auto'],\n",
    "          'n_estimators': [5, 10, 15, 20]}\n",
    "\n",
    "forest_cv = GridSearchCV(RandomForestClassifier(),params,cv=3,\n",
    "                         scoring='accuracy',verbose=3)\n",
    "%time forest_cv.fit(X_train,y_train)"
   ]
  },
  {
   "cell_type": "code",
   "execution_count": 47,
   "metadata": {},
   "outputs": [
    {
     "name": "stdout",
     "output_type": "stream",
     "text": [
      "CPU times: user 94.5 ms, sys: 7.18 ms, total: 102 ms\n",
      "Wall time: 100 ms\n",
      "Best Parameters: {'max_features': 'auto', 'n_estimators': 20}\n",
      "Best score is 0.7910885194852773\n"
     ]
    }
   ],
   "source": [
    "%time y_pred = forest_cv.predict(X_test)\n",
    "\n",
    "print(\"Best Parameters: {}\".format(forest_cv.best_params_)) \n",
    "print(\"Best score is {}\".format(forest_cv.best_score_))"
   ]
  },
  {
   "cell_type": "code",
   "execution_count": 48,
   "metadata": {},
   "outputs": [
    {
     "name": "stdout",
     "output_type": "stream",
     "text": [
      "#####################\n",
      "Test data\n",
      "#####################\n",
      "Model Accuracy: 79.68%\n",
      "#####################\n",
      "F1 Score:  0.796031107536\n",
      "#####################\n",
      "             precision    recall  f1-score   support\n",
      "\n",
      "        0.0       0.79      0.81      0.80      9297\n",
      "        1.0       0.80      0.79      0.80      9421\n",
      "\n",
      "avg / total       0.80      0.80      0.80     18718\n",
      "\n",
      "#####################\n"
     ]
    },
    {
     "data": {
      "image/png": "[encoded data removed]",
      "text/plain": [
       "<Figure size 432x288 with 2 Axes>"
      ]
     },
     "metadata": {},
     "output_type": "display_data"
    }
   ],
   "source": [
    "results(X_test,y_test,y_pred,forest_cv)"
   ]
  },
  {
   "cell_type": "markdown",
   "metadata": {},
   "source": [
    "### Neural Network\n",
    "***"
   ]
  },
  {
   "cell_type": "code",
   "execution_count": 49,
   "metadata": {},
   "outputs": [],
   "source": [
    "n_cols = X_train.shape[1]\n",
    "input_shape=(n_cols,)\n",
    "y_train_matrix = to_categorical(y_train)\n",
    "y_test_matrix = to_categorical(y_test)"
   ]
  },
  {
   "cell_type": "code",
   "execution_count": 50,
   "metadata": {},
   "outputs": [],
   "source": [
    "def neural_network_results(y_test,y_pred):\n",
    "    print(\"#####################\")\n",
    "    print(\"Test data\")\n",
    "    print(\"#####################\")\n",
    "    print(classification_report(y_test, y_pred))\n",
    "    print(\"#####################\")\n",
    "    conf_matrix = confusion_matrix(y_test, y_pred)\n",
    "    df_cm = pd.DataFrame(conf_matrix, range(2),range(2))\n",
    "    sns.set(font_scale=1.4) #for label size\n",
    "    sns.heatmap(df_cm, cmap='Blues',annot=True,annot_kws={\"size\": 36},fmt='g')"
   ]
  },
  {
   "cell_type": "code",
   "execution_count": 51,
   "metadata": {},
   "outputs": [],
   "source": [
    "def build_model(optimizer):\n",
    "    model = Sequential()\n",
    "    model.add(Dense(8,activation='relu',input_shape = input_shape))\n",
    "    model.add(Dense(2, activation='softmax'))\n",
    "    model.compile(loss='binary_crossentropy',\n",
    "             optimizer=optimizer,\n",
    "             metrics=['accuracy'])\n",
    "    return model"
   ]
  },
  {
   "cell_type": "code",
   "execution_count": 52,
   "metadata": {},
   "outputs": [],
   "source": [
    "estimator = KerasClassifier(build_model)"
   ]
  },
  {
   "cell_type": "code",
   "execution_count": 53,
   "metadata": {},
   "outputs": [],
   "source": [
    "params = {'epochs': [30],\n",
    "          'optimizer': ['adam', 'rmsprop']}\n",
    "\n",
    "keras_cv = GridSearchCV(estimator,params,cv=3)"
   ]
  },
  {
   "cell_type": "code",
   "execution_count": 54,
   "metadata": {},
   "outputs": [
    {
     "name": "stdout",
     "output_type": "stream",
     "text": [
      "Epoch 1/30\n",
      "29116/29116 [==============================] - 3s 88us/step - loss: 0.6389 - acc: 0.6603\n",
      "Epoch 2/30\n",
      "29116/29116 [==============================] - 2s 84us/step - loss: 0.5620 - acc: 0.7145\n",
      "Epoch 3/30\n",
      "29116/29116 [==============================] - 2s 84us/step - loss: 0.5487 - acc: 0.7222\n",
      "Epoch 4/30\n",
      "29116/29116 [==============================] - 2s 85us/step - loss: 0.5384 - acc: 0.7310\n",
      "Epoch 5/30\n",
      "29116/29116 [==============================] - 2s 84us/step - loss: 0.5317 - acc: 0.7353\n",
      "Epoch 6/30\n",
      "29116/29116 [==============================] - 2s 84us/step - loss: 0.5272 - acc: 0.7389\n",
      "Epoch 7/30\n",
      "29116/29116 [==============================] - 2s 83us/step - loss: 0.5234 - acc: 0.7428\n",
      "Epoch 8/30\n",
      "29116/29116 [==============================] - 2s 85us/step - loss: 0.5209 - acc: 0.7467\n",
      "Epoch 9/30\n",
      "29116/29116 [==============================] - 2s 83us/step - loss: 0.5193 - acc: 0.7479\n",
      "Epoch 10/30\n",
      "29116/29116 [==============================] - 2s 83us/step - loss: 0.5176 - acc: 0.7502\n",
      "Epoch 11/30\n",
      "29116/29116 [==============================] - 2s 83us/step - loss: 0.5165 - acc: 0.7498\n",
      "Epoch 12/30\n",
      "29116/29116 [==============================] - 2s 84us/step - loss: 0.5155 - acc: 0.7497\n",
      "Epoch 13/30\n",
      "29116/29116 [==============================] - 2s 84us/step - loss: 0.5141 - acc: 0.7515\n",
      "Epoch 14/30\n",
      "29116/29116 [==============================] - 2s 83us/step - loss: 0.5131 - acc: 0.7505\n",
      "Epoch 15/30\n",
      "29116/29116 [==============================] - 2s 84us/step - loss: 0.5118 - acc: 0.7507\n",
      "Epoch 16/30\n",
      "29116/29116 [==============================] - 2s 83us/step - loss: 0.5104 - acc: 0.7526\n",
      "Epoch 17/30\n",
      "29116/29116 [==============================] - 2s 84us/step - loss: 0.5103 - acc: 0.7516\n",
      "Epoch 18/30\n",
      "29116/29116 [==============================] - 2s 84us/step - loss: 0.5091 - acc: 0.7534\n",
      "Epoch 19/30\n",
      "29116/29116 [==============================] - 2s 84us/step - loss: 0.5083 - acc: 0.7537\n",
      "Epoch 20/30\n",
      "29116/29116 [==============================] - 2s 84us/step - loss: 0.5081 - acc: 0.7537\n",
      "Epoch 21/30\n",
      "29116/29116 [==============================] - 2s 84us/step - loss: 0.5069 - acc: 0.7548\n",
      "Epoch 22/30\n",
      "29116/29116 [==============================] - 2s 84us/step - loss: 0.5064 - acc: 0.7551\n",
      "Epoch 23/30\n",
      "29116/29116 [==============================] - 2s 84us/step - loss: 0.5057 - acc: 0.7563\n",
      "Epoch 24/30\n",
      "29116/29116 [==============================] - 2s 83us/step - loss: 0.5053 - acc: 0.7557\n",
      "Epoch 25/30\n",
      "29116/29116 [==============================] - 2s 84us/step - loss: 0.5043 - acc: 0.7565\n",
      "Epoch 26/30\n",
      "29116/29116 [==============================] - 2s 83us/step - loss: 0.5036 - acc: 0.7575\n",
      "Epoch 27/30\n",
      "29116/29116 [==============================] - 2s 84us/step - loss: 0.5036 - acc: 0.7586\n",
      "Epoch 28/30\n",
      "29116/29116 [==============================] - 2s 84us/step - loss: 0.5026 - acc: 0.7577\n",
      "Epoch 29/30\n",
      "29116/29116 [==============================] - 2s 84us/step - loss: 0.5024 - acc: 0.7588\n",
      "Epoch 30/30\n",
      "29116/29116 [==============================] - 2s 84us/step - loss: 0.5021 - acc: 0.7590\n",
      "14558/14558 [==============================] - 0s 22us/step\n",
      "29116/29116 [==============================] - 1s 21us/step\n",
      "Epoch 1/30\n",
      "29116/29116 [==============================] - 3s 90us/step - loss: 0.6192 - acc: 0.6598\n",
      "Epoch 2/30\n",
      "29116/29116 [==============================] - 3s 86us/step - loss: 0.5474 - acc: 0.7309\n",
      "Epoch 3/30\n",
      "29116/29116 [==============================] - 3s 86us/step - loss: 0.5286 - acc: 0.7462\n",
      "Epoch 4/30\n",
      "29116/29116 [==============================] - 3s 86us/step - loss: 0.5179 - acc: 0.7516\n",
      "Epoch 5/30\n",
      "29116/29116 [==============================] - 2s 86us/step - loss: 0.5114 - acc: 0.7564\n",
      "Epoch 6/30\n",
      "29116/29116 [==============================] - 3s 87us/step - loss: 0.5074 - acc: 0.7594\n",
      "Epoch 7/30\n",
      "29116/29116 [==============================] - 3s 86us/step - loss: 0.5043 - acc: 0.7614\n",
      "Epoch 8/30\n",
      "29116/29116 [==============================] - 3s 86us/step - loss: 0.5023 - acc: 0.7614\n",
      "Epoch 9/30\n",
      "29116/29116 [==============================] - 3s 86us/step - loss: 0.5005 - acc: 0.7632\n",
      "Epoch 10/30\n",
      "29116/29116 [==============================] - 3s 86us/step - loss: 0.4992 - acc: 0.7646\n",
      "Epoch 11/30\n",
      "29116/29116 [==============================] - 3s 87us/step - loss: 0.4979 - acc: 0.7645\n",
      "Epoch 12/30\n",
      "29116/29116 [==============================] - 3s 86us/step - loss: 0.4967 - acc: 0.7654\n",
      "Epoch 13/30\n",
      "29116/29116 [==============================] - 3s 87us/step - loss: 0.4960 - acc: 0.7674\n",
      "Epoch 14/30\n",
      "29116/29116 [==============================] - 3s 86us/step - loss: 0.4948 - acc: 0.7672\n",
      "Epoch 15/30\n",
      "29116/29116 [==============================] - 3s 87us/step - loss: 0.4939 - acc: 0.7689\n",
      "Epoch 16/30\n",
      "29116/29116 [==============================] - 3s 86us/step - loss: 0.4934 - acc: 0.7683\n",
      "Epoch 17/30\n",
      "29116/29116 [==============================] - 3s 86us/step - loss: 0.4930 - acc: 0.7684\n",
      "Epoch 18/30\n",
      "29116/29116 [==============================] - 3s 87us/step - loss: 0.4923 - acc: 0.7701\n",
      "Epoch 19/30\n",
      "29116/29116 [==============================] - 3s 87us/step - loss: 0.4920 - acc: 0.7690\n",
      "Epoch 20/30\n",
      "29116/29116 [==============================] - 3s 86us/step - loss: 0.4918 - acc: 0.7698\n",
      "Epoch 21/30\n",
      "29116/29116 [==============================] - 2s 86us/step - loss: 0.4913 - acc: 0.7706\n",
      "Epoch 22/30\n",
      "29116/29116 [==============================] - 3s 86us/step - loss: 0.4908 - acc: 0.7714\n",
      "Epoch 23/30\n",
      "29116/29116 [==============================] - 3s 86us/step - loss: 0.4908 - acc: 0.7716\n",
      "Epoch 24/30\n",
      "29116/29116 [==============================] - 3s 86us/step - loss: 0.4903 - acc: 0.7708\n",
      "Epoch 25/30\n",
      "29116/29116 [==============================] - 3s 86us/step - loss: 0.4901 - acc: 0.7727\n",
      "Epoch 26/30\n",
      "29116/29116 [==============================] - 3s 86us/step - loss: 0.4898 - acc: 0.7733\n",
      "Epoch 27/30\n",
      "29116/29116 [==============================] - 3s 86us/step - loss: 0.4899 - acc: 0.7732\n",
      "Epoch 28/30\n",
      "29116/29116 [==============================] - 3s 86us/step - loss: 0.4899 - acc: 0.7725\n",
      "Epoch 29/30\n",
      "29116/29116 [==============================] - 3s 87us/step - loss: 0.4892 - acc: 0.7728\n",
      "Epoch 30/30\n",
      "29116/29116 [==============================] - 3s 86us/step - loss: 0.4892 - acc: 0.7721\n",
      "14558/14558 [==============================] - 0s 23us/step\n",
      "29116/29116 [==============================] - 1s 21us/step\n",
      "Epoch 1/30\n",
      "29116/29116 [==============================] - 3s 88us/step - loss: 0.6057 - acc: 0.6698\n",
      "Epoch 2/30\n",
      "29116/29116 [==============================] - 2s 84us/step - loss: 0.5461 - acc: 0.7276\n",
      "Epoch 3/30\n",
      "29116/29116 [==============================] - 2s 84us/step - loss: 0.5300 - acc: 0.7414\n",
      "Epoch 4/30\n",
      "29116/29116 [==============================] - 2s 83us/step - loss: 0.5204 - acc: 0.7507\n",
      "Epoch 5/30\n",
      "29116/29116 [==============================] - 2s 84us/step - loss: 0.5143 - acc: 0.7555\n",
      "Epoch 6/30\n",
      "29116/29116 [==============================] - 2s 84us/step - loss: 0.5103 - acc: 0.7576\n",
      "Epoch 7/30\n",
      "29116/29116 [==============================] - 2s 83us/step - loss: 0.5078 - acc: 0.7591\n",
      "Epoch 8/30\n",
      "29116/29116 [==============================] - 2s 83us/step - loss: 0.5060 - acc: 0.7603\n",
      "Epoch 9/30\n",
      "29116/29116 [==============================] - 2s 84us/step - loss: 0.5044 - acc: 0.7603\n",
      "Epoch 10/30\n",
      "29116/29116 [==============================] - 2s 82us/step - loss: 0.5030 - acc: 0.7617\n",
      "Epoch 11/30\n",
      "29116/29116 [==============================] - 2s 84us/step - loss: 0.5020 - acc: 0.7615\n",
      "Epoch 12/30\n",
      "29116/29116 [==============================] - 2s 84us/step - loss: 0.5013 - acc: 0.7620\n",
      "Epoch 13/30\n",
      "29116/29116 [==============================] - 2s 83us/step - loss: 0.4999 - acc: 0.7627\n",
      "Epoch 14/30\n",
      "29116/29116 [==============================] - 2s 83us/step - loss: 0.4992 - acc: 0.7648\n",
      "Epoch 15/30\n",
      "29116/29116 [==============================] - 2s 84us/step - loss: 0.4978 - acc: 0.7647\n",
      "Epoch 16/30\n",
      "29116/29116 [==============================] - 2s 84us/step - loss: 0.4967 - acc: 0.7655\n",
      "Epoch 17/30\n",
      "29116/29116 [==============================] - 2s 84us/step - loss: 0.4956 - acc: 0.7659\n",
      "Epoch 18/30\n",
      "29116/29116 [==============================] - 2s 83us/step - loss: 0.4949 - acc: 0.7660\n",
      "Epoch 19/30\n",
      "29116/29116 [==============================] - 2s 83us/step - loss: 0.4933 - acc: 0.7673\n",
      "Epoch 20/30\n"
     ]
    },
    {
     "name": "stdout",
     "output_type": "stream",
     "text": [
      "29116/29116 [==============================] - 2s 83us/step - loss: 0.4921 - acc: 0.7679\n",
      "Epoch 21/30\n",
      "29116/29116 [==============================] - 2s 84us/step - loss: 0.4914 - acc: 0.7678\n",
      "Epoch 22/30\n",
      "29116/29116 [==============================] - 2s 83us/step - loss: 0.4907 - acc: 0.7670\n",
      "Epoch 23/30\n",
      "29116/29116 [==============================] - 2s 83us/step - loss: 0.4900 - acc: 0.7683\n",
      "Epoch 24/30\n",
      "29116/29116 [==============================] - 2s 83us/step - loss: 0.4892 - acc: 0.7693\n",
      "Epoch 25/30\n",
      "29116/29116 [==============================] - 2s 84us/step - loss: 0.4888 - acc: 0.7694\n",
      "Epoch 26/30\n",
      "29116/29116 [==============================] - 2s 84us/step - loss: 0.4886 - acc: 0.7690\n",
      "Epoch 27/30\n",
      "29116/29116 [==============================] - 2s 84us/step - loss: 0.4880 - acc: 0.7691\n",
      "Epoch 28/30\n",
      "29116/29116 [==============================] - 2s 84us/step - loss: 0.4875 - acc: 0.7701\n",
      "Epoch 29/30\n",
      "29116/29116 [==============================] - 2s 83us/step - loss: 0.4874 - acc: 0.7701\n",
      "Epoch 30/30\n",
      "29116/29116 [==============================] - 2s 84us/step - loss: 0.4870 - acc: 0.7702\n",
      "14558/14558 [==============================] - 0s 23us/step\n",
      "29116/29116 [==============================] - 1s 21us/step\n",
      "Epoch 1/30\n",
      "29116/29116 [==============================] - 2s 75us/step - loss: 0.6059 - acc: 0.6679\n",
      "Epoch 2/30\n",
      "29116/29116 [==============================] - 2s 72us/step - loss: 0.5604 - acc: 0.7145\n",
      "Epoch 3/30\n",
      "29116/29116 [==============================] - 2s 71us/step - loss: 0.5416 - acc: 0.7310\n",
      "Epoch 4/30\n",
      "29116/29116 [==============================] - 2s 71us/step - loss: 0.5280 - acc: 0.7409\n",
      "Epoch 5/30\n",
      "29116/29116 [==============================] - 2s 71us/step - loss: 0.5192 - acc: 0.7490\n",
      "Epoch 6/30\n",
      "29116/29116 [==============================] - 2s 71us/step - loss: 0.5130 - acc: 0.7545\n",
      "Epoch 7/30\n",
      "29116/29116 [==============================] - 2s 73us/step - loss: 0.5098 - acc: 0.7565\n",
      "Epoch 8/30\n",
      "29116/29116 [==============================] - 2s 72us/step - loss: 0.5071 - acc: 0.7573\n",
      "Epoch 9/30\n",
      "29116/29116 [==============================] - 2s 71us/step - loss: 0.5056 - acc: 0.7579\n",
      "Epoch 10/30\n",
      "29116/29116 [==============================] - 2s 72us/step - loss: 0.5039 - acc: 0.7602\n",
      "Epoch 11/30\n",
      "29116/29116 [==============================] - 2s 72us/step - loss: 0.5024 - acc: 0.7597\n",
      "Epoch 12/30\n",
      "29116/29116 [==============================] - 2s 72us/step - loss: 0.5011 - acc: 0.7612\n",
      "Epoch 13/30\n",
      "29116/29116 [==============================] - 2s 72us/step - loss: 0.5001 - acc: 0.7608\n",
      "Epoch 14/30\n",
      "29116/29116 [==============================] - 2s 72us/step - loss: 0.4988 - acc: 0.7617\n",
      "Epoch 15/30\n",
      "29116/29116 [==============================] - 2s 72us/step - loss: 0.4979 - acc: 0.7635\n",
      "Epoch 16/30\n",
      "29116/29116 [==============================] - 2s 72us/step - loss: 0.4968 - acc: 0.7628\n",
      "Epoch 17/30\n",
      "29116/29116 [==============================] - 2s 72us/step - loss: 0.4958 - acc: 0.7652\n",
      "Epoch 18/30\n",
      "29116/29116 [==============================] - 2s 72us/step - loss: 0.4951 - acc: 0.7669\n",
      "Epoch 19/30\n",
      "29116/29116 [==============================] - 2s 72us/step - loss: 0.4940 - acc: 0.7673\n",
      "Epoch 20/30\n",
      "29116/29116 [==============================] - 2s 71us/step - loss: 0.4929 - acc: 0.7685\n",
      "Epoch 21/30\n",
      "29116/29116 [==============================] - 2s 72us/step - loss: 0.4915 - acc: 0.7692\n",
      "Epoch 22/30\n",
      "29116/29116 [==============================] - 2s 72us/step - loss: 0.4905 - acc: 0.7693\n",
      "Epoch 23/30\n",
      "29116/29116 [==============================] - 2s 72us/step - loss: 0.4893 - acc: 0.7702\n",
      "Epoch 24/30\n",
      "29116/29116 [==============================] - 2s 72us/step - loss: 0.4888 - acc: 0.7706\n",
      "Epoch 25/30\n",
      "29116/29116 [==============================] - 2s 72us/step - loss: 0.4880 - acc: 0.7703\n",
      "Epoch 26/30\n",
      "29116/29116 [==============================] - 2s 72us/step - loss: 0.4874 - acc: 0.7710\n",
      "Epoch 27/30\n",
      "29116/29116 [==============================] - 2s 72us/step - loss: 0.4869 - acc: 0.7696\n",
      "Epoch 28/30\n",
      "29116/29116 [==============================] - 2s 71us/step - loss: 0.4865 - acc: 0.7704\n",
      "Epoch 29/30\n",
      "29116/29116 [==============================] - 2s 72us/step - loss: 0.4858 - acc: 0.7717\n",
      "Epoch 30/30\n",
      "29116/29116 [==============================] - 2s 72us/step - loss: 0.4859 - acc: 0.7721\n",
      "14558/14558 [==============================] - 0s 24us/step\n",
      "29116/29116 [==============================] - 1s 21us/step\n",
      "Epoch 1/30\n",
      "29116/29116 [==============================] - 2s 77us/step - loss: 0.6423 - acc: 0.6490\n",
      "Epoch 2/30\n",
      "29116/29116 [==============================] - 2s 73us/step - loss: 0.5504 - acc: 0.7232\n",
      "Epoch 3/30\n",
      "29116/29116 [==============================] - 2s 73us/step - loss: 0.5425 - acc: 0.7297\n",
      "Epoch 4/30\n",
      "29116/29116 [==============================] - 2s 72us/step - loss: 0.5381 - acc: 0.7335\n",
      "Epoch 5/30\n",
      "29116/29116 [==============================] - 2s 73us/step - loss: 0.5334 - acc: 0.7369\n",
      "Epoch 6/30\n",
      "29116/29116 [==============================] - 2s 73us/step - loss: 0.5288 - acc: 0.7440\n",
      "Epoch 7/30\n",
      "29116/29116 [==============================] - 2s 72us/step - loss: 0.5247 - acc: 0.7494\n",
      "Epoch 8/30\n",
      "29116/29116 [==============================] - 2s 73us/step - loss: 0.5210 - acc: 0.7519\n",
      "Epoch 9/30\n",
      "29116/29116 [==============================] - 2s 73us/step - loss: 0.5182 - acc: 0.7539\n",
      "Epoch 10/30\n",
      "29116/29116 [==============================] - 2s 73us/step - loss: 0.5162 - acc: 0.7558\n",
      "Epoch 11/30\n",
      "29116/29116 [==============================] - 2s 73us/step - loss: 0.5139 - acc: 0.7561\n",
      "Epoch 12/30\n",
      "29116/29116 [==============================] - 2s 72us/step - loss: 0.5120 - acc: 0.7567\n",
      "Epoch 13/30\n",
      "29116/29116 [==============================] - 2s 72us/step - loss: 0.5104 - acc: 0.7588\n",
      "Epoch 14/30\n",
      "29116/29116 [==============================] - 2s 73us/step - loss: 0.5091 - acc: 0.7594\n",
      "Epoch 15/30\n",
      "29116/29116 [==============================] - 2s 73us/step - loss: 0.5075 - acc: 0.7594\n",
      "Epoch 16/30\n",
      "29116/29116 [==============================] - 2s 73us/step - loss: 0.5063 - acc: 0.7615\n",
      "Epoch 17/30\n",
      "29116/29116 [==============================] - 2s 72us/step - loss: 0.5050 - acc: 0.7617\n",
      "Epoch 18/30\n",
      "29116/29116 [==============================] - 2s 72us/step - loss: 0.5041 - acc: 0.7634\n",
      "Epoch 19/30\n",
      "29116/29116 [==============================] - 2s 73us/step - loss: 0.5034 - acc: 0.7642\n",
      "Epoch 20/30\n",
      "29116/29116 [==============================] - 2s 72us/step - loss: 0.5018 - acc: 0.7646\n",
      "Epoch 21/30\n",
      "29116/29116 [==============================] - 2s 72us/step - loss: 0.5014 - acc: 0.7656\n",
      "Epoch 22/30\n",
      "29116/29116 [==============================] - 2s 72us/step - loss: 0.5003 - acc: 0.7653\n",
      "Epoch 23/30\n",
      "29116/29116 [==============================] - 2s 72us/step - loss: 0.4997 - acc: 0.7657\n",
      "Epoch 24/30\n",
      "29116/29116 [==============================] - 2s 72us/step - loss: 0.4992 - acc: 0.7668\n",
      "Epoch 25/30\n",
      "29116/29116 [==============================] - 2s 73us/step - loss: 0.4990 - acc: 0.7662\n",
      "Epoch 26/30\n",
      "29116/29116 [==============================] - 2s 73us/step - loss: 0.4987 - acc: 0.7669\n",
      "Epoch 27/30\n",
      "29116/29116 [==============================] - 2s 72us/step - loss: 0.4978 - acc: 0.7678\n",
      "Epoch 28/30\n",
      "29116/29116 [==============================] - 2s 72us/step - loss: 0.4978 - acc: 0.7677\n",
      "Epoch 29/30\n",
      "29116/29116 [==============================] - 2s 73us/step - loss: 0.4976 - acc: 0.7672\n",
      "Epoch 30/30\n",
      "29116/29116 [==============================] - 2s 72us/step - loss: 0.4976 - acc: 0.7671\n",
      "14558/14558 [==============================] - 0s 25us/step\n",
      "29116/29116 [==============================] - 1s 21us/step\n",
      "Epoch 1/30\n",
      "29116/29116 [==============================] - 2s 78us/step - loss: 0.6186 - acc: 0.6522\n",
      "Epoch 2/30\n",
      "29116/29116 [==============================] - 2s 73us/step - loss: 0.5528 - acc: 0.7188\n",
      "Epoch 3/30\n",
      "29116/29116 [==============================] - 2s 75us/step - loss: 0.5382 - acc: 0.7313\n",
      "Epoch 4/30\n",
      "29116/29116 [==============================] - 2s 73us/step - loss: 0.5256 - acc: 0.7443\n",
      "Epoch 5/30\n",
      "29116/29116 [==============================] - 2s 73us/step - loss: 0.5175 - acc: 0.7521\n",
      "Epoch 6/30\n",
      "29116/29116 [==============================] - 2s 73us/step - loss: 0.5134 - acc: 0.7558\n",
      "Epoch 7/30\n"
     ]
    },
    {
     "name": "stdout",
     "output_type": "stream",
     "text": [
      "29116/29116 [==============================] - 2s 73us/step - loss: 0.5105 - acc: 0.7574\n",
      "Epoch 8/30\n",
      "29116/29116 [==============================] - 2s 73us/step - loss: 0.5090 - acc: 0.7575\n",
      "Epoch 9/30\n",
      "29116/29116 [==============================] - 2s 75us/step - loss: 0.5077 - acc: 0.7605\n",
      "Epoch 10/30\n",
      "29116/29116 [==============================] - 2s 73us/step - loss: 0.5061 - acc: 0.7614\n",
      "Epoch 11/30\n",
      "29116/29116 [==============================] - 2s 73us/step - loss: 0.5048 - acc: 0.7611\n",
      "Epoch 12/30\n",
      "29116/29116 [==============================] - 2s 73us/step - loss: 0.5039 - acc: 0.7620\n",
      "Epoch 13/30\n",
      "29116/29116 [==============================] - 2s 73us/step - loss: 0.5029 - acc: 0.7614\n",
      "Epoch 14/30\n",
      "29116/29116 [==============================] - 2s 73us/step - loss: 0.5020 - acc: 0.7637\n",
      "Epoch 15/30\n",
      "29116/29116 [==============================] - 2s 73us/step - loss: 0.5013 - acc: 0.7633\n",
      "Epoch 16/30\n",
      "29116/29116 [==============================] - 2s 72us/step - loss: 0.5007 - acc: 0.7641\n",
      "Epoch 17/30\n",
      "29116/29116 [==============================] - 2s 73us/step - loss: 0.4999 - acc: 0.7644\n",
      "Epoch 18/30\n",
      "29116/29116 [==============================] - 2s 74us/step - loss: 0.4994 - acc: 0.7664\n",
      "Epoch 19/30\n",
      "29116/29116 [==============================] - 2s 73us/step - loss: 0.4983 - acc: 0.7654\n",
      "Epoch 20/30\n",
      "29116/29116 [==============================] - 2s 73us/step - loss: 0.4981 - acc: 0.7660\n",
      "Epoch 21/30\n",
      "29116/29116 [==============================] - 2s 74us/step - loss: 0.4975 - acc: 0.7660\n",
      "Epoch 22/30\n",
      "29116/29116 [==============================] - 2s 72us/step - loss: 0.4967 - acc: 0.7666\n",
      "Epoch 23/30\n",
      "29116/29116 [==============================] - 2s 75us/step - loss: 0.4960 - acc: 0.7674\n",
      "Epoch 24/30\n",
      "29116/29116 [==============================] - 2s 75us/step - loss: 0.4955 - acc: 0.7679\n",
      "Epoch 25/30\n",
      "29116/29116 [==============================] - 2s 73us/step - loss: 0.4948 - acc: 0.7668\n",
      "Epoch 26/30\n",
      "29116/29116 [==============================] - 2s 73us/step - loss: 0.4941 - acc: 0.7689\n",
      "Epoch 27/30\n",
      "29116/29116 [==============================] - 2s 74us/step - loss: 0.4939 - acc: 0.7684\n",
      "Epoch 28/30\n",
      "29116/29116 [==============================] - 2s 73us/step - loss: 0.4932 - acc: 0.7690\n",
      "Epoch 29/30\n",
      "29116/29116 [==============================] - 2s 73us/step - loss: 0.4930 - acc: 0.7681\n",
      "Epoch 30/30\n",
      "29116/29116 [==============================] - 2s 73us/step - loss: 0.4924 - acc: 0.7693\n",
      "14558/14558 [==============================] - 0s 26us/step\n",
      "29116/29116 [==============================] - 1s 22us/step\n",
      "Epoch 1/30\n",
      "43674/43674 [==============================] - 3s 76us/step - loss: 0.6093 - acc: 0.6794\n",
      "Epoch 2/30\n",
      "43674/43674 [==============================] - 3s 72us/step - loss: 0.5472 - acc: 0.7316\n",
      "Epoch 3/30\n",
      "43674/43674 [==============================] - 3s 71us/step - loss: 0.5343 - acc: 0.7407\n",
      "Epoch 4/30\n",
      "43674/43674 [==============================] - 3s 71us/step - loss: 0.5277 - acc: 0.7458\n",
      "Epoch 5/30\n",
      "43674/43674 [==============================] - 3s 72us/step - loss: 0.5238 - acc: 0.7475\n",
      "Epoch 6/30\n",
      "43674/43674 [==============================] - 3s 72us/step - loss: 0.5208 - acc: 0.7488\n",
      "Epoch 7/30\n",
      "43674/43674 [==============================] - 3s 72us/step - loss: 0.5189 - acc: 0.7494\n",
      "Epoch 8/30\n",
      "43674/43674 [==============================] - 3s 72us/step - loss: 0.5174 - acc: 0.7506\n",
      "Epoch 9/30\n",
      "43674/43674 [==============================] - 3s 73us/step - loss: 0.5162 - acc: 0.7521\n",
      "Epoch 10/30\n",
      "43674/43674 [==============================] - 3s 72us/step - loss: 0.5150 - acc: 0.7520\n",
      "Epoch 11/30\n",
      "43674/43674 [==============================] - 3s 72us/step - loss: 0.5142 - acc: 0.7532\n",
      "Epoch 12/30\n",
      "43674/43674 [==============================] - 3s 72us/step - loss: 0.5131 - acc: 0.7538\n",
      "Epoch 13/30\n",
      "43674/43674 [==============================] - 3s 72us/step - loss: 0.5125 - acc: 0.7541\n",
      "Epoch 14/30\n",
      "43674/43674 [==============================] - 3s 72us/step - loss: 0.5119 - acc: 0.7546\n",
      "Epoch 15/30\n",
      "43674/43674 [==============================] - 3s 72us/step - loss: 0.5113 - acc: 0.7548\n",
      "Epoch 16/30\n",
      "43674/43674 [==============================] - 3s 72us/step - loss: 0.5105 - acc: 0.7551\n",
      "Epoch 17/30\n",
      "43674/43674 [==============================] - 3s 71us/step - loss: 0.5095 - acc: 0.7554\n",
      "Epoch 18/30\n",
      "43674/43674 [==============================] - 3s 72us/step - loss: 0.5091 - acc: 0.7561\n",
      "Epoch 19/30\n",
      "43674/43674 [==============================] - 3s 73us/step - loss: 0.5087 - acc: 0.7560\n",
      "Epoch 20/30\n",
      "43674/43674 [==============================] - 3s 73us/step - loss: 0.5080 - acc: 0.7566\n",
      "Epoch 21/30\n",
      "43674/43674 [==============================] - 3s 72us/step - loss: 0.5067 - acc: 0.7571\n",
      "Epoch 22/30\n",
      "43674/43674 [==============================] - 3s 72us/step - loss: 0.5063 - acc: 0.7576\n",
      "Epoch 23/30\n",
      "43674/43674 [==============================] - 3s 71us/step - loss: 0.5055 - acc: 0.7575\n",
      "Epoch 24/30\n",
      "43674/43674 [==============================] - 3s 72us/step - loss: 0.5046 - acc: 0.7583\n",
      "Epoch 25/30\n",
      "43674/43674 [==============================] - 3s 72us/step - loss: 0.5040 - acc: 0.7579\n",
      "Epoch 26/30\n",
      "43674/43674 [==============================] - 3s 72us/step - loss: 0.5030 - acc: 0.7597\n",
      "Epoch 27/30\n",
      "43674/43674 [==============================] - 3s 72us/step - loss: 0.5022 - acc: 0.7591\n",
      "Epoch 28/30\n",
      "43674/43674 [==============================] - 3s 72us/step - loss: 0.5019 - acc: 0.7598\n",
      "Epoch 29/30\n",
      "43674/43674 [==============================] - 3s 72us/step - loss: 0.5013 - acc: 0.7600\n",
      "Epoch 30/30\n",
      "43674/43674 [==============================] - 3s 72us/step - loss: 0.5003 - acc: 0.7610\n",
      "CPU times: user 9min 5s, sys: 4min 39s, total: 13min 45s\n",
      "Wall time: 8min 34s\n"
     ]
    },
    {
     "data": {
      "text/plain": [
       "GridSearchCV(cv=3, error_score='raise',\n",
       "       estimator=<keras.wrappers.scikit_learn.KerasClassifier object at 0x108356b70>,\n",
       "       fit_params=None, iid=True, n_jobs=1,\n",
       "       param_grid={'epochs': [30], 'optimizer': ['adam', 'rmsprop']},\n",
       "       pre_dispatch='2*n_jobs', refit=True, return_train_score='warn',\n",
       "       scoring=None, verbose=0)"
      ]
     },
     "execution_count": 54,
     "metadata": {},
     "output_type": "execute_result"
    }
   ],
   "source": [
    "%time keras_cv.fit(X_train,y_train_matrix)"
   ]
  },
  {
   "cell_type": "code",
   "execution_count": 55,
   "metadata": {},
   "outputs": [
    {
     "name": "stdout",
     "output_type": "stream",
     "text": [
      "CPU times: user 335 ms, sys: 50.9 ms, total: 386 ms\n",
      "Wall time: 294 ms\n",
      "Best Parameters: {'epochs': 30, 'optimizer': 'rmsprop'}\n",
      "Best score is 0.7667033017273979\n"
     ]
    }
   ],
   "source": [
    "%time y_pred = keras_cv.predict(X_test)\n",
    "\n",
    "print(\"Best Parameters: {}\".format(keras_cv.best_params_)) \n",
    "print(\"Best score is {}\".format(keras_cv.best_score_))"
   ]
  },
  {
   "cell_type": "code",
   "execution_count": 56,
   "metadata": {},
   "outputs": [
    {
     "name": "stdout",
     "output_type": "stream",
     "text": [
      "#####################\n",
      "Test data\n",
      "#####################\n",
      "             precision    recall  f1-score   support\n",
      "\n",
      "        0.0       0.76      0.76      0.76      9297\n",
      "        1.0       0.76      0.76      0.76      9421\n",
      "\n",
      "avg / total       0.76      0.76      0.76     18718\n",
      "\n",
      "#####################\n"
     ]
    },
    {
     "data": {
      "image/png": "[encoded data removed]",
      "text/plain": [
       "<Figure size 432x288 with 2 Axes>"
      ]
     },
     "metadata": {},
     "output_type": "display_data"
    }
   ],
   "source": [
    "neural_network_results(y_test,y_pred)"
   ]
  },
  {
   "cell_type": "markdown",
   "metadata": {},
   "source": [
    "### Results\n",
    "***"
   ]
  },
  {
   "cell_type": "code",
   "execution_count": 58,
   "metadata": {},
   "outputs": [
    {
     "data": {
      "text/html": [
       "<div>\n",
       "<style scoped>\n",
       "    .dataframe tbody tr th:only-of-type {\n",
       "        vertical-align: middle;\n",
       "    }\n",
       "\n",
       "    .dataframe tbody tr th {\n",
       "        vertical-align: top;\n",
       "    }\n",
       "\n",
       "    .dataframe thead th {\n",
       "        text-align: right;\n",
       "    }\n",
       "</style>\n",
       "<table border=\"1\" class=\"dataframe\">\n",
       "  <thead>\n",
       "    <tr style=\"text-align: right;\">\n",
       "      <th></th>\n",
       "      <th>Accuracy</th>\n",
       "      <th>Fitting Time</th>\n",
       "      <th>Prediction Time</th>\n",
       "    </tr>\n",
       "  </thead>\n",
       "  <tbody>\n",
       "    <tr>\n",
       "      <th>Logistic Regression</th>\n",
       "      <td>69.99%</td>\n",
       "      <td>1.84s</td>\n",
       "      <td>1.82 ms</td>\n",
       "    </tr>\n",
       "    <tr>\n",
       "      <th>SVM</th>\n",
       "      <td>69.83%</td>\n",
       "      <td>12min 16s</td>\n",
       "      <td>6.6 s</td>\n",
       "    </tr>\n",
       "    <tr>\n",
       "      <th>Random Forest</th>\n",
       "      <td>79.68%</td>\n",
       "      <td>6.74s</td>\n",
       "      <td>100 ms</td>\n",
       "    </tr>\n",
       "    <tr>\n",
       "      <th>NN(1 hidden layer,8 nodes)</th>\n",
       "      <td>76.67%</td>\n",
       "      <td>8min 34s</td>\n",
       "      <td>294ms</td>\n",
       "    </tr>\n",
       "  </tbody>\n",
       "</table>\n",
       "</div>"
      ],
      "text/plain": [
       "                           Accuracy Fitting Time Prediction Time\n",
       "Logistic Regression          69.99%        1.84s         1.82 ms\n",
       "SVM                          69.83%    12min 16s           6.6 s\n",
       "Random Forest                79.68%        6.74s          100 ms\n",
       "NN(1 hidden layer,8 nodes)   76.67%     8min 34s           294ms"
      ]
     },
     "execution_count": 58,
     "metadata": {},
     "output_type": "execute_result"
    }
   ],
   "source": [
    "d = {'Accuracy': {'SVM': '69.83%', 'Random Forest': '79.68%', 'Logistic Regression': '69.99%','NN(1 hidden layer,8 nodes)': '76.67%'}, \n",
    "     'Fitting Time': {'SVM': '12min 16s', 'Random Forest': '6.74s', 'Logistic Regression': '1.84s','NN(1 hidden layer,8 nodes)': '8min 34s'}, \n",
    "     'Prediction Time': {'SVM': '6.6 s', 'Random Forest': '100 ms', 'Logistic Regression': '1.82 ms', 'NN(1 hidden layer,8 nodes)': '294ms'}}\n",
    "df = pd.DataFrame(d).reindex(index = ['Logistic Regression','SVM','Random Forest', 'NN(1 hidden layer,8 nodes)'])\n",
    "df"
   ]
  },
  {
   "cell_type": "markdown",
   "metadata": {},
   "source": [
    "### Conclusion\n",
    "***\n",
    "Decided to test 3 different classifiers and a neural network. At first, without balancing the data, the neural network with 1 hidden layer and 8 nodes was performing the better than the other techniques. After balancing the data using SMOTE, Random Forests did better than the other algorithms with an accuracy of **79.68%**. As well, it was a really quick computation that took only **6.74s** compared to the neural network that can be fitted to have better accuracy with more layers added to it. However, it would increase training time.\n",
    "\n",
    "As we saw, most of the trips occur in Winterfell. A suggestion is to analyze deeper what is happening in that city to increase retention in other cities. As well, increase android users since most of users tend to be iphone. "
   ]
  },
  {
   "cell_type": "code",
   "execution_count": null,
   "metadata": {},
   "outputs": [],
   "source": []
  }
 ],
 "metadata": {
  "kernelspec": {
   "display_name": "Python [default]",
   "language": "python",
   "name": "python3"
  },
  "language_info": {
   "codemirror_mode": {
    "name": "ipython",
    "version": 3
   },
   "file_extension": ".py",
   "mimetype": "text/x-python",
   "name": "python",
   "nbconvert_exporter": "python",
   "pygments_lexer": "ipython3",
   "version": "3.6.4"
  }
 },
 "nbformat": 4,
 "nbformat_minor": 2
}
